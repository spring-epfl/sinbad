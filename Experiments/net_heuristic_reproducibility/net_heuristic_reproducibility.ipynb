{
 "cells": [
  {
   "cell_type": "code",
   "execution_count": 1,
   "metadata": {},
   "outputs": [
    {
     "name": "stderr",
     "output_type": "stream",
     "text": [
      "/home/saiid/miniconda3/envs/openwpm/lib/python3.10/site-packages/tqdm/auto.py:22: TqdmWarning: IProgress not found. Please update jupyter and ipywidgets. See https://ipywidgets.readthedocs.io/en/stable/user_install.html\n",
      "  from .autonotebook import tqdm as notebook_tqdm\n"
     ]
    }
   ],
   "source": [
    "import pandas as pd \n",
    "from dotenv import load_dotenv, find_dotenv\n",
    "import swifter\n",
    "\n",
    "from tqdm import tqdm\n",
    "import os\n",
    "from pathlib import Path\n",
    "load_dotenv()\n",
    "DOTENV_PATH = find_dotenv()\n",
    "\n",
    "import BreakageClassifier.code.forums.utils as forum_utils\n",
    "import BreakageClassifier.code.forums.filterlists as forum_filterlists\n",
    "from net_rep import Crawler\n",
    "import sqlite3 as sql"
   ]
  },
  {
   "cell_type": "code",
   "execution_count": 2,
   "metadata": {},
   "outputs": [
    {
     "name": "stdout",
     "output_type": "stream",
     "text": [
      "investigated_issues: 170\n",
      "Reproducible issues: 75\n",
      "Unreproducible issues: 95\n"
     ]
    }
   ],
   "source": [
    "issues_df = pd.read_csv('../forums-out/easylist/easylist-data.csv')\n",
    "reproduce_df = pd.read_csv('../forums-out/easylist/manual-reproduce.csv')\n",
    "reproduce_df = reproduce_df.dropna()\n",
    "investigated_issues = reproduce_df.dropna().id.unique().astype(int).tolist()\n",
    "\n",
    "issues_df = issues_df[issues_df.id.isin(investigated_issues)]\n",
    "print(f\"investigated_issues: {len(investigated_issues)}\")\n",
    "print(f\"Reproducible issues: {len(reproduce_df[reproduce_df.reproduce == True])}\")\n",
    "print(f\"Unreproducible issues: {len(reproduce_df[reproduce_df.reproduce == False])}\")\n",
    "\n",
    "issues_fp = Path(\"../net_rep-out/easylist/easylist-data-rep.csv\")\n"
   ]
  },
  {
   "cell_type": "code",
   "execution_count": 3,
   "metadata": {},
   "outputs": [],
   "source": [
    "issues_df = issues_df[issues_df.repo == \"easylist/easylist\"]\n"
   ]
  },
  {
   "cell_type": "code",
   "execution_count": 4,
   "metadata": {},
   "outputs": [],
   "source": [
    "issue = issues_df.iloc[0]\n",
    "after_commit = issue.after_commit\n",
    "after_commit_par = forum_utils.get_commit_parent(\"easylist/easylist\", after_commit)\n",
    "before_commit = issue.before_commit"
   ]
  },
  {
   "cell_type": "code",
   "execution_count": 7,
   "metadata": {},
   "outputs": [],
   "source": [
    "issues_df.to_csv(issues_fp, index=False)"
   ]
  },
  {
   "cell_type": "code",
   "execution_count": null,
   "metadata": {},
   "outputs": [],
   "source": [
    "issue_commits = []\n",
    "\n",
    "for _, issue in tqdm(issues_df.iterrows(), total=len(issues_df)):\n",
    "    after_commit = issue.after_commit\n",
    "    after_commit_date = forum_utils.get_commit_date(\"easylist/easylist\", after_commit)\n",
    "    after_commit_par = forum_utils.get_commit_parent(\"easylist/easylist\", after_commit)\n",
    "    after_commit_par_date = forum_utils.get_commit_date(\"easylist/easylist\", after_commit_par)\n",
    "    before_commit = issue.before_commit\n",
    "    before_commit_date = forum_utils.get_commit_date(\"easylist/easylist\", before_commit)\n",
    "    \n",
    "    issue_commits.append({\n",
    "        \"id\": issue.id,\n",
    "        \"before_commit\": before_commit,\n",
    "        \"before_commit_date\": before_commit_date,\n",
    "        \"after_commit_par\": after_commit_par,\n",
    "        \"after_commit_par_date\": after_commit_par_date,\n",
    "        \"after_commit\": after_commit,\n",
    "        \"after_commit_date\": after_commit_date,\n",
    "    })\n",
    "    \n",
    "issue_commits_df = pd.DataFrame(issue_commits)\n",
    "        "
   ]
  },
  {
   "cell_type": "code",
   "execution_count": null,
   "metadata": {},
   "outputs": [],
   "source": [
    "os.makedirs(\"../net_rep-out/easylist\", exist_ok=True)\n",
    "issue_commits_df.to_csv(\"../net_rep-out/easylist/issue-commits.csv\", index=False)"
   ]
  },
  {
   "cell_type": "code",
   "execution_count": 4,
   "metadata": {},
   "outputs": [],
   "source": [
    "issue_commits_df = pd.read_csv(\"../net_rep-out/easylist/issue-commits.csv\")"
   ]
  },
  {
   "cell_type": "code",
   "execution_count": 13,
   "metadata": {},
   "outputs": [
    {
     "data": {
      "text/plain": [
       "[1492660]"
      ]
     },
     "execution_count": 13,
     "metadata": {},
     "output_type": "execute_result"
    }
   ],
   "source": [
    "forum_filterlists.get_filterlist_from_post(\n",
    "    {\n",
    "        \"easylist\": {\n",
    "            \"repo\": \"easylist/easylist\",\n",
    "            \"dirs\": [\"/easylist/\"]\n",
    "        }\n",
    "    }, \n",
    "    Path(\"../net_rep-out/easylist/filterlists\") / str(issue.id) / \"before.txt\",\n",
    "    \n",
    "    commit_dict={\n",
    "        \"easylist\": {\n",
    "            \"sha\": issue.before_commit,\n",
    "            \"date\": None\n",
    "        }\n",
    "    }\n",
    ")"
   ]
  },
  {
   "cell_type": "code",
   "execution_count": 4,
   "metadata": {},
   "outputs": [
    {
     "name": "stdout",
     "output_type": "stream",
     "text": [
      "browser_manager      - INFO     - BROWSER 2059658170: Launching browser...\n",
      "task_manager         - INFO     - \n",
      "\n",
      "OpenWPM Version: b'524fa73'\n",
      "Firefox Version: b'100.0'\n",
      "\n",
      "========== Manager Configuration ==========\n",
      "{\n",
      "  \"_failure_limit\": null,\n",
      "  \"data_directory\": \"/home/saiid/summer22-SaiidHajj/Experiments/net_rep-out/easylist/crawl\",\n",
      "  \"log_path\": \"/home/saiid/summer22-SaiidHajj/Experiments/net_rep-out/easylist/crawl/openwpm.log\",\n",
      "  \"logger_address\": [\n",
      "    \"127.0.0.1\",\n",
      "    38071\n",
      "  ],\n",
      "  \"memory_watchdog\": false,\n",
      "  \"num_browsers\": 1,\n",
      "  \"process_watchdog\": false,\n",
      "  \"screenshot_path\": \"/home/saiid/summer22-SaiidHajj/Experiments/net_rep-out/easylist/crawl/screenshots\",\n",
      "  \"source_dump_path\": \"/home/saiid/summer22-SaiidHajj/Experiments/net_rep-out/easylist/crawl/sources\",\n",
      "  \"storage_controller_address\": [\n",
      "    \"127.0.0.1\",\n",
      "    42021\n",
      "  ],\n",
      "  \"testing\": false\n",
      "}\n",
      "\n",
      "========== Browser Configuration ==========\n",
      "Keys:\n",
      "{\n",
      "  \"browser_id\": 0,\n",
      "  \"bot_mitigation\": 1,\n",
      "  \"browser\": 2,\n",
      "  \"callstack_instrument\": 3,\n",
      "  \"cookie_instrument\": 4,\n",
      "  \"custom_params\": 5,\n",
      "  \"display_mode\": 6,\n",
      "  \"dns_instrument\": 7,\n",
      "  \"donottrack\": 8,\n",
      "  \"extension_enabled\": 9,\n",
      "  \"http_instrument\": 10,\n",
      "  \"js_instrument\": 11,\n",
      "  \"js_instrument_settings\": 12,\n",
      "  \"navigation_instrument\": 13,\n",
      "  \"prefs\": 14,\n",
      "  \"profile_path\": 15,\n",
      "  \"recovery_tar\": 16,\n",
      "  \"save_content\": 17,\n",
      "  \"tp_cookies\": 18,\n",
      "  \"tracking_protection\": 19\n",
      "}\n",
      "\n",
      "         0  1      2        3     4     5    6         7     8      9     10    11    12                             13    14    15    16    17     18      19\n",
      "----------  -----  -------  ----  ----  ---  --------  ----  -----  ----  ----  ----  -----------------------------  ----  ----  ----  ----  -----  ------  -----\n",
      "2059658170  False  firefox  True  True  {}   headless  True  False  True  True  True  ['collection_fingerprinting']  True  {}                False  always  False\n",
      "\n",
      "========== JS Instrument Settings ==========\n",
      "{\"2059658170\":[{\"object\":\"window['ScriptProcessorNode'].prototype\",\"instrumentedName\":\"ScriptProcessorNode\",\"logSettings\":{\"propertiesToInstrument\":[],\"nonExistingPropertiesToInstrument\":[],\"excludedProperties\":[],\"logCallStack\":false,\"logFunctionsAsStrings\":false,\"logFunctionGets\":false,\"preventSets\":false,\"recursive\":false,\"depth\":5}},{\"object\":\"window['GainNode'].prototype\",\"instrumentedName\":\"GainNode\",\"logSettings\":{\"propertiesToInstrument\":[],\"nonExistingPropertiesToInstrument\":[],\"excludedProperties\":[],\"logCallStack\":false,\"logFunctionsAsStrings\":false,\"logFunctionGets\":false,\"preventSets\":false,\"recursive\":false,\"depth\":5}},{\"object\":\"window['AnalyserNode'].prototype\",\"instrumentedName\":\"AnalyserNode\",\"logSettings\":{\"propertiesToInstrument\":[],\"nonExistingPropertiesToInstrument\":[],\"excludedProperties\":[],\"logCallStack\":false,\"logFunctionsAsStrings\":false,\"logFunctionGets\":false,\"preventSets\":false,\"recursive\":false,\"depth\":5}},{\"object\":\"window['OscillatorNode'].prototype\",\"instrumentedName\":\"OscillatorNode\",\"logSettings\":{\"propertiesToInstrument\":[],\"nonExistingPropertiesToInstrument\":[],\"excludedProperties\":[],\"logCallStack\":false,\"logFunctionsAsStrings\":false,\"logFunctionGets\":false,\"preventSets\":false,\"recursive\":false,\"depth\":5}},{\"object\":\"window['OfflineAudioContext'].prototype\",\"instrumentedName\":\"OfflineAudioContext\",\"logSettings\":{\"propertiesToInstrument\":[],\"nonExistingPropertiesToInstrument\":[],\"excludedProperties\":[],\"logCallStack\":false,\"logFunctionsAsStrings\":false,\"logFunctionGets\":false,\"preventSets\":false,\"recursive\":false,\"depth\":5}},{\"object\":\"window['AudioContext'].prototype\",\"instrumentedName\":\"AudioContext\",\"logSettings\":{\"propertiesToInstrument\":[],\"nonExistingPropertiesToInstrument\":[],\"excludedProperties\":[],\"logCallStack\":false,\"logFunctionsAsStrings\":false,\"logFunctionGets\":false,\"preventSets\":false,\"recursive\":false,\"depth\":5}},{\"object\":\"window['RTCPeerConnection'].prototype\",\"instrumentedName\":\"RTCPeerConnection\",\"logSettings\":{\"propertiesToInstrument\":[],\"nonExistingPropertiesToInstrument\":[],\"excludedProperties\":[],\"logCallStack\":false,\"logFunctionsAsStrings\":false,\"logFunctionGets\":false,\"preventSets\":false,\"recursive\":false,\"depth\":5}},{\"object\":\"window['HTMLCanvasElement'].prototype\",\"instrumentedName\":\"HTMLCanvasElement\",\"logSettings\":{\"propertiesToInstrument\":[],\"nonExistingPropertiesToInstrument\":[],\"excludedProperties\":[],\"logCallStack\":false,\"logFunctionsAsStrings\":false,\"logFunctionGets\":false,\"preventSets\":false,\"recursive\":false,\"depth\":5}},{\"object\":\"window['Storage'].prototype\",\"instrumentedName\":\"Storage\",\"logSettings\":{\"propertiesToInstrument\":[],\"nonExistingPropertiesToInstrument\":[],\"excludedProperties\":[],\"logCallStack\":false,\"logFunctionsAsStrings\":false,\"logFunctionGets\":false,\"preventSets\":false,\"recursive\":false,\"depth\":5}},{\"object\":\"window.navigator\",\"instrumentedName\":\"window.navigator\",\"logSettings\":{\"propertiesToInstrument\":[],\"nonExistingPropertiesToInstrument\":[],\"excludedProperties\":[],\"logCallStack\":false,\"logFunctionsAsStrings\":false,\"logFunctionGets\":false,\"preventSets\":false,\"recursive\":false,\"depth\":5}},{\"object\":\"window['CanvasRenderingContext2D'].prototype\",\"instrumentedName\":\"CanvasRenderingContext2D\",\"logSettings\":{\"propertiesToInstrument\":[],\"nonExistingPropertiesToInstrument\":[],\"excludedProperties\":[\"moveTo\",\"beginPath\",\"lineTo\",\"canvas\",\"transform\",\"translate\",\"quadraticCurveTo\",\"globalAlpha\",\"clearRect\",\"drawImage\",\"setTransform\",\"closePath\"],\"logCallStack\":false,\"logFunctionsAsStrings\":false,\"logFunctionGets\":false,\"preventSets\":false,\"recursive\":false,\"depth\":5}},{\"object\":\"window\",\"instrumentedName\":\"window\",\"logSettings\":{\"propertiesToInstrument\":[\"sessionStorage\",\"name\",\"localStorage\"],\"nonExistingPropertiesToInstrument\":[],\"excludedProperties\":[],\"logCallStack\":false,\"logFunctionsAsStrings\":false,\"logFunctionGets\":false,\"preventSets\":false,\"recursive\":false,\"depth\":5}},{\"object\":\"window.document\",\"instrumentedName\":\"window.document\",\"logSettings\":{\"propertiesToInstrument\":[\"referrer\",\"cookie\"],\"nonExistingPropertiesToInstrument\":[],\"excludedProperties\":[],\"logCallStack\":true,\"logFunctionsAsStrings\":false,\"logFunctionGets\":false,\"preventSets\":false,\"recursive\":false,\"depth\":5}},{\"object\":\"window.screen\",\"instrumentedName\":\"window.screen\",\"logSettings\":{\"propertiesToInstrument\":[\"colorDepth\",\"pixelDepth\"],\"nonExistingPropertiesToInstrument\":[],\"excludedProperties\":[],\"logCallStack\":false,\"logFunctionsAsStrings\":false,\"logFunctionGets\":false,\"preventSets\":false,\"recursive\":false,\"depth\":5}}]}\n",
      "\n",
      "========== Input profile tar files ==========\n",
      "  No profile tar files specified\n",
      "\n",
      "========== Output (archive) profile dirs ==========\n",
      "  No profile archive directories specified\n",
      "\n",
      "\n",
      "storage_controller   - INFO     - Awaiting all tasks for visit_id -1\n",
      "browser_manager      - INFO     - Starting to work on CommandSequence with visit_id 3095693365815667 on browser with id 2059658170\n",
      "storage_controller   - INFO     - Terminating handler, because the underlying socket closed\n"
     ]
    },
    {
     "name": "stderr",
     "output_type": "stream",
     "text": [
      "  0%|          | 0/2 [00:00<?, ?it/s]"
     ]
    },
    {
     "name": "stdout",
     "output_type": "stream",
     "text": [
      "browser_manager      - INFO     - BROWSER 2059658170: EXECUTING COMMAND: InitializeCommand()\n",
      "browser_manager      - INFO     - BROWSER 2059658170: EXECUTING COMMAND: AddonSetupCommand\n",
      "addon                - INFO     - UBlock installed @ moz-extension://e144de8d-dfae-4830-9716-1ad6a950058f\n",
      "addon                - INFO     - Ublock should be installed. (check=False)\n",
      "browser_manager      - INFO     - BROWSER 2059658170: EXECUTING COMMAND: FinalizeCommand(5)\n",
      "browser_manager      - INFO     - Finished working on CommandSequence with visit_id 3095693365815667 on browser with id 2059658170\n",
      "storage_controller   - INFO     - Awaiting all tasks for visit_id 3095693365815667\n",
      "browser_manager      - INFO     - Starting to work on CommandSequence with visit_id 8550647438703311 on browser with id 2059658170\n",
      "browser_manager      - INFO     - BROWSER 2059658170: EXECUTING COMMAND: InitializeCommand()\n",
      "browser_manager      - INFO     - BROWSER 2059658170: EXECUTING COMMAND: ClearCookiesCommand\n",
      "cookies              - INFO     - Cleared cookies\n",
      "browser_manager      - INFO     - BROWSER 2059658170: EXECUTING COMMAND: FilterListLoadCommand\n",
      "addon                - INFO     - Filterlist should be loaded (check=False)\n",
      "browser_manager      - INFO     - BROWSER 2059658170: EXECUTING COMMAND: GetCommand(https://reciteme.com,3)\n",
      "browser_manager      - INFO     - BROWSER 2059658170: EXECUTING COMMAND: FinalizeCommand(5)\n",
      "browser_manager      - INFO     - Finished working on CommandSequence with visit_id 8550647438703311 on browser with id 2059658170\n",
      "storage_controller   - INFO     - Awaiting all tasks for visit_id 8550647438703311\n",
      "net_rep              - INFO     - issue 47349 [1/1]: {None} filterlist crawl success | https://reciteme.com\n",
      "net_rep              - INFO     - Stats: successfull crawls - 1/1 ~ 100% | successfull issues - 1/1 ~ 100%\n"
     ]
    },
    {
     "name": "stderr",
     "output_type": "stream",
     "text": [
      "100%|██████████| 2/2 [00:38<00:00, 19.09s/it]"
     ]
    },
    {
     "name": "stdout",
     "output_type": "stream",
     "text": [
      "browser_manager      - INFO     - Starting to work on CommandSequence with visit_id 6937002739254767 on browser with id 2059658170\n",
      "browser_manager      - INFO     - BROWSER 2059658170: EXECUTING COMMAND: InitializeCommand()\n",
      "browser_manager      - INFO     - BROWSER 2059658170: EXECUTING COMMAND: ClearCookiesCommand\n",
      "cookies              - INFO     - Cleared cookies\n",
      "browser_manager      - INFO     - BROWSER 2059658170: EXECUTING COMMAND: FilterListLoadCommand\n",
      "addon                - INFO     - Filterlist should be loaded (check=False)\n",
      "browser_manager      - INFO     - BROWSER 2059658170: EXECUTING COMMAND: GetCommand(https://www.overclockers.co.uk/,3)\n",
      "browser_manager      - INFO     - BROWSER 2059658170: EXECUTING COMMAND: FinalizeCommand(5)\n",
      "browser_manager      - INFO     - Finished working on CommandSequence with visit_id 6937002739254767 on browser with id 2059658170\n",
      "storage_controller   - INFO     - Awaiting all tasks for visit_id 6937002739254767\n",
      "net_rep              - INFO     - issue 47396 [1/1]: {None} filterlist crawl success | https://www.overclockers.co.uk/\n",
      "net_rep              - INFO     - Stats: successfull crawls - 2/2 ~ 100% | successfull issues - 2/2 ~ 100%\n"
     ]
    },
    {
     "name": "stderr",
     "output_type": "stream",
     "text": [
      "100%|██████████| 2/2 [01:07<00:00, 33.73s/it]\n"
     ]
    },
    {
     "name": "stdout",
     "output_type": "stream",
     "text": [
      "storage_controller   - INFO     - Terminating handler, because the underlying socket closed\n",
      "storage_controller   - INFO     - Terminating handler, because the underlying socket closed\n",
      "storage_controller   - INFO     - Received shutdown signal!\n",
      "storage_controller   - INFO     - Awaiting all tasks for visit_id 8550647438703311\n",
      "sql_provider         - WARNING  - Visit with visit_id 8550647438703311 got interrupted\n",
      "storage_controller   - INFO     - Awaiting all tasks for visit_id 6937002739254767\n",
      "sql_provider         - WARNING  - Visit with visit_id 6937002739254767 got interrupted\n"
     ]
    },
    {
     "name": "stderr",
     "output_type": "stream",
     "text": [
      "Executing <Task pending name='Task-4' coro=<StorageController._run() running at /home/saiid/OpenWPM/openwpm/storage/storage_controller.py:353> wait_for=<Task pending name='CompletionQueueFeeder' coro=<StorageController.update_completion_queue() running at /home/saiid/OpenWPM/openwpm/storage/storage_controller.py:323> wait_for=<Future pending cb=[Task.task_wakeup()] created at /home/saiid/miniconda3/envs/openwpm/lib/python3.10/asyncio/base_events.py:429> cb=[Task.task_wakeup()] created at /home/saiid/miniconda3/envs/openwpm/lib/python3.10/asyncio/tasks.py:337> cb=[_run_until_complete_cb() at /home/saiid/miniconda3/envs/openwpm/lib/python3.10/asyncio/base_events.py:184] created at /home/saiid/miniconda3/envs/openwpm/lib/python3.10/asyncio/tasks.py:636> took 0.125 seconds\n"
     ]
    },
    {
     "name": "stdout",
     "output_type": "stream",
     "text": [
      "Shutdown took 7.936984539031982 seconds\n"
     ]
    }
   ],
   "source": [
    "crawler = Crawler(\n",
    "    data_dir=Path(\"../net_rep-out/easylist/crawl\"),\n",
    ")\n",
    "\n",
    "# Crawl with no filterlists\n",
    "crawler.crawl_from_dataset(\n",
    "    issues_path=issues_fp,\n",
    "    filterlists_path=Path(\"../net_rep-out/easylist/filterlists\"),\n",
    "    num=2,\n",
    ")"
   ]
  },
  {
   "cell_type": "code",
   "execution_count": 5,
   "metadata": {},
   "outputs": [],
   "source": [
    "from BreakageClassifier.code.graph.utils import get_domain\n",
    "\n",
    "def get_requests(crawl_dir: Path):\n",
    "    conn = sql.connect(str(crawl_dir / \"crawl-data.sqlite\"))\n",
    "    c = conn.cursor()\n",
    "    \n",
    "    experiments_df = pd.read_csv(crawl_dir / \"experiments.csv\")\n",
    "    \n",
    "    # print the names of the sql columns for site_visits\n",
    "    c.execute(\"SELECT visit_id, site_rank, site_url FROM site_visits;\")\n",
    "   \n",
    "    visits_df = pd.DataFrame(c.fetchall(), columns=[\"visit_id\", \"site_rank\", \"site_url\"])\n",
    "    \n",
    "    c.execute(\"SELECT visit_id, url, top_level_url, resource_type FROM http_requests;\")\n",
    "    requests = c.fetchall()\n",
    "    conn.close()\n",
    "    \n",
    "    # convert to dataframe\n",
    "    requests_df = pd.DataFrame(requests, columns=[\"visit_id\", \"url\", \"top_level_url\", \"resource_type\"])\n",
    "    \n",
    "    # merge with visits\n",
    "    requests_df = requests_df.merge(visits_df, on=\"visit_id\")\n",
    "    requests_df.drop(\"visit_id\", axis=1, inplace=True)\n",
    "    \n",
    "    # drop rows where url == site_url or url/ == site_url\n",
    "    requests_df = requests_df[requests_df.apply(\n",
    "        lambda x: (x.url != x.site_url) and (x.url.rstrip(\"/\") != x.site_url), axis=1\n",
    "    )]\n",
    "    \n",
    "    requests_df = requests_df.merge(experiments_df, on=\"site_rank\")\n",
    "    \n",
    "    # drop duplicates\n",
    "    requests_df.drop_duplicates(inplace=True)\n",
    "    \n",
    "    # get top_level_domain\n",
    "    requests_df[\"top_level_domain\"] = requests_df.url.apply(get_domain)\n",
    "    requests_df['current_domain'] = requests_df.site_url.apply(get_domain)\n",
    "    \n",
    "    requests_df = requests_df.groupby(\"id\")\n",
    "    \n",
    "    return requests_df\n",
    "\n"
   ]
  },
  {
   "cell_type": "code",
   "execution_count": 6,
   "metadata": {},
   "outputs": [],
   "source": [
    "requests = get_requests(Path(\"../net_rep-out/easylist/crawl/datadir\"))"
   ]
  },
  {
   "cell_type": "code",
   "execution_count": 7,
   "metadata": {},
   "outputs": [],
   "source": [
    "df_blocks = pd.read_csv(\"../net_rep-out/easylist/results/request-blocks.csv\")\n",
    "\n"
   ]
  },
  {
   "cell_type": "code",
   "execution_count": 61,
   "metadata": {},
   "outputs": [],
   "source": [
    "def block_counts(request_group: pd.DataFrame):\n",
    "    \n",
    "    # we need to count the differences between `blocked_before` and `blocked_after`\n",
    "    \n",
    "    request_group['blocked_before'] = request_group.blocked_before.apply(lambda x: True if x == 'True' else False)\n",
    "    \n",
    "    # get the number of requests blocked before\n",
    "    blocked_before = request_group.blocked_before.sum()\n",
    "    \n",
    "    # get the number of requests blocked after\n",
    "    blocked_after = request_group.blocked_after.sum()\n",
    "    \n",
    "    # get the number of requests blocked before and after\n",
    "    blocked_before_after = request_group[(request_group.blocked_before == True) & (request_group.blocked_after == True)].shape[0]\n",
    "    \n",
    "    # get the number of requests blocked before but not after\n",
    "    blocked_before_not_after = request_group[(request_group.blocked_before == True) & (request_group.blocked_after == False)].shape[0]\n",
    "    \n",
    "    # get the number of requests blocked after but not before\n",
    "    blocked_after_not_before = request_group[(request_group.blocked_before == False) & (request_group.blocked_after == True)].shape[0]\n",
    "    \n",
    "    # get the number of requests not blocked before or after\n",
    "    not_blocked_before_after = request_group[(request_group.blocked_before == False) & (request_group.blocked_after == False)].shape[0]\n",
    "    \n",
    "    return pd.Series({\n",
    "        \"blocked_before\": blocked_before,\n",
    "        \"blocked_after\": blocked_after,\n",
    "        \"blocked_before_after\": blocked_before_after,\n",
    "        \"blocked_before_not_after\": blocked_before_not_after,\n",
    "        \"blocked_after_not_before\": blocked_after_not_before,\n",
    "        \"not_blocked_before_after\": not_blocked_before_after\n",
    "    })\n",
    "    \n",
    "def is_breaking_heu(_block_counts: pd.Series):\n",
    "    \n",
    "    if _block_counts.blocked_before_after == _block_counts.blocked_after:\n",
    "        return False\n",
    "    \n",
    "    return True\n",
    "\n",
    "\n",
    "def is_breaking_heu_prob(_block_counts: pd.Series):\n",
    "    delta_break = abs(_block_counts.blocked_before_after - _block_counts.blocked_before)\n",
    "    total_break = _block_counts.blocked_before_after + _block_counts.blocked_before\n",
    "    \n",
    "    ratio = delta_break / total_break if total_break != 0 else 0\n",
    "    return ratio\n",
    "\n",
    "def is_breaking_heu_thresh(_block_counts: pd.Series, thresh=0.5):\n",
    "    \n",
    "    ratio = is_breaking_heu_prob(_block_counts)\n",
    "    \n",
    "    if ratio > thresh:\n",
    "        return True\n",
    "    \n",
    "    return False"
   ]
  },
  {
   "cell_type": "code",
   "execution_count": 62,
   "metadata": {},
   "outputs": [
    {
     "data": {
      "text/html": [
       "<div>\n",
       "<style scoped>\n",
       "    .dataframe tbody tr th:only-of-type {\n",
       "        vertical-align: middle;\n",
       "    }\n",
       "\n",
       "    .dataframe tbody tr th {\n",
       "        vertical-align: top;\n",
       "    }\n",
       "\n",
       "    .dataframe thead th {\n",
       "        text-align: right;\n",
       "    }\n",
       "</style>\n",
       "<table border=\"1\" class=\"dataframe\">\n",
       "  <thead>\n",
       "    <tr style=\"text-align: right;\">\n",
       "      <th></th>\n",
       "      <th>id</th>\n",
       "      <th>reproduce</th>\n",
       "      <th>blocked_before</th>\n",
       "      <th>blocked_after</th>\n",
       "      <th>blocked_before_after</th>\n",
       "      <th>blocked_before_not_after</th>\n",
       "      <th>blocked_after_not_before</th>\n",
       "      <th>not_blocked_before_after</th>\n",
       "      <th>rep_pred</th>\n",
       "    </tr>\n",
       "  </thead>\n",
       "  <tbody>\n",
       "    <tr>\n",
       "      <th>0</th>\n",
       "      <td>47396</td>\n",
       "      <td>True</td>\n",
       "      <td>4</td>\n",
       "      <td>4</td>\n",
       "      <td>4</td>\n",
       "      <td>0</td>\n",
       "      <td>0</td>\n",
       "      <td>73</td>\n",
       "      <td>0.0</td>\n",
       "    </tr>\n",
       "    <tr>\n",
       "      <th>1</th>\n",
       "      <td>47391</td>\n",
       "      <td>False</td>\n",
       "      <td>0</td>\n",
       "      <td>0</td>\n",
       "      <td>0</td>\n",
       "      <td>0</td>\n",
       "      <td>0</td>\n",
       "      <td>12</td>\n",
       "      <td>0.0</td>\n",
       "    </tr>\n",
       "    <tr>\n",
       "      <th>2</th>\n",
       "      <td>47386</td>\n",
       "      <td>True</td>\n",
       "      <td>0</td>\n",
       "      <td>1</td>\n",
       "      <td>0</td>\n",
       "      <td>0</td>\n",
       "      <td>1</td>\n",
       "      <td>59</td>\n",
       "      <td>0.0</td>\n",
       "    </tr>\n",
       "    <tr>\n",
       "      <th>3</th>\n",
       "      <td>47382</td>\n",
       "      <td>True</td>\n",
       "      <td>2</td>\n",
       "      <td>2</td>\n",
       "      <td>2</td>\n",
       "      <td>0</td>\n",
       "      <td>0</td>\n",
       "      <td>97</td>\n",
       "      <td>0.0</td>\n",
       "    </tr>\n",
       "    <tr>\n",
       "      <th>4</th>\n",
       "      <td>47373</td>\n",
       "      <td>False</td>\n",
       "      <td>64</td>\n",
       "      <td>64</td>\n",
       "      <td>64</td>\n",
       "      <td>0</td>\n",
       "      <td>0</td>\n",
       "      <td>222</td>\n",
       "      <td>0.0</td>\n",
       "    </tr>\n",
       "    <tr>\n",
       "      <th>...</th>\n",
       "      <td>...</td>\n",
       "      <td>...</td>\n",
       "      <td>...</td>\n",
       "      <td>...</td>\n",
       "      <td>...</td>\n",
       "      <td>...</td>\n",
       "      <td>...</td>\n",
       "      <td>...</td>\n",
       "      <td>...</td>\n",
       "    </tr>\n",
       "    <tr>\n",
       "      <th>140</th>\n",
       "      <td>46044</td>\n",
       "      <td>False</td>\n",
       "      <td>1</td>\n",
       "      <td>2</td>\n",
       "      <td>1</td>\n",
       "      <td>0</td>\n",
       "      <td>1</td>\n",
       "      <td>4</td>\n",
       "      <td>0.0</td>\n",
       "    </tr>\n",
       "    <tr>\n",
       "      <th>141</th>\n",
       "      <td>46042</td>\n",
       "      <td>False</td>\n",
       "      <td>0</td>\n",
       "      <td>0</td>\n",
       "      <td>0</td>\n",
       "      <td>0</td>\n",
       "      <td>0</td>\n",
       "      <td>1</td>\n",
       "      <td>0.0</td>\n",
       "    </tr>\n",
       "    <tr>\n",
       "      <th>142</th>\n",
       "      <td>46028</td>\n",
       "      <td>False</td>\n",
       "      <td>0</td>\n",
       "      <td>0</td>\n",
       "      <td>0</td>\n",
       "      <td>0</td>\n",
       "      <td>0</td>\n",
       "      <td>15</td>\n",
       "      <td>0.0</td>\n",
       "    </tr>\n",
       "    <tr>\n",
       "      <th>143</th>\n",
       "      <td>46025</td>\n",
       "      <td>False</td>\n",
       "      <td>0</td>\n",
       "      <td>0</td>\n",
       "      <td>0</td>\n",
       "      <td>0</td>\n",
       "      <td>0</td>\n",
       "      <td>28</td>\n",
       "      <td>0.0</td>\n",
       "    </tr>\n",
       "    <tr>\n",
       "      <th>144</th>\n",
       "      <td>46011</td>\n",
       "      <td>False</td>\n",
       "      <td>0</td>\n",
       "      <td>0</td>\n",
       "      <td>0</td>\n",
       "      <td>0</td>\n",
       "      <td>0</td>\n",
       "      <td>75</td>\n",
       "      <td>0.0</td>\n",
       "    </tr>\n",
       "  </tbody>\n",
       "</table>\n",
       "<p>145 rows × 9 columns</p>\n",
       "</div>"
      ],
      "text/plain": [
       "        id reproduce  blocked_before  blocked_after  blocked_before_after  \\\n",
       "0    47396      True               4              4                     4   \n",
       "1    47391     False               0              0                     0   \n",
       "2    47386      True               0              1                     0   \n",
       "3    47382      True               2              2                     2   \n",
       "4    47373     False              64             64                    64   \n",
       "..     ...       ...             ...            ...                   ...   \n",
       "140  46044     False               1              2                     1   \n",
       "141  46042     False               0              0                     0   \n",
       "142  46028     False               0              0                     0   \n",
       "143  46025     False               0              0                     0   \n",
       "144  46011     False               0              0                     0   \n",
       "\n",
       "     blocked_before_not_after  blocked_after_not_before  \\\n",
       "0                           0                         0   \n",
       "1                           0                         0   \n",
       "2                           0                         1   \n",
       "3                           0                         0   \n",
       "4                           0                         0   \n",
       "..                        ...                       ...   \n",
       "140                         0                         1   \n",
       "141                         0                         0   \n",
       "142                         0                         0   \n",
       "143                         0                         0   \n",
       "144                         0                         0   \n",
       "\n",
       "     not_blocked_before_after  rep_pred  \n",
       "0                          73       0.0  \n",
       "1                          12       0.0  \n",
       "2                          59       0.0  \n",
       "3                          97       0.0  \n",
       "4                         222       0.0  \n",
       "..                        ...       ...  \n",
       "140                         4       0.0  \n",
       "141                         1       0.0  \n",
       "142                        15       0.0  \n",
       "143                        28       0.0  \n",
       "144                        75       0.0  \n",
       "\n",
       "[145 rows x 9 columns]"
      ]
     },
     "execution_count": 62,
     "metadata": {},
     "output_type": "execute_result"
    }
   ],
   "source": [
    "predictions_df = df_blocks.groupby(\"id\").apply(block_counts).reset_index()\n",
    "predictions_df['id'] = predictions_df.id.astype(str)\n",
    "predictions_df['rep_pred'] = predictions_df.apply(is_breaking_heu_prob, axis=1)\n",
    "compare_df = reproduce_df.merge(predictions_df, on=\"id\")\n",
    "\n",
    "# compare_df.to_csv(\"../net_rep-out/easylist/results/rep-predictions.csv\", index=False)\n",
    "compare_df"
   ]
  },
  {
   "cell_type": "code",
   "execution_count": 69,
   "metadata": {},
   "outputs": [
    {
     "name": "stdout",
     "output_type": "stream",
     "text": [
      "              precision    recall  f1-score   support\n",
      "\n",
      "           0       0.57      0.97      0.72        79\n",
      "           1       0.78      0.11      0.19        66\n",
      "\n",
      "    accuracy                           0.58       145\n",
      "   macro avg       0.67      0.54      0.45       145\n",
      "weighted avg       0.66      0.58      0.48       145\n",
      "\n",
      "Falsely predicted as breaking: 55/66\n",
      "Falsely predicted as not breaking: 2/79\n"
     ]
    }
   ],
   "source": [
    "y_true = compare_df.reproduce.astype(int).tolist()\n",
    "y_pred = compare_df.rep_pred.astype(int).tolist()\n",
    "\n",
    "from sklearn.metrics import classification_report\n",
    "\n",
    "print(classification_report(y_true, y_pred))\n",
    "\n",
    "print(f\"Falsely predicted as breaking: {compare_df[(compare_df.reproduce == True) & (compare_df.rep_pred == False)].shape[0]}/{compare_df[compare_df.reproduce == True].shape[0]}\")\n",
    "print(f\"Falsely predicted as not breaking: {compare_df[(compare_df.reproduce == False) & (compare_df.rep_pred == True)].shape[0]}/{compare_df[compare_df.reproduce == False].shape[0]}\")"
   ]
  },
  {
   "cell_type": "code",
   "execution_count": 68,
   "metadata": {},
   "outputs": [
    {
     "data": {
      "image/png": "[encoded data removed]",
      "text/plain": [
       "<Figure size 640x480 with 1 Axes>"
      ]
     },
     "metadata": {},
     "output_type": "display_data"
    }
   ],
   "source": [
    "from sklearn.metrics import roc_curve\n",
    "\n",
    "\n",
    "fpr, tpr, thresholds = roc_curve(y_true, compare_df.rep_pred.tolist())\n",
    "\n",
    "import matplotlib.pyplot as plt\n",
    "\n",
    "plt.plot(fpr, tpr)\n",
    "plt.show()\n"
   ]
  },
  {
   "cell_type": "code",
   "execution_count": null,
   "metadata": {},
   "outputs": [],
   "source": []
  }
 ],
 "metadata": {
  "kernelspec": {
   "display_name": "openwpm",
   "language": "python",
   "name": "python3"
  },
  "language_info": {
   "codemirror_mode": {
    "name": "ipython",
    "version": 3
   },
   "file_extension": ".py",
   "mimetype": "text/x-python",
   "name": "python",
   "nbconvert_exporter": "python",
   "pygments_lexer": "ipython3",
   "version": "3.10.4"
  }
 },
 "nbformat": 4,
 "nbformat_minor": 2
}
