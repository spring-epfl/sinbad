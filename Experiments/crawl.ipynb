{
 "cells": [
  {
   "cell_type": "code",
   "execution_count": 1,
   "metadata": {},
   "outputs": [],
   "source": [
    "import sys\n",
    "import os\n",
    "from BreakageClassifier.code.crawl.crawl import Crawler\n",
    "from dotenv import load_dotenv, find_dotenv\n",
    "from pathlib import Path\n",
    "from BreakageClassifier.code.graph.database import Database\n",
    "\n",
    "import pandas as pd\n",
    "\n",
    "load_dotenv()\n",
    "DOTENV_PATH = find_dotenv()\n",
    "DIR = Path(DOTENV_PATH).parent\n",
    "IN_PATH = Path(\"forums-out/easylist\")\n",
    "OUT_PATH = Path(\"crawl-out/easylist\")\n",
    "\n",
    "SALIENCY_MODEL_PATH = DIR.joinpath(\"../WebModelGen/block_classifier/pretrained-models/model-0.joblib\").resolve()\n"
   ]
  },
  {
   "attachments": {},
   "cell_type": "markdown",
   "metadata": {},
   "source": [
    "We need to run the crawling experiment from a console (preferably a detached one). \n",
    "\n",
    "```\n",
    "python ../BreakageClassifier/code/crawl/crawl.py \\\n",
    "                --n <NUMBER OF ISSUES> \\\n",
    "                --issues forums-out/easylist/easylist-data.csv \\\n",
    "                --filters forums-out/easylist/filterlists \\\n",
    "                --scp ../WebModelGen/block_classifier/pretrained-models/model-0.joblib \\\n",
    "                --out crawl-out/easylist/datadir\n",
    "\n",
    "```"
   ]
  },
  {
   "cell_type": "code",
   "execution_count": 3,
   "metadata": {},
   "outputs": [],
   "source": [
    "crawler = Crawler(\n",
    "    data_dir=str(OUT_PATH.joinpath('datadir-test-saliency')),\n",
    "    saliency_classifier_path=SALIENCY_MODEL_PATH,\n",
    ")"
   ]
  },
  {
   "cell_type": "code",
   "execution_count": null,
   "metadata": {},
   "outputs": [],
   "source": [
    "crawler.crawl_from_dataset(\n",
    "    IN_PATH.joinpath('easylist-data.csv'),\n",
    "    IN_PATH.joinpath(\"filterlists\"),\n",
    "    num=50\n",
    ")"
   ]
  },
  {
   "cell_type": "markdown",
   "metadata": {},
   "source": [
    "# Experiments after the crawl"
   ]
  },
  {
   "cell_type": "code",
   "execution_count": 3,
   "metadata": {},
   "outputs": [],
   "source": [
    "CRAWL_DIR = Path(\"crawl-out/adguard-full/\")"
   ]
  },
  {
   "cell_type": "markdown",
   "metadata": {},
   "source": [
    "## Saliency Interaction Experiments\n",
    "This is to show the importance of saliency in\n",
    "limiting the interactions and providing a decent crawl time\n",
    "(i.e., efficiency)\n",
    "- number of salient element per page\n",
    "- number of salient elements per page that we interact with\n",
    "- number of possible elements to interact with per page\n",
    "- average time per interaction"
   ]
  },
  {
   "cell_type": "code",
   "execution_count": 10,
   "metadata": {},
   "outputs": [
    {
     "name": "stderr",
     "output_type": "stream",
     "text": [
      "100%|██████████| 543/543 [49:11<00:00,  5.44s/it]\n"
     ]
    }
   ],
   "source": [
    "from tqdm import tqdm\n",
    "\n",
    "stats = []\n",
    "\n",
    "with Database(CRAWL_DIR / 'crawl-data.sqlite', CRAWL_DIR / 'experiments.csv') as db:\n",
    "    \n",
    "    site_visits = db.sites_visits()\n",
    "    \n",
    "    for _, issue in tqdm(site_visits.iterrows(), total=len(site_visits)):\n",
    "        \n",
    "        if issue.error != False:\n",
    "            continue\n",
    "        \n",
    "        df_dom = db.get_dom_from_visit_id(issue.visit_id_a)\n",
    "        df_responses = db.get_http_responses(issue.visit_id_a)\n",
    "        df_javascript = db.get_javascript_events(issue.visit_id_a)\n",
    "    \n",
    "        interactions, df_javascript, df_responses = db.get_interaction_logs_all(\n",
    "            issue.visit_id_a,\n",
    "            df_javascript,  \n",
    "            df_responses,\n",
    "        )\n",
    "        \n",
    "        commands = db.get_commands(issue.visit_id_a)\n",
    "        \n",
    "        interactable_nodes = [\"button\", \"iframe\", \"video\", \"img\", \"submit\", \"radio\", \"checkbox\", \"input\"]\n",
    "             \n",
    "        stats.append({\n",
    "            \"issue\": issue.issue_id,\n",
    "            \"n_salient\": len(df_dom[df_dom.saliency > 0]),\n",
    "            \"n_nodes\": len(df_dom),\n",
    "            \"n_interactions\": len(interactions),\n",
    "            \"n_candidates\": len(df_dom[df_dom.nodeName.isin(interactable_nodes)]),\n",
    "            \"average_interaction_duration\": commands[commands.command == \"SalientRandomInteractCommand\"].duration.mean() / 1000, \n",
    "            \"n_js_events\": df_javascript.interaction.notnull().sum(), \n",
    "            \"n_requests\": df_responses.interaction.notnull().sum(),\n",
    "        })\n",
    "        \n",
    "\n",
    "pd.DataFrame(stats).to_csv(CRAWL_DIR / \"saliency-interaction-stats.csv\", index=False)\n",
    "    \n",
    "    "
   ]
  },
  {
   "cell_type": "code",
   "execution_count": 4,
   "metadata": {},
   "outputs": [],
   "source": [
    "saliency_interaction_stats = pd.read_csv(CRAWL_DIR / \"saliency-interaction-stats.csv\")"
   ]
  },
  {
   "cell_type": "code",
   "execution_count": 5,
   "metadata": {},
   "outputs": [
    {
     "data": {
      "text/html": [
       "<div>\n",
       "<style scoped>\n",
       "    .dataframe tbody tr th:only-of-type {\n",
       "        vertical-align: middle;\n",
       "    }\n",
       "\n",
       "    .dataframe tbody tr th {\n",
       "        vertical-align: top;\n",
       "    }\n",
       "\n",
       "    .dataframe thead th {\n",
       "        text-align: right;\n",
       "    }\n",
       "</style>\n",
       "<table border=\"1\" class=\"dataframe\">\n",
       "  <thead>\n",
       "    <tr style=\"text-align: right;\">\n",
       "      <th></th>\n",
       "      <th>issue</th>\n",
       "      <th>n_salient</th>\n",
       "      <th>n_nodes</th>\n",
       "      <th>n_interactions</th>\n",
       "      <th>n_candidates</th>\n",
       "      <th>average_interaction_duration</th>\n",
       "      <th>n_js_events</th>\n",
       "      <th>n_requests</th>\n",
       "    </tr>\n",
       "  </thead>\n",
       "  <tbody>\n",
       "    <tr>\n",
       "      <th>count</th>\n",
       "      <td>543.000000</td>\n",
       "      <td>543.000000</td>\n",
       "      <td>543.000000</td>\n",
       "      <td>543.000000</td>\n",
       "      <td>543.000000</td>\n",
       "      <td>543.000000</td>\n",
       "      <td>543.000000</td>\n",
       "      <td>543.000000</td>\n",
       "    </tr>\n",
       "    <tr>\n",
       "      <th>mean</th>\n",
       "      <td>136399.530387</td>\n",
       "      <td>28.600368</td>\n",
       "      <td>774.502762</td>\n",
       "      <td>0.883978</td>\n",
       "      <td>40.707182</td>\n",
       "      <td>9.703912</td>\n",
       "      <td>215.456722</td>\n",
       "      <td>99.867403</td>\n",
       "    </tr>\n",
       "    <tr>\n",
       "      <th>std</th>\n",
       "      <td>36509.402275</td>\n",
       "      <td>28.421650</td>\n",
       "      <td>752.973723</td>\n",
       "      <td>1.014371</td>\n",
       "      <td>56.275752</td>\n",
       "      <td>11.867770</td>\n",
       "      <td>389.546152</td>\n",
       "      <td>152.169153</td>\n",
       "    </tr>\n",
       "    <tr>\n",
       "      <th>min</th>\n",
       "      <td>51619.000000</td>\n",
       "      <td>0.000000</td>\n",
       "      <td>7.000000</td>\n",
       "      <td>0.000000</td>\n",
       "      <td>0.000000</td>\n",
       "      <td>0.156000</td>\n",
       "      <td>0.000000</td>\n",
       "      <td>0.000000</td>\n",
       "    </tr>\n",
       "    <tr>\n",
       "      <th>25%</th>\n",
       "      <td>140897.000000</td>\n",
       "      <td>9.000000</td>\n",
       "      <td>284.500000</td>\n",
       "      <td>0.000000</td>\n",
       "      <td>13.000000</td>\n",
       "      <td>2.004000</td>\n",
       "      <td>0.000000</td>\n",
       "      <td>0.000000</td>\n",
       "    </tr>\n",
       "    <tr>\n",
       "      <th>50%</th>\n",
       "      <td>151053.000000</td>\n",
       "      <td>21.000000</td>\n",
       "      <td>573.000000</td>\n",
       "      <td>1.000000</td>\n",
       "      <td>26.000000</td>\n",
       "      <td>6.573000</td>\n",
       "      <td>22.000000</td>\n",
       "      <td>39.000000</td>\n",
       "    </tr>\n",
       "    <tr>\n",
       "      <th>75%</th>\n",
       "      <td>156999.500000</td>\n",
       "      <td>39.000000</td>\n",
       "      <td>1029.000000</td>\n",
       "      <td>1.000000</td>\n",
       "      <td>48.500000</td>\n",
       "      <td>12.817500</td>\n",
       "      <td>253.500000</td>\n",
       "      <td>146.000000</td>\n",
       "    </tr>\n",
       "    <tr>\n",
       "      <th>max</th>\n",
       "      <td>163156.000000</td>\n",
       "      <td>210.000000</td>\n",
       "      <td>6038.000000</td>\n",
       "      <td>3.000000</td>\n",
       "      <td>770.000000</td>\n",
       "      <td>91.235000</td>\n",
       "      <td>3148.000000</td>\n",
       "      <td>1079.000000</td>\n",
       "    </tr>\n",
       "  </tbody>\n",
       "</table>\n",
       "</div>"
      ],
      "text/plain": [
       "               issue   n_salient      n_nodes  n_interactions  n_candidates  \\\n",
       "count     543.000000  543.000000   543.000000      543.000000    543.000000   \n",
       "mean   136399.530387   28.600368   774.502762        0.883978     40.707182   \n",
       "std     36509.402275   28.421650   752.973723        1.014371     56.275752   \n",
       "min     51619.000000    0.000000     7.000000        0.000000      0.000000   \n",
       "25%    140897.000000    9.000000   284.500000        0.000000     13.000000   \n",
       "50%    151053.000000   21.000000   573.000000        1.000000     26.000000   \n",
       "75%    156999.500000   39.000000  1029.000000        1.000000     48.500000   \n",
       "max    163156.000000  210.000000  6038.000000        3.000000    770.000000   \n",
       "\n",
       "       average_interaction_duration  n_js_events   n_requests  \n",
       "count                    543.000000   543.000000   543.000000  \n",
       "mean                       9.703912   215.456722    99.867403  \n",
       "std                       11.867770   389.546152   152.169153  \n",
       "min                        0.156000     0.000000     0.000000  \n",
       "25%                        2.004000     0.000000     0.000000  \n",
       "50%                        6.573000    22.000000    39.000000  \n",
       "75%                       12.817500   253.500000   146.000000  \n",
       "max                       91.235000  3148.000000  1079.000000  "
      ]
     },
     "execution_count": 5,
     "metadata": {},
     "output_type": "execute_result"
    }
   ],
   "source": [
    "saliency_interaction_stats.describe()"
   ]
  },
  {
   "cell_type": "code",
   "execution_count": 9,
   "metadata": {},
   "outputs": [],
   "source": [
    "saliency_interaction_stats['r_salient'] = saliency_interaction_stats.apply(lambda x: x.n_salient / x.n_nodes if x.n_nodes > 0 else 0, axis=1)\n",
    "                                                                           "
   ]
  },
  {
   "cell_type": "code",
   "execution_count": 10,
   "metadata": {},
   "outputs": [
    {
     "data": {
      "text/plain": [
       "count    543.000000\n",
       "mean       0.059029\n",
       "std        0.068396\n",
       "min        0.000000\n",
       "25%        0.014146\n",
       "50%        0.040541\n",
       "75%        0.081199\n",
       "max        0.600000\n",
       "Name: r_salient, dtype: float64"
      ]
     },
     "execution_count": 10,
     "metadata": {},
     "output_type": "execute_result"
    }
   ],
   "source": [
    "saliency_interaction_stats['r_salient'].describe()"
   ]
  },
  {
   "cell_type": "code",
   "execution_count": null,
   "metadata": {},
   "outputs": [],
   "source": []
  },
  {
   "cell_type": "code",
   "execution_count": 12,
   "metadata": {},
   "outputs": [
    {
     "name": "stdout",
     "output_type": "stream",
     "text": [
      "Count without salient nodes:  59\n",
      "Count without interactable nodes:  250\n",
      "Count without salient and interactable nodes:  59\n"
     ]
    }
   ],
   "source": [
    "print(\"Count without salient nodes: \", len(saliency_interaction_stats[saliency_interaction_stats.n_salient == 0]))\n",
    "print(\"Count without interactable nodes: \", len(saliency_interaction_stats[ (saliency_interaction_stats.n_interactions == 0)]))\n",
    "print(\"Count without salient and interactable nodes: \", len(saliency_interaction_stats[(saliency_interaction_stats.n_salient == 0) & (saliency_interaction_stats.n_interactions == 0)]))"
   ]
  },
  {
   "cell_type": "markdown",
   "metadata": {},
   "source": [
    "# Debug"
   ]
  },
  {
   "cell_type": "code",
   "execution_count": 2,
   "metadata": {},
   "outputs": [
    {
     "name": "stdout",
     "output_type": "stream",
     "text": [
      "browser_manager      - INFO     - BROWSER 742193888: Launching browser...\n",
      "browser_manager      - DEBUG    - BROWSER 742193888: Spawn attempt 0 \n",
      "storage_controller   - DEBUG    - Initializing new handler\n",
      "deploy_firefox       - DEBUG    - BROWSER 742193888: Saved extension config file to: /tmp/firefox_profile_zg6engpf/browser_params.json\n",
      "deploy_firefox       - DEBUG    - BROWSER 742193888: OpenWPM Firefox extension loaded\n",
      "FirefoxExtension     - DEBUG    - Navigation instrumentation enabled\n",
      "storage_controller   - DEBUG    - Initializing new handler\n",
      "FirefoxExtension     - DEBUG    - Cookie instrumentation enabled\n",
      "browser_manager      - DEBUG    - BROWSER 742193888: Looking for extension port information in /tmp/firefox_profile_zg6engpf\n",
      "FirefoxExtension     - DEBUG    - Javascript instrumentation enabled\n",
      "browser_manager      - DEBUG    - BROWSER 742193888: Connecting to extension on port 35341\n",
      "FirefoxExtension     - DEBUG    - HTTP Instrumentation enabled\n",
      "FirefoxExtension     - DEBUG    - Callstack Instrumentation enabled\n",
      "FirefoxExtension     - DEBUG    - DNS instrumentation enabled\n",
      "browser_manager      - DEBUG    - BROWSER 742193888: BrowserManager ready.\n",
      "browser_manager      - DEBUG    - BROWSER 742193888: Browser spawn successful!\n",
      "storage_controller   - DEBUG    - Initializing new handler\n",
      "storage_controller   - INFO     - Awaiting all tasks for visit_id -1\n",
      "task_manager         - INFO     - \n",
      "\n",
      "OpenWPM Version: b'2ef42ef'\n",
      "Firefox Version: b'100.0'\n",
      "\n",
      "========== Manager Configuration ==========\n",
      "{\n",
      "  \"_failure_limit\": null,\n",
      "  \"data_directory\": \"/home/saiid/summer22-SaiidHajj/Experiments/crawl-out/adguard/adguard-debug-neg\",\n",
      "  \"log_path\": \"/home/saiid/summer22-SaiidHajj/Experiments/crawl-out/adguard/adguard-debug-neg/openwpm.log\",\n",
      "  \"logger_address\": [\n",
      "    \"127.0.0.1\",\n",
      "    36263\n",
      "  ],\n",
      "  \"memory_watchdog\": false,\n",
      "  \"num_browsers\": 1,\n",
      "  \"process_watchdog\": false,\n",
      "  \"screenshot_path\": \"/home/saiid/summer22-SaiidHajj/Experiments/crawl-out/adguard/adguard-debug-neg/screenshots\",\n",
      "  \"source_dump_path\": \"/home/saiid/summer22-SaiidHajj/Experiments/crawl-out/adguard/adguard-debug-neg/sources\",\n",
      "  \"storage_controller_address\": [\n",
      "    \"127.0.0.1\",\n",
      "    36731\n",
      "  ],\n",
      "  \"testing\": false\n",
      "}\n",
      "\n",
      "========== Browser Configuration ==========\n",
      "Keys:\n",
      "{\n",
      "  \"browser_id\": 0,\n",
      "  \"bot_mitigation\": 1,\n",
      "  \"browser\": 2,\n",
      "  \"callstack_instrument\": 3,\n",
      "  \"cookie_instrument\": 4,\n",
      "  \"custom_params\": 5,\n",
      "  \"display_mode\": 6,\n",
      "  \"dns_instrument\": 7,\n",
      "  \"donottrack\": 8,\n",
      "  \"extension_enabled\": 9,\n",
      "  \"http_instrument\": 10,\n",
      "  \"js_instrument\": 11,\n",
      "  \"js_instrument_settings\": 12,\n",
      "  \"navigation_instrument\": 13,\n",
      "  \"prefs\": 14,\n",
      "  \"profile_path\": 15,\n",
      "  \"recovery_tar\": 16,\n",
      "  \"save_content\": 17,\n",
      "  \"tp_cookies\": 18,\n",
      "  \"tracking_protection\": 19\n",
      "}\n",
      "\n",
      "        0  1      2        3     4     5    6         7     8      9     10    11    12                                                                                                                                                                                                                                                                                                                                                                                                                   13    14    15    16    17      18      19\n",
      "---------  -----  -------  ----  ----  ---  --------  ----  -----  ----  ----  ----  -------------------------------------------------------------------------------------------------------------------------------------------------------------------------------------------------------------------------------------------------------------------------------------------------------------------------------------------------------------------------------------------------------------------  ----  ----  ----  ----  ------  ------  -----\n",
      "742193888  False  firefox  True  True  {}   headless  True  False  True  True  True  ['collection_fingerprinting', {'window': {'propertiesToInstrument': ['name', 'localStorage', 'sessionStorage', 'onerror'], 'nonExistingPropertiesToInstrument': ['last_log_event']}}, {'window.console': {'logCallStack': True}}, {'window.document': {'propertiesToInstrument': ['getElementsByTagName', 'querySelectorAll', 'getElementById', 'getElementsByClassName', 'querySelector'], 'logCallStack': True}}]  True  {}                script  always  False\n",
      "\n",
      "========== JS Instrument Settings ==========\n",
      "{\"742193888\":[{\"object\":\"window['ScriptProcessorNode'].prototype\",\"instrumentedName\":\"ScriptProcessorNode\",\"logSettings\":{\"propertiesToInstrument\":[],\"nonExistingPropertiesToInstrument\":[],\"excludedProperties\":[],\"logCallStack\":false,\"logFunctionsAsStrings\":false,\"logFunctionGets\":false,\"preventSets\":false,\"recursive\":false,\"depth\":5}},{\"object\":\"window['GainNode'].prototype\",\"instrumentedName\":\"GainNode\",\"logSettings\":{\"propertiesToInstrument\":[],\"nonExistingPropertiesToInstrument\":[],\"excludedProperties\":[],\"logCallStack\":false,\"logFunctionsAsStrings\":false,\"logFunctionGets\":false,\"preventSets\":false,\"recursive\":false,\"depth\":5}},{\"object\":\"window['AnalyserNode'].prototype\",\"instrumentedName\":\"AnalyserNode\",\"logSettings\":{\"propertiesToInstrument\":[],\"nonExistingPropertiesToInstrument\":[],\"excludedProperties\":[],\"logCallStack\":false,\"logFunctionsAsStrings\":false,\"logFunctionGets\":false,\"preventSets\":false,\"recursive\":false,\"depth\":5}},{\"object\":\"window['OscillatorNode'].prototype\",\"instrumentedName\":\"OscillatorNode\",\"logSettings\":{\"propertiesToInstrument\":[],\"nonExistingPropertiesToInstrument\":[],\"excludedProperties\":[],\"logCallStack\":false,\"logFunctionsAsStrings\":false,\"logFunctionGets\":false,\"preventSets\":false,\"recursive\":false,\"depth\":5}},{\"object\":\"window['OfflineAudioContext'].prototype\",\"instrumentedName\":\"OfflineAudioContext\",\"logSettings\":{\"propertiesToInstrument\":[],\"nonExistingPropertiesToInstrument\":[],\"excludedProperties\":[],\"logCallStack\":false,\"logFunctionsAsStrings\":false,\"logFunctionGets\":false,\"preventSets\":false,\"recursive\":false,\"depth\":5}},{\"object\":\"window['AudioContext'].prototype\",\"instrumentedName\":\"AudioContext\",\"logSettings\":{\"propertiesToInstrument\":[],\"nonExistingPropertiesToInstrument\":[],\"excludedProperties\":[],\"logCallStack\":false,\"logFunctionsAsStrings\":false,\"logFunctionGets\":false,\"preventSets\":false,\"recursive\":false,\"depth\":5}},{\"object\":\"window['RTCPeerConnection'].prototype\",\"instrumentedName\":\"RTCPeerConnection\",\"logSettings\":{\"propertiesToInstrument\":[],\"nonExistingPropertiesToInstrument\":[],\"excludedProperties\":[],\"logCallStack\":false,\"logFunctionsAsStrings\":false,\"logFunctionGets\":false,\"preventSets\":false,\"recursive\":false,\"depth\":5}},{\"object\":\"window['HTMLCanvasElement'].prototype\",\"instrumentedName\":\"HTMLCanvasElement\",\"logSettings\":{\"propertiesToInstrument\":[],\"nonExistingPropertiesToInstrument\":[],\"excludedProperties\":[],\"logCallStack\":false,\"logFunctionsAsStrings\":false,\"logFunctionGets\":false,\"preventSets\":false,\"recursive\":false,\"depth\":5}},{\"object\":\"window['Storage'].prototype\",\"instrumentedName\":\"Storage\",\"logSettings\":{\"propertiesToInstrument\":[],\"nonExistingPropertiesToInstrument\":[],\"excludedProperties\":[],\"logCallStack\":false,\"logFunctionsAsStrings\":false,\"logFunctionGets\":false,\"preventSets\":false,\"recursive\":false,\"depth\":5}},{\"object\":\"window.navigator\",\"instrumentedName\":\"window.navigator\",\"logSettings\":{\"propertiesToInstrument\":[],\"nonExistingPropertiesToInstrument\":[],\"excludedProperties\":[],\"logCallStack\":false,\"logFunctionsAsStrings\":false,\"logFunctionGets\":false,\"preventSets\":false,\"recursive\":false,\"depth\":5}},{\"object\":\"window['CanvasRenderingContext2D'].prototype\",\"instrumentedName\":\"CanvasRenderingContext2D\",\"logSettings\":{\"propertiesToInstrument\":[],\"nonExistingPropertiesToInstrument\":[],\"excludedProperties\":[\"setTransform\",\"beginPath\",\"canvas\",\"translate\",\"transform\",\"clearRect\",\"globalAlpha\",\"quadraticCurveTo\",\"moveTo\",\"lineTo\",\"drawImage\",\"closePath\"],\"logCallStack\":false,\"logFunctionsAsStrings\":false,\"logFunctionGets\":false,\"preventSets\":false,\"recursive\":false,\"depth\":5}},{\"object\":\"window\",\"instrumentedName\":\"window\",\"logSettings\":{\"propertiesToInstrument\":[\"name\",\"localStorage\",\"sessionStorage\",\"onerror\"],\"nonExistingPropertiesToInstrument\":[\"last_log_event\"],\"excludedProperties\":[],\"logCallStack\":false,\"logFunctionsAsStrings\":false,\"logFunctionGets\":false,\"preventSets\":false,\"recursive\":false,\"depth\":5}},{\"object\":\"window.document\",\"instrumentedName\":\"window.document\",\"logSettings\":{\"propertiesToInstrument\":[\"getElementsByTagName\",\"querySelectorAll\",\"getElementsByClassName\",\"referrer\",\"getElementById\",\"cookie\",\"querySelector\"],\"nonExistingPropertiesToInstrument\":[],\"excludedProperties\":[],\"logCallStack\":true,\"logFunctionsAsStrings\":false,\"logFunctionGets\":false,\"preventSets\":false,\"recursive\":false,\"depth\":5}},{\"object\":\"window.screen\",\"instrumentedName\":\"window.screen\",\"logSettings\":{\"propertiesToInstrument\":[\"pixelDepth\",\"colorDepth\"],\"nonExistingPropertiesToInstrument\":[],\"excludedProperties\":[],\"logCallStack\":false,\"logFunctionsAsStrings\":false,\"logFunctionGets\":false,\"preventSets\":false,\"recursive\":false,\"depth\":5}},{\"object\":\"window.console\",\"instrumentedName\":\"window.console\",\"logSettings\":{\"propertiesToInstrument\":[],\"nonExistingPropertiesToInstrument\":[],\"excludedProperties\":[],\"logCallStack\":true,\"logFunctionsAsStrings\":false,\"logFunctionGets\":false,\"preventSets\":false,\"recursive\":false,\"depth\":5}}]}\n",
      "\n",
      "========== Input profile tar files ==========\n",
      "  No profile tar files specified\n",
      "\n",
      "========== Output (archive) profile dirs ==========\n",
      "  No profile archive directories specified\n",
      "\n",
      "\n",
      "storage_controller   - DEBUG    - Awaited all tasks for visit_id -1 while finalizing\n",
      "storage_controller   - INFO     - Terminating handler, because the underlying socket closed\n",
      "task_manager         - DEBUG    - Checking command failure status indicator...\n",
      "storage_controller   - DEBUG    - StorageController status: There are currently 0 scheduled tasks for 0 visit_ids\n",
      "browser_manager      - INFO     - Starting to work on CommandSequence with visit_id 325319249208209 on browser with id 742193888\n",
      "browser_manager      - INFO     - BROWSER 742193888: EXECUTING COMMAND: InitializeCommand()\n",
      "browser_manager      - INFO     - BROWSER 742193888: EXECUTING COMMAND: AddonSetupCommand\n",
      "task_manager         - DEBUG    - Invoking callback of visit_id -1\n",
      "addon                - INFO     - adguard adblocker installed @ moz-extension://a737cff6-ed00-47bc-81f1-9edf7c267b77\n",
      "addon                - INFO     - Removing default lists\n",
      "browser_manager      - INFO     - BROWSER 742193888: EXECUTING COMMAND: GetCommand(about:blank,3)\n",
      "storage_controller   - DEBUG    - StorageController status: There are currently 0 scheduled tasks for 1 visit_ids\n",
      "FirefoxExtension     - DEBUG    - Setting visit_id the legacy way\n",
      "browser_manager      - INFO     - BROWSER 742193888: EXECUTING COMMAND: FinalizeCommand(5)\n",
      "storage_controller   - DEBUG    - StorageController status: There are currently 0 scheduled tasks for 1 visit_ids\n",
      "browser_manager      - INFO     - Finished working on CommandSequence with visit_id 325319249208209 on browser with id 742193888\n",
      "storage_controller   - INFO     - Awaiting all tasks for visit_id 325319249208209\n",
      "storage_controller   - DEBUG    - Awaited all tasks for visit_id 325319249208209 while finalizing\n",
      "storage_controller   - DEBUG    - StorageController status: There are currently 0 scheduled tasks for 0 visit_ids\n",
      "task_manager         - DEBUG    - Invoking callback of visit_id 325319249208209\n",
      "task_manager         - DEBUG    - Checking command failure status indicator...\n",
      "task_manager         - DEBUG    - Checking command failure status indicator...\n",
      "browser_manager      - INFO     - Starting to work on CommandSequence with visit_id 2792575227732288 on browser with id 742193888\n",
      "browser_manager      - INFO     - BROWSER 742193888: EXECUTING COMMAND: InitializeCommand()\n",
      "browser_manager      - INFO     - BROWSER 742193888: EXECUTING COMMAND: GetAddonUUIDCommand\n",
      "browser_manager      - INFO     - BROWSER 742193888: EXECUTING COMMAND: ClearCookiesCommand\n",
      "cookies              - INFO     - Cleared cookies\n",
      "browser_manager      - INFO     - BROWSER 742193888: EXECUTING COMMAND: FilterListLoadCommand\n",
      "addon                - INFO     - Filter list loaded successfully: ../BreakageClassifier/code/forums/adguard/adguard-neg/filterlists/165863/after.txt\n",
      "browser_manager      - INFO     - BROWSER 742193888: EXECUTING COMMAND: GetCommand(https://www.toy-people.com/?p=84842,3)\n",
      "FirefoxExtension     - DEBUG    - Setting visit_id the legacy way\n",
      "storage_controller   - DEBUG    - StorageController status: There are currently 0 scheduled tasks for 1 visit_ids\n"
     ]
    },
    {
     "name": "stderr",
     "output_type": "stream",
     "text": [
      "Executing <Task pending name='Task-12' coro=<StorageController._handler() running at /home/saiid/OpenWPM/openwpm/storage/storage_controller.py:95> wait_for=<Future pending cb=[Task.task_wakeup()] created at /home/saiid/miniconda3/envs/openwpm/lib/python3.10/asyncio/base_events.py:429> created at /home/saiid/miniconda3/envs/openwpm/lib/python3.10/asyncio/streams.py:244> took 0.163 seconds\n"
     ]
    },
    {
     "name": "stdout",
     "output_type": "stream",
     "text": [
      "storage_controller   - DEBUG    - StorageController status: There are currently 0 scheduled tasks for 1 visit_ids\n"
     ]
    },
    {
     "name": "stderr",
     "output_type": "stream",
     "text": [
      "Executing <Task pending name='Task-12' coro=<StorageController._handler() running at /home/saiid/OpenWPM/openwpm/storage/storage_controller.py:95> wait_for=<Future pending cb=[Task.task_wakeup()] created at /home/saiid/miniconda3/envs/openwpm/lib/python3.10/asyncio/base_events.py:429> created at /home/saiid/miniconda3/envs/openwpm/lib/python3.10/asyncio/streams.py:244> took 0.112 seconds\n",
      "Executing <Task pending name='Task-12' coro=<StorageController._handler() running at /home/saiid/OpenWPM/openwpm/storage/storage_controller.py:95> wait_for=<Future pending cb=[Task.task_wakeup()] created at /home/saiid/miniconda3/envs/openwpm/lib/python3.10/asyncio/base_events.py:429> created at /home/saiid/miniconda3/envs/openwpm/lib/python3.10/asyncio/streams.py:244> took 0.118 seconds\n"
     ]
    },
    {
     "name": "stdout",
     "output_type": "stream",
     "text": [
      "browser_manager      - INFO     - BROWSER 742193888: EXECUTING COMMAND: WaitCommand(30)\n",
      "addon                - INFO     - Waiting 30 seconds\n"
     ]
    },
    {
     "name": "stderr",
     "output_type": "stream",
     "text": [
      "Executing <Task pending name='Task-12' coro=<StorageController._handler() running at /home/saiid/OpenWPM/openwpm/storage/storage_controller.py:95> wait_for=<Future pending cb=[Task.task_wakeup()] created at /home/saiid/miniconda3/envs/openwpm/lib/python3.10/asyncio/base_events.py:429> created at /home/saiid/miniconda3/envs/openwpm/lib/python3.10/asyncio/streams.py:244> took 0.126 seconds\n"
     ]
    },
    {
     "name": "stdout",
     "output_type": "stream",
     "text": [
      "storage_controller   - DEBUG    - StorageController status: There are currently 0 scheduled tasks for 1 visit_ids\n",
      "storage_controller   - DEBUG    - StorageController status: There are currently 0 scheduled tasks for 1 visit_ids\n",
      "storage_controller   - DEBUG    - StorageController status: There are currently 0 scheduled tasks for 1 visit_ids\n"
     ]
    },
    {
     "name": "stderr",
     "output_type": "stream",
     "text": [
      "Executing <Task pending name='Task-12' coro=<StorageController._handler() running at /home/saiid/OpenWPM/openwpm/storage/storage_controller.py:95> wait_for=<Future pending cb=[Task.task_wakeup()] created at /home/saiid/miniconda3/envs/openwpm/lib/python3.10/asyncio/base_events.py:429> created at /home/saiid/miniconda3/envs/openwpm/lib/python3.10/asyncio/streams.py:244> took 0.135 seconds\n"
     ]
    },
    {
     "name": "stdout",
     "output_type": "stream",
     "text": [
      "storage_controller   - DEBUG    - StorageController status: There are currently 0 scheduled tasks for 1 visit_ids\n",
      "storage_controller   - DEBUG    - StorageController status: There are currently 0 scheduled tasks for 1 visit_ids\n",
      "storage_controller   - DEBUG    - StorageController status: There are currently 0 scheduled tasks for 1 visit_ids\n",
      "browser_manager      - INFO     - BROWSER 742193888: EXECUTING COMMAND: TryEvadeCookiesBannerCommand\n",
      "cookies              - INFO     - Unable to evade cookies banner or it doesn't exist...\n",
      "browser_manager      - INFO     - BROWSER 742193888: EXECUTING COMMAND: SaveScreenshotCommand(after-base)\n",
      "storage_controller   - DEBUG    - Initializing new handler\n",
      "storage_controller   - INFO     - Terminating handler, because the underlying socket closed\n",
      "browser_manager      - INFO     - BROWSER 742193888: EXECUTING COMMAND: SalientDomDumpCommand\n",
      "dom                  - DEBUG    - DOM dump received in 0.056164 seconds\n",
      "classify             - DEBUG    - Encoding DOM\n",
      "classify             - DEBUG    - DOM encoded in 0.009208 seconds\n",
      "classify             - DEBUG    - DOM segmented in 0.059775 seconds\n",
      "classify             - DEBUG    - Pre-scoring finished in 0.000462 seconds\n",
      "storage_controller   - DEBUG    - StorageController status: There are currently 0 scheduled tasks for 1 visit_ids\n",
      "classify             - DEBUG    - Preprocessing finished in 0.046066 seconds\n",
      "classify             - DEBUG    - Prediction finished in 0.013766 seconds\n",
      "dom                  - DEBUG    - Saliency classifier finished in 0.153828 seconds\n",
      "dom                  - DEBUG    - Block scores casted to nodes in 0.000063 seconds\n",
      "dom                  - DEBUG    - DOM tree unpacked in 0.000930 seconds\n",
      "dom                  - INFO     - Found 4 salient elements\n",
      "storage_controller   - DEBUG    - Initializing new handler\n",
      "storage_controller   - INFO     - Terminating handler, because the underlying socket closed\n",
      "browser_manager      - INFO     - BROWSER 742193888: EXECUTING COMMAND: SalientRandomInteractCommand\n",
      "interact             - INFO     - 3 possible interactions\n",
      "interact             - INFO     - <class 'BreakageClassifier.code.crawl.interact.ClickAction'> @ {tag:img}\n",
      "storage_controller   - DEBUG    - StorageController status: There are currently 0 scheduled tasks for 1 visit_ids\n",
      "interact             - DEBUG    - Before page change\n",
      "interact             - DEBUG    - After page change\n",
      "interact             - INFO     - <class 'BreakageClassifier.code.crawl.interact.ClickAction'> @ {tag:iframe}\n",
      "interact             - DEBUG    - Before page change\n",
      "interact             - DEBUG    - After page change\n",
      "interact             - INFO     - <class 'BreakageClassifier.code.crawl.interact.ClickAction'> @ {tag:iframe}\n",
      "storage_controller   - DEBUG    - StorageController status: There are currently 0 scheduled tasks for 1 visit_ids\n",
      "interact             - DEBUG    - Before page change\n",
      "interact             - DEBUG    - After page change\n",
      "storage_controller   - DEBUG    - Initializing new handler\n",
      "browser_manager      - INFO     - BROWSER 742193888: EXECUTING COMMAND: FinalizeCommand(5)\n",
      "storage_controller   - INFO     - Terminating handler, because the underlying socket closed\n",
      "storage_controller   - DEBUG    - StorageController status: There are currently 0 scheduled tasks for 1 visit_ids\n",
      "browser_manager      - INFO     - Finished working on CommandSequence with visit_id 2792575227732288 on browser with id 742193888\n",
      "storage_controller   - INFO     - Awaiting all tasks for visit_id 2792575227732288\n",
      "storage_controller   - DEBUG    - Awaited all tasks for visit_id 2792575227732288 while finalizing\n",
      "task_manager         - DEBUG    - Checking command failure status indicator...\n",
      "storage_controller   - DEBUG    - StorageController status: There are currently 0 scheduled tasks for 0 visit_ids\n",
      "task_manager         - DEBUG    - Invoking callback of visit_id 2792575227732288\n",
      "crawl                - INFO     - issue 165863 [1/3]: after filterlist crawl success | https://www.toy-people.com/?p=84842\n",
      "task_manager         - DEBUG    - Checking command failure status indicator...\n",
      "browser_manager      - INFO     - Starting to work on CommandSequence with visit_id 4623737393115917 on browser with id 742193888\n",
      "browser_manager      - INFO     - BROWSER 742193888: EXECUTING COMMAND: InitializeCommand()\n",
      "browser_manager      - INFO     - BROWSER 742193888: EXECUTING COMMAND: GetAddonUUIDCommand\n",
      "browser_manager      - INFO     - BROWSER 742193888: EXECUTING COMMAND: ClearCookiesCommand\n",
      "cookies              - INFO     - Cleared cookies\n",
      "browser_manager      - INFO     - BROWSER 742193888: EXECUTING COMMAND: FilterListLoadCommand\n",
      "addon                - INFO     - Filter list loaded successfully: ../BreakageClassifier/code/forums/adguard/adguard-neg/filterlists/165863/before.txt\n",
      "browser_manager      - INFO     - BROWSER 742193888: EXECUTING COMMAND: GetCommand(https://www.toy-people.com/?p=84842,3)\n",
      "FirefoxExtension     - DEBUG    - Setting visit_id the legacy way\n",
      "storage_controller   - DEBUG    - StorageController status: There are currently 0 scheduled tasks for 1 visit_ids\n"
     ]
    },
    {
     "name": "stderr",
     "output_type": "stream",
     "text": [
      "Executing <Task pending name='Task-12' coro=<StorageController._handler() running at /home/saiid/OpenWPM/openwpm/storage/storage_controller.py:95> wait_for=<Future pending cb=[Task.task_wakeup()] created at /home/saiid/miniconda3/envs/openwpm/lib/python3.10/asyncio/base_events.py:429> created at /home/saiid/miniconda3/envs/openwpm/lib/python3.10/asyncio/streams.py:244> took 0.127 seconds\n",
      "Executing <Task pending name='Task-12' coro=<StorageController._handler() running at /home/saiid/OpenWPM/openwpm/storage/storage_controller.py:95> wait_for=<Future pending cb=[Task.task_wakeup()] created at /home/saiid/miniconda3/envs/openwpm/lib/python3.10/asyncio/base_events.py:429> created at /home/saiid/miniconda3/envs/openwpm/lib/python3.10/asyncio/streams.py:244> took 0.132 seconds\n"
     ]
    },
    {
     "name": "stdout",
     "output_type": "stream",
     "text": [
      "storage_controller   - DEBUG    - StorageController status: There are currently 2 scheduled tasks for 1 visit_ids\n",
      "browser_manager      - INFO     - BROWSER 742193888: EXECUTING COMMAND: WaitCommand(30)\n",
      "addon                - INFO     - Waiting 30 seconds\n"
     ]
    },
    {
     "name": "stderr",
     "output_type": "stream",
     "text": [
      "Executing <Task pending name='Task-12' coro=<StorageController._handler() running at /home/saiid/OpenWPM/openwpm/storage/storage_controller.py:95> wait_for=<Future pending cb=[Task.task_wakeup()] created at /home/saiid/miniconda3/envs/openwpm/lib/python3.10/asyncio/base_events.py:429> created at /home/saiid/miniconda3/envs/openwpm/lib/python3.10/asyncio/streams.py:244> took 0.137 seconds\n",
      "Executing <Task pending name='Task-12' coro=<StorageController._handler() running at /home/saiid/OpenWPM/openwpm/storage/storage_controller.py:95> wait_for=<Future pending cb=[Task.task_wakeup()] created at /home/saiid/miniconda3/envs/openwpm/lib/python3.10/asyncio/base_events.py:429> created at /home/saiid/miniconda3/envs/openwpm/lib/python3.10/asyncio/streams.py:244> took 0.201 seconds\n"
     ]
    },
    {
     "name": "stdout",
     "output_type": "stream",
     "text": [
      "storage_controller   - DEBUG    - StorageController status: There are currently 51 scheduled tasks for 1 visit_ids\n"
     ]
    },
    {
     "name": "stderr",
     "output_type": "stream",
     "text": [
      "Executing <Task pending name='Task-12' coro=<StorageController._handler() running at /home/saiid/OpenWPM/openwpm/storage/storage_controller.py:95> wait_for=<Future pending cb=[Task.task_wakeup()] created at /home/saiid/miniconda3/envs/openwpm/lib/python3.10/asyncio/base_events.py:429> created at /home/saiid/miniconda3/envs/openwpm/lib/python3.10/asyncio/streams.py:244> took 0.147 seconds\n"
     ]
    },
    {
     "name": "stdout",
     "output_type": "stream",
     "text": [
      "storage_controller   - DEBUG    - StorageController status: There are currently 0 scheduled tasks for 1 visit_ids\n",
      "storage_controller   - DEBUG    - StorageController status: There are currently 0 scheduled tasks for 1 visit_ids\n",
      "storage_controller   - DEBUG    - StorageController status: There are currently 0 scheduled tasks for 1 visit_ids\n",
      "storage_controller   - DEBUG    - StorageController status: There are currently 0 scheduled tasks for 1 visit_ids\n",
      "storage_controller   - DEBUG    - StorageController status: There are currently 0 scheduled tasks for 1 visit_ids\n",
      "browser_manager      - INFO     - BROWSER 742193888: EXECUTING COMMAND: TryEvadeCookiesBannerCommand\n",
      "cookies              - INFO     - Unable to evade cookies banner or it doesn't exist...\n",
      "browser_manager      - INFO     - BROWSER 742193888: EXECUTING COMMAND: SaveScreenshotCommand(before-base)\n",
      "storage_controller   - DEBUG    - Initializing new handler\n",
      "storage_controller   - INFO     - Terminating handler, because the underlying socket closed\n",
      "browser_manager      - INFO     - BROWSER 742193888: EXECUTING COMMAND: DomDumpCommand\n",
      "storage_controller   - DEBUG    - Initializing new handler\n",
      "browser_manager      - INFO     - BROWSER 742193888: EXECUTING COMMAND: SalientRepeatInteractCommand\n",
      "interact             - INFO     - 3 possible interactions\n",
      "storage_controller   - INFO     - Terminating handler, because the underlying socket closed\n",
      "interact             - INFO     - <class 'BreakageClassifier.code.crawl.interact.ClickAction'> @ {tag:img}\n",
      "storage_controller   - DEBUG    - StorageController status: There are currently 0 scheduled tasks for 1 visit_ids\n",
      "interact             - DEBUG    - Before page change\n",
      "interact             - DEBUG    - After page change\n",
      "interact             - INFO     - <class 'BreakageClassifier.code.crawl.interact.ClickAction'> @ {tag:iframe}\n",
      "interact             - DEBUG    - Before page change\n",
      "interact             - DEBUG    - After page change\n",
      "interact             - INFO     - <class 'BreakageClassifier.code.crawl.interact.ClickAction'> @ {tag:iframe}\n",
      "storage_controller   - DEBUG    - StorageController status: There are currently 0 scheduled tasks for 1 visit_ids\n",
      "interact             - DEBUG    - Before page change\n",
      "interact             - DEBUG    - After page change\n",
      "storage_controller   - DEBUG    - Initializing new handler\n",
      "browser_manager      - INFO     - BROWSER 742193888: EXECUTING COMMAND: FinalizeCommand(5)\n",
      "storage_controller   - INFO     - Terminating handler, because the underlying socket closed\n",
      "storage_controller   - DEBUG    - StorageController status: There are currently 0 scheduled tasks for 1 visit_ids\n",
      "browser_manager      - INFO     - Finished working on CommandSequence with visit_id 4623737393115917 on browser with id 742193888\n",
      "storage_controller   - INFO     - Awaiting all tasks for visit_id 4623737393115917\n",
      "storage_controller   - DEBUG    - Awaited all tasks for visit_id 4623737393115917 while finalizing\n",
      "storage_controller   - DEBUG    - StorageController status: There are currently 0 scheduled tasks for 0 visit_ids\n",
      "task_manager         - DEBUG    - Checking command failure status indicator...\n",
      "task_manager         - DEBUG    - Invoking callback of visit_id 4623737393115917\n",
      "crawl                - INFO     - issue 165863 [2/3]: before filterlist crawl success | https://www.toy-people.com/?p=84842\n",
      "task_manager         - DEBUG    - Checking command failure status indicator...\n",
      "browser_manager      - INFO     - Starting to work on CommandSequence with visit_id 2126882030155342 on browser with id 742193888\n",
      "browser_manager      - INFO     - BROWSER 742193888: EXECUTING COMMAND: InitializeCommand()\n",
      "browser_manager      - INFO     - BROWSER 742193888: EXECUTING COMMAND: GetAddonUUIDCommand\n",
      "browser_manager      - INFO     - BROWSER 742193888: EXECUTING COMMAND: ClearCookiesCommand\n",
      "cookies              - INFO     - Cleared cookies\n",
      "browser_manager      - INFO     - BROWSER 742193888: EXECUTING COMMAND: FilterListLoadCommand\n",
      "addon                - INFO     - Filter list loaded successfully: None\n",
      "browser_manager      - INFO     - BROWSER 742193888: EXECUTING COMMAND: GetCommand(https://www.toy-people.com/?p=84842,3)\n",
      "storage_controller   - DEBUG    - StorageController status: There are currently 0 scheduled tasks for 1 visit_ids\n",
      "FirefoxExtension     - DEBUG    - Setting visit_id the legacy way\n"
     ]
    },
    {
     "name": "stderr",
     "output_type": "stream",
     "text": [
      "Executing <Task pending name='Task-12' coro=<StorageController._handler() running at /home/saiid/OpenWPM/openwpm/storage/storage_controller.py:95> wait_for=<Future pending cb=[Task.task_wakeup()] created at /home/saiid/miniconda3/envs/openwpm/lib/python3.10/asyncio/base_events.py:429> created at /home/saiid/miniconda3/envs/openwpm/lib/python3.10/asyncio/streams.py:244> took 0.118 seconds\n"
     ]
    },
    {
     "name": "stdout",
     "output_type": "stream",
     "text": [
      "storage_controller   - DEBUG    - StorageController status: There are currently 0 scheduled tasks for 1 visit_ids\n"
     ]
    },
    {
     "name": "stderr",
     "output_type": "stream",
     "text": [
      "Executing <Task pending name='Task-12' coro=<StorageController._handler() running at /home/saiid/OpenWPM/openwpm/storage/storage_controller.py:95> wait_for=<Future pending cb=[Task.task_wakeup()] created at /home/saiid/miniconda3/envs/openwpm/lib/python3.10/asyncio/base_events.py:429> created at /home/saiid/miniconda3/envs/openwpm/lib/python3.10/asyncio/streams.py:244> took 0.152 seconds\n"
     ]
    },
    {
     "name": "stdout",
     "output_type": "stream",
     "text": [
      "storage_controller   - DEBUG    - StorageController status: There are currently 0 scheduled tasks for 1 visit_ids\n"
     ]
    },
    {
     "name": "stderr",
     "output_type": "stream",
     "text": [
      "Executing <Task pending name='Task-12' coro=<StorageController._handler() running at /home/saiid/OpenWPM/openwpm/storage/storage_controller.py:95> wait_for=<Future pending cb=[Task.task_wakeup()] created at /home/saiid/miniconda3/envs/openwpm/lib/python3.10/asyncio/base_events.py:429> created at /home/saiid/miniconda3/envs/openwpm/lib/python3.10/asyncio/streams.py:244> took 0.138 seconds\n"
     ]
    },
    {
     "name": "stdout",
     "output_type": "stream",
     "text": [
      "browser_manager      - INFO     - BROWSER 742193888: EXECUTING COMMAND: WaitCommand(30)\n",
      "addon                - INFO     - Waiting 30 seconds\n",
      "storage_controller   - DEBUG    - StorageController status: There are currently 0 scheduled tasks for 1 visit_ids\n"
     ]
    },
    {
     "name": "stderr",
     "output_type": "stream",
     "text": [
      "Executing <Task pending name='Task-12' coro=<StorageController._handler() running at /home/saiid/OpenWPM/openwpm/storage/storage_controller.py:95> wait_for=<Future pending cb=[Task.task_wakeup()] created at /home/saiid/miniconda3/envs/openwpm/lib/python3.10/asyncio/base_events.py:429> created at /home/saiid/miniconda3/envs/openwpm/lib/python3.10/asyncio/streams.py:244> took 0.136 seconds\n"
     ]
    },
    {
     "name": "stdout",
     "output_type": "stream",
     "text": [
      "storage_controller   - DEBUG    - StorageController status: There are currently 0 scheduled tasks for 1 visit_ids\n",
      "storage_controller   - DEBUG    - StorageController status: There are currently 0 scheduled tasks for 1 visit_ids\n",
      "storage_controller   - DEBUG    - StorageController status: There are currently 0 scheduled tasks for 1 visit_ids\n",
      "storage_controller   - DEBUG    - StorageController status: There are currently 0 scheduled tasks for 1 visit_ids\n"
     ]
    },
    {
     "name": "stderr",
     "output_type": "stream",
     "text": [
      "Executing <Task pending name='Task-12' coro=<StorageController._handler() running at /home/saiid/OpenWPM/openwpm/storage/storage_controller.py:95> wait_for=<Future pending cb=[Task.task_wakeup()] created at /home/saiid/miniconda3/envs/openwpm/lib/python3.10/asyncio/base_events.py:429> created at /home/saiid/miniconda3/envs/openwpm/lib/python3.10/asyncio/streams.py:244> took 0.176 seconds\n"
     ]
    },
    {
     "name": "stdout",
     "output_type": "stream",
     "text": [
      "storage_controller   - DEBUG    - StorageController status: There are currently 0 scheduled tasks for 1 visit_ids\n"
     ]
    },
    {
     "name": "stderr",
     "output_type": "stream",
     "text": [
      "Executing <Task pending name='Task-12' coro=<StorageController._handler() running at /home/saiid/OpenWPM/openwpm/storage/storage_controller.py:95> wait_for=<Future pending cb=[Task.task_wakeup()] created at /home/saiid/miniconda3/envs/openwpm/lib/python3.10/asyncio/base_events.py:429> created at /home/saiid/miniconda3/envs/openwpm/lib/python3.10/asyncio/streams.py:244> took 0.192 seconds\n"
     ]
    },
    {
     "name": "stdout",
     "output_type": "stream",
     "text": [
      "browser_manager      - INFO     - BROWSER 742193888: EXECUTING COMMAND: TryEvadeCookiesBannerCommand\n",
      "cookies              - INFO     - Unable to evade cookies banner or it doesn't exist...\n",
      "browser_manager      - INFO     - BROWSER 742193888: EXECUTING COMMAND: SaveScreenshotCommand(None-base)\n",
      "storage_controller   - DEBUG    - Initializing new handler\n",
      "storage_controller   - INFO     - Terminating handler, because the underlying socket closed\n",
      "storage_controller   - DEBUG    - StorageController status: There are currently 0 scheduled tasks for 1 visit_ids\n",
      "browser_manager      - INFO     - BROWSER 742193888: EXECUTING COMMAND: DomDumpCommand\n",
      "storage_controller   - DEBUG    - Initializing new handler\n",
      "browser_manager      - INFO     - BROWSER 742193888: EXECUTING COMMAND: SalientRepeatInteractCommand\n",
      "interact             - INFO     - 3 possible interactions\n",
      "storage_controller   - INFO     - Terminating handler, because the underlying socket closed\n",
      "interact             - INFO     - <class 'BreakageClassifier.code.crawl.interact.ClickAction'> @ {tag:img}\n",
      "interact             - DEBUG    - Before page change\n",
      "interact             - DEBUG    - After page change\n",
      "interact             - INFO     - <class 'BreakageClassifier.code.crawl.interact.ClickAction'> @ {tag:iframe}\n",
      "storage_controller   - DEBUG    - StorageController status: There are currently 0 scheduled tasks for 1 visit_ids\n",
      "interact             - DEBUG    - Before page change\n",
      "interact             - DEBUG    - After page change\n",
      "interact             - INFO     - <class 'BreakageClassifier.code.crawl.interact.ClickAction'> @ {tag:iframe}\n",
      "storage_controller   - DEBUG    - StorageController status: There are currently 0 scheduled tasks for 1 visit_ids\n",
      "interact             - DEBUG    - Before page change\n",
      "interact             - DEBUG    - After page change\n",
      "browser_manager      - INFO     - BROWSER 742193888: EXECUTING COMMAND: FinalizeCommand(5)\n",
      "storage_controller   - DEBUG    - Initializing new handler\n",
      "storage_controller   - INFO     - Terminating handler, because the underlying socket closed\n",
      "storage_controller   - DEBUG    - StorageController status: There are currently 0 scheduled tasks for 1 visit_ids\n",
      "browser_manager      - INFO     - Finished working on CommandSequence with visit_id 2126882030155342 on browser with id 742193888\n",
      "storage_controller   - INFO     - Awaiting all tasks for visit_id 2126882030155342\n",
      "storage_controller   - DEBUG    - Awaited all tasks for visit_id 2126882030155342 while finalizing\n",
      "task_manager         - DEBUG    - Checking command failure status indicator...\n",
      "storage_controller   - DEBUG    - StorageController status: There are currently 0 scheduled tasks for 0 visit_ids\n",
      "task_manager         - DEBUG    - Invoking callback of visit_id 2126882030155342\n",
      "crawl                - INFO     - issue 165863 [3/3]: None filterlist crawl success | https://www.toy-people.com/?p=84842\n",
      "crawl                - INFO     - Stats: successfull crawls - 3/3 ~ 100% | successfull issues - 1/1 ~ 100%\n",
      "browser_manager      - DEBUG    - BROWSER 742193888: Closing browser manager...\n",
      "browser_manager      - DEBUG    - BROWSER 742193888: Closing browser...\n",
      "browser_manager      - DEBUG    - BROWSER 742193888: Joining command thread\n",
      "browser_manager      - DEBUG    - BROWSER 742193888: 0.000020 seconds to join command thread\n",
      "storage_controller   - INFO     - Terminating handler, because the underlying socket closed\n",
      "browser_manager      - DEBUG    - BROWSER 742193888: Browser manager closed successfully.\n",
      "browser_manager      - DEBUG    - BROWSER 742193888: during_init=False | profile_archive_dir=None\n",
      "storage_controller   - DEBUG    - Sending the shutdown signal to the Storage Controller...\n",
      "storage_controller   - INFO     - Terminating handler, because the underlying socket closed\n",
      "storage_controller   - INFO     - Received shutdown signal!\n",
      "storage_controller   - DEBUG    - StorageControllerHandle took 3.5736730098724365 seconds to close.\n",
      "Shutdown took 7.051516532897949 seconds\n"
     ]
    }
   ],
   "source": [
    "from BreakageClassifier.code.crawl.ablockers import adguard, ublock\n",
    "from BreakageClassifier.code.crawl.crawl import CrawlerConfig, Crawler\n",
    "from Saliency.classify import SaliencyClassifierConfig\n",
    "from Saliency.segment.vips.vips import Vips\n",
    "from Saliency.utils import saliency_score\n",
    "from pathlib import Path\n",
    "\n",
    "DEBUG_ISSUE = 165863\n",
    "\n",
    "# Configuration\n",
    "\n",
    "saliency_conf = SaliencyClassifierConfig(\n",
    "    fp=Path(\"../Saliency/models/rf\").resolve(),\n",
    "    segment=Vips,\n",
    "    pre_scoring=saliency_score,\n",
    "    pre_scoring_threshold=0,\n",
    ")\n",
    "\n",
    "conf = CrawlerConfig(\n",
    "    saliency=saliency_conf,\n",
    "    screenshots=True,\n",
    "    adblocker=adguard,\n",
    "    dom_dump_timeout=3 * 60,\n",
    "    filterlist_load_timeout=4 * 60,\n",
    "    log_debug=True,\n",
    "    headless=True\n",
    ")\n",
    "\n",
    "crawler = Crawler(\n",
    "    num_browsers=1,\n",
    "    data_dir=Path(\"crawl-out/adguard/adguard-debug-neg\"),\n",
    "    conf=conf,\n",
    "    forced=True,\n",
    ")\n",
    "\n",
    "crawler.debug_issue(Path(\"../BreakageClassifier/code/forums/adguard/adguard-neg/adguard-data.csv\"), Path(\"../BreakageClassifier/code/forums/adguard/adguard-neg/filterlists/\"), DEBUG_ISSUE)"
   ]
  },
  {
   "cell_type": "markdown",
   "metadata": {},
   "source": [
    "# Stats"
   ]
  },
  {
   "cell_type": "markdown",
   "metadata": {},
   "source": [
    "## Running time"
   ]
  },
  {
   "cell_type": "code",
   "execution_count": 2,
   "metadata": {},
   "outputs": [],
   "source": [
    "CRAWL_DIR = Path(\"crawl-out/adguard-full/\")\n",
    "\n",
    "with Database(CRAWL_DIR / 'crawl-data.sqlite', CRAWL_DIR / 'experiments.csv') as db:\n",
    "    site_visits = db.sites_visits()\n",
    "    command_durations = db.get_runtime()"
   ]
  },
  {
   "cell_type": "code",
   "execution_count": 7,
   "metadata": {},
   "outputs": [],
   "source": [
    "from numpy import result_type\n",
    "\n",
    "\n",
    "commands = [\n",
    "    'ClearCookiesCommand',\n",
    "    'FilterListLoadCommand',\n",
    "    'GetCommand',\n",
    "    'TryEvadeCookieBannerCommand',\n",
    "    'SalientDomDumpCommand',\n",
    "    'SalientRandomInteractCommand',\n",
    "    'DOMDumpCommand',\n",
    "    'SalientRepeatInteractCommand',\n",
    "]\n",
    "\n",
    "def get_visit_command_runtimes(df_visit):\n",
    "    \n",
    "    out = {}\n",
    "    \n",
    "    for command in commands:\n",
    "        _match = df_visit[df_visit.command == command]\n",
    "        if len(_match) > 0:\n",
    "            out[command] = _match.duration.mean() / 1000\n",
    "        else:\n",
    "            out[command] = 0\n",
    "            \n",
    "    out['total'] = df_visit.duration.sum() / 1000\n",
    "            \n",
    "    return pd.Series(out)\n",
    "\n",
    "    \n",
    "visit_durations = command_durations.groupby('visit_id').apply(get_visit_command_runtimes).reset_index()"
   ]
  },
  {
   "cell_type": "code",
   "execution_count": 24,
   "metadata": {},
   "outputs": [],
   "source": [
    "site_durations = []\n",
    "\n",
    "for _, site in site_visits.iterrows():\n",
    "    \n",
    "    for i, visit_id in enumerate([site.visit_id_a, site.visit_id_b, site.visit_id_u]):\n",
    "    \n",
    "        _visits_durations=  visit_durations[visit_durations.visit_id == visit_id].copy()\n",
    "        _visits_durations['issue'] = site.issue_id\n",
    "        _visits_durations['visit_order'] = i\n",
    "    \n",
    "        site_durations.append(_visits_durations)\n",
    "    \n",
    "site_durations = pd.concat(site_durations)"
   ]
  },
  {
   "cell_type": "code",
   "execution_count": 25,
   "metadata": {},
   "outputs": [
    {
     "data": {
      "text/plain": [
       "48.11472007366483"
      ]
     },
     "execution_count": 25,
     "metadata": {},
     "output_type": "execute_result"
    }
   ],
   "source": [
    "site_durations.total.mean()"
   ]
  },
  {
   "cell_type": "code",
   "execution_count": 26,
   "metadata": {},
   "outputs": [],
   "source": [
    "site_durations.to_csv(CRAWL_DIR / \"site-durations.csv\", index=False)"
   ]
  },
  {
   "cell_type": "code",
   "execution_count": 40,
   "metadata": {},
   "outputs": [
    {
     "data": {
      "text/plain": [
       "17.893149708373574"
      ]
     },
     "execution_count": 40,
     "metadata": {},
     "output_type": "execute_result"
    }
   ],
   "source": [
    "first_crawls = site_durations[site_durations.visit_order == 2]\n",
    "first_crawls.total.std()"
   ]
  },
  {
   "cell_type": "code",
   "execution_count": 36,
   "metadata": {},
   "outputs": [
    {
     "data": {
      "text/plain": [
       "21.771910833333333"
      ]
     },
     "execution_count": 36,
     "metadata": {},
     "output_type": "execute_result"
    }
   ],
   "source": [
    "site_durations.total.sum() / 60 / 60"
   ]
  },
  {
   "cell_type": "code",
   "execution_count": null,
   "metadata": {},
   "outputs": [],
   "source": []
  }
 ],
 "metadata": {
  "kernelspec": {
   "display_name": "openwpm",
   "language": "python",
   "name": "python3"
  },
  "language_info": {
   "codemirror_mode": {
    "name": "ipython",
    "version": 3
   },
   "file_extension": ".py",
   "mimetype": "text/x-python",
   "name": "python",
   "nbconvert_exporter": "python",
   "pygments_lexer": "ipython3",
   "version": "3.10.4"
  },
  "orig_nbformat": 4
 },
 "nbformat": 4,
 "nbformat_minor": 2
}
