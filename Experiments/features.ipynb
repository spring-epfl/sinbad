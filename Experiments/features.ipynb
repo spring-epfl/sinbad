{
 "cells": [
  {
   "cell_type": "code",
   "execution_count": 1,
   "metadata": {},
   "outputs": [],
   "source": [
    "from BreakageClassifier.code.run import process_issue, pipeline\n",
    "from BreakageClassifier.code import run as features\n",
    "from pathlib import Path\n",
    "import pandas as pd\n",
    "from tqdm import tqdm\n",
    "from collections import namedtuple\n",
    "import matplotlib.pyplot as plt\n",
    "from BreakageClassifier.code.graph.database import Database\n",
    "\n",
    "import random\n",
    "\n",
    "\n",
    "from dotenv import load_dotenv, find_dotenv\n",
    "load_dotenv()\n",
    "DOTENV_PATH = find_dotenv()\n",
    "DIR = Path(DOTENV_PATH).parent\n",
    "\n",
    "# CRAWL_OUT_DIR_EASYLIST = DIR.joinpath(\"crawl-out/easylist/datadir-dd1d84b6414e12f7b8af4dc010d5bfac4b0f123c/\")\n",
    "CRAWL_OUT_DIR_EASYLIST = DIR.joinpath(\"crawl-out/easylist/datadir-27-5-2023-with-query\")\n",
    "\n",
    "CRAWL_OUT_DIR_UBLOCK = DIR.joinpath(\"crawl-out/ublock/datadir-27-5-2023-with-query-utc\")\n",
    "\n",
    "SALIENCY_MODEL_PATH = DIR.joinpath(\"../WebModelGen/block_classifier/pretrained-models/model-0.joblib\").resolve()\n",
    "\n",
    "class EASYLIST:\n",
    "    CRAWL_DIR = CRAWL_OUT_DIR_EASYLIST\n",
    "    DB_PATH = CRAWL_OUT_DIR_EASYLIST.joinpath('crawl-data.sqlite')\n",
    "    EXP_PATH = CRAWL_OUT_DIR_EASYLIST.joinpath('experiments.csv')\n",
    "    FILTERLISTS_DIR = DIR.joinpath(\"forums-out/easylist/filterlists\")\n",
    "    OUTPUT_DIR = DIR.joinpath(\"features-out/easylist/\").joinpath(CRAWL_OUT_DIR_EASYLIST.name)\n",
    "    FEATURES_DIR = DIR / \"features-out\" /  \"easylist\" / \"datadir-30-05-23-full\"\n",
    "    \n",
    "class UBLOCK:\n",
    "    CRAWL_DIR = CRAWL_OUT_DIR_UBLOCK\n",
    "    DB_PATH = CRAWL_OUT_DIR_UBLOCK.joinpath('crawl-data.sqlite')\n",
    "    EXP_PATH = CRAWL_OUT_DIR_UBLOCK.joinpath('experiments.csv')\n",
    "    FILTERLISTS_DIR = DIR.joinpath(\"forums-out/ublock/filterlists\")\n",
    "    OUTPUT_DIR = DIR.joinpath(\"features-out/ublock/\").joinpath(CRAWL_OUT_DIR_UBLOCK.name)\n",
    "    FEATURES_DIR = DIR /\"features-out\" / \"ublock\" /  \"datadir-30-05-23-full\"\n",
    "\n",
    "random.seed(102)"
   ]
  },
  {
   "cell_type": "code",
   "execution_count": 5,
   "metadata": {},
   "outputs": [],
   "source": [
    "import pandas as pd\n",
    "\n",
    "def concat_two_dfs(df1, df2):\n",
    "    return pd.concat([df1, df2], axis=0, ignore_index=True)\n",
    "\n",
    "\n",
    "df_edits = concat_two_dfs(pd.read_csv(\"./features-out/adguard/adguard-full-3/edits.csv\"), pd.read_csv(\"./features-out/adguard/adguard-full-4/edits.csv\"))\n",
    "df_log = concat_two_dfs(pd.read_csv(\"./features-out/adguard/adguard-full-3/log.csv\"), pd.read_csv(\"./features-out/adguard/adguard-full-4/log.csv\"))\n",
    "df_nodes = concat_two_dfs(pd.read_csv(\"./features-out/adguard/adguard-full-3/nodes.csv\"), pd.read_csv(\"./features-out/adguard/adguard-full-4/nodes.csv\"))\n",
    "df_edges = concat_two_dfs(pd.read_csv(\"./features-out/adguard/adguard-full-3/edges.csv\"), pd.read_csv(\"./features-out/adguard/adguard-full-4/edges.csv\"))\n",
    "\n",
    "df_edits.to_csv(\"./features-out/adguard/adguard-final/edits.csv\", index=False)\n",
    "df_log.to_csv(\"./features-out/adguard/adguard-final/log.csv\", index=False)\n",
    "df_nodes.to_csv(\"./features-out/adguard/adguard-final/nodes.csv\", index=False)\n",
    "df_edges.to_csv(\"./features-out/adguard/adguard-final/edges.csv\", index=False)\n"
   ]
  },
  {
   "cell_type": "code",
   "execution_count": 10,
   "metadata": {},
   "outputs": [
    {
     "data": {
      "text/plain": [
       "0     145\n",
       "1     107\n",
       "2      65\n",
       "3      55\n",
       "4      43\n",
       "5      23\n",
       "7      17\n",
       "9      14\n",
       "6      13\n",
       "8      10\n",
       "10      8\n",
       "11      7\n",
       "14      6\n",
       "12      5\n",
       "20      4\n",
       "16      3\n",
       "18      2\n",
       "13      2\n",
       "19      1\n",
       "26      1\n",
       "45      1\n",
       "27      1\n",
       "36      1\n",
       "22      1\n",
       "33      1\n",
       "31      1\n",
       "21      1\n",
       "46      1\n",
       "35      1\n",
       "94      1\n",
       "17      1\n",
       "Name: broken_subtree_count, dtype: int64"
      ]
     },
     "execution_count": 10,
     "metadata": {},
     "output_type": "execute_result"
    }
   ],
   "source": [
    "df_log.broken_subtree_count.value_counts()"
   ]
  },
  {
   "attachments": {},
   "cell_type": "markdown",
   "metadata": {},
   "source": [
    "# Process one issue:"
   ]
  },
  {
   "cell_type": "code",
   "execution_count": 3,
   "metadata": {},
   "outputs": [
    {
     "name": "stdout",
     "output_type": "stream",
     "text": [
      "Loading issues from /home/saiid/summer22-SaiidHajj/Experiments/crawl-out/easylist/datadir-27-5-2023-with-query\n",
      "Number of issues: 49\n",
      "visit_id_b                                     8806563340214769.0\n",
      "browser_id_b                                         2674795419.0\n",
      "visit_id_u                                     4956138980509522.0\n",
      "browser_id_u                                         2674795419.0\n",
      "visit_id_a                                     1562195087301110.0\n",
      "browser_id_a                                         2674795419.0\n",
      "error                                                       False\n",
      "issue_id                                                    46855\n",
      "site_url        https://archive.org/details/sim_journal-of-adv...\n",
      "Name: https://archive.org/details/sim_journal-of-advertising_1986_15_1, dtype: object\n",
      "Testing features\n",
      "INFO ISSUE 46855\n",
      "\n",
      "DEBUG Building no-to-fixed diff-tree\n",
      "\n",
      "DEBUG no-to-fixed diff-tree completed in 24 s\n",
      "\n",
      "DEBUG Building fixed-to-broken diff-tree\n",
      "\n",
      "DEBUG fixed-to-broken diff-tree completed in 22 s\n",
      "\n",
      "DEBUG Building no-to-broken diff-tree\n",
      "\n",
      "DEBUG no-to-broken diff-tree completed in 20 s\n",
      "\n",
      "DEBUG labeling subtrees completed in 0 s\n",
      "\n",
      "DEBUG Generated edits: 14 subtrees, 243 subtree nodes\n",
      "\n",
      "DEBUG Subtrees distribution: fixed (-1) - 14, neutral (0) - 0, broken (1) - 0\n",
      "\n",
      "DEBUG Generated a global graph of 71 nodes and 8 edges\n",
      "\n",
      "INFO Done! total time: 67 s\n",
      "\n"
     ]
    }
   ],
   "source": [
    "print(f\"Loading issues from {EASYLIST.CRAWL_DIR}\")\n",
    "with Database(EASYLIST.DB_PATH, EASYLIST.EXP_PATH) as database:\n",
    "    issues = database.sites_visits()\n",
    "    print(f\"Number of issues: {len(issues)}\")\n",
    "    \n",
    "    issue = issues.iloc[random.randint(0, len(issues)-1)]\n",
    "    print(issue)\n",
    "\n",
    "    print(\"Testing features\")\n",
    "    _edits, issue_log, nodes_df, edges_df = process_issue(issue, database)\n",
    "    \n",
    "    # df_dom = database.get_dom_from_visit_id(issue.visit_id_a)\n",
    "    \n",
    "    # print(df_dom[df_dom.saliency == 1.0])"
   ]
  },
  {
   "attachments": {},
   "cell_type": "markdown",
   "metadata": {},
   "source": [
    "# Labels Experiments"
   ]
  },
  {
   "cell_type": "code",
   "execution_count": 4,
   "metadata": {},
   "outputs": [
    {
     "name": "stdout",
     "output_type": "stream",
     "text": [
      "Loading issues from /home/saiid/summer22-SaiidHajj/Experiments/crawl-out/ublock/datadir-27-5-2023-with-query-utc\n",
      "Number of issues: 203\n",
      "visit_id_b                                     1219330645448462.0\n",
      "browser_id_b                                          526726591.0\n",
      "visit_id_u                                     8551897169568031.0\n",
      "browser_id_u                                          526726591.0\n",
      "visit_id_a                                     5626242413627040.0\n",
      "browser_id_a                                          526726591.0\n",
      "error                                                       False\n",
      "issue_id                                                    11557\n",
      "site_url        https://www.scan-manga.com/lecture-en-ligne/Th...\n",
      "Name: https://www.scan-manga.com/lecture-en-ligne/The-Lazy-Prince-Becomes-a-Genius-Chapitre-39-FR_222582.html, dtype: object\n",
      "Testing features\n",
      "!no interactions\n",
      "df_after. 327 nodes.\n",
      "!no interactions\n",
      "df_unfiltered. 4 nodes.\n",
      "!no interactions\n",
      "df_broken. 4 nodes.\n",
      "Number of salient nodes:  0\n",
      "!no interactions\n",
      "!no interactions\n",
      "u to a done. 38 subtrees. 370 nodes.\n",
      "!no interactions\n",
      "!no interactions\n",
      "a to b done. 38 subtrees. 370 nodes.\n",
      "!no interactions\n",
      "!no interactions\n",
      "u to b done. 2 subtrees. 2 nodes.\n"
     ]
    }
   ],
   "source": [
    "print(f\"Loading issues from {UBLOCK.CRAWL_DIR}\")\n",
    "with Database(UBLOCK.DB_PATH, UBLOCK.EXP_PATH) as database:\n",
    "    issues = database.sites_visits()\n",
    "    print(f\"Number of issues: {len(issues)}\")\n",
    "    \n",
    "    issue = issues.iloc[random.randint(0, len(issues)-1)]\n",
    "    print(issue)\n",
    "\n",
    "    print(\"Testing features\")\n",
    "    _, df_after, df_nodes_after, df_edges_after = features.build_graph(database, issue.visit_id_a, issue.site_url)\n",
    "    salient_nodes = df_after[df_after.saliency == 1.0]\n",
    "    \n",
    "    print(f\"df_after. {len(df_after)} nodes.\")\n",
    "    \n",
    "    df_unfiltered = features.build_graph(database, issue.visit_id_u, issue.site_url)\n",
    "    \n",
    "    print(f\"df_unfiltered. {len(df_unfiltered)} nodes.\") \n",
    "    \n",
    "    df_broken = features.build_graph(database, issue.visit_id_b, issue.site_url)\n",
    "    \n",
    "    print(f\"df_broken. {len(df_broken)} nodes.\") \n",
    "    \n",
    "    print(\"Number of salient nodes: \", len(salient_nodes))\n",
    "    \n",
    "    (*_, salient_nodes, no_to_fixed_common, no_to_fixed_diff, no_to_fixed_nodes, no_to_fixed_edges) = features.process_differential_experiment(\n",
    "            issue.browser_id_u,(issue.visit_id_u, issue.visit_id_a), database, issue.site_url, salient_nodes\n",
    "        )\n",
    "    \n",
    "    print(f\"u to a done. {len(no_to_fixed_diff[no_to_fixed_diff['is_root'] == True])} subtrees. {len(no_to_fixed_diff)} nodes.\")\n",
    "    \n",
    "    *_, fixed_to_broken_diff, fixed_to_broken_nodes, fixed_to_broken_edges = features.process_differential_experiment(\n",
    "            issue.browser_id_u, (issue.visit_id_a, issue.visit_id_b), database, issue.site_url, salient_nodes\n",
    "        )\n",
    "    \n",
    "    print(f\"a to b done. {len(fixed_to_broken_diff[fixed_to_broken_diff['is_root'] == True])} subtrees. {len(fixed_to_broken_diff)} nodes.\")\n",
    "    \n",
    "    *_, no_to_broken_diff, no_to_broken_nodes, no_to_broken_edges = features.process_differential_experiment(\n",
    "            issue.browser_id_u, (issue.visit_id_u, issue.visit_id_b), database, issue.site_url, salient_nodes\n",
    "        )\n",
    "    \n",
    "    print(f\"u to b done. {len(no_to_broken_diff[no_to_broken_diff['is_root'] == True])} subtrees. {len(no_to_broken_diff)} nodes.\")"
   ]
  },
  {
   "attachments": {},
   "cell_type": "markdown",
   "metadata": {},
   "source": [
    "# Segmentation Experiments"
   ]
  },
  {
   "cell_type": "code",
   "execution_count": 4,
   "metadata": {},
   "outputs": [
    {
     "name": "stdout",
     "output_type": "stream",
     "text": [
      "Index(['new_attr_class', 'new_attr_id', 'new_attr_src', 'new_attr', 'new_bid',\n",
      "       'new_id', 'new_parent', 'new_te', 'new_tl', 'new_vid', 'new_vc',\n",
      "       'saliency', 'party', 'is_root', 'prev_bid', 'prev_vid', 'prev_id',\n",
      "       'tag', 'type', 'prev_attr', 'prev_vc', 'prev_parent', 'prev_te',\n",
      "       'prev_tl', 'block', 'domain', 'top_level_domain', 'prev_attr_id',\n",
      "       'prev_attr_class', 'prev_attr_src', 'edited', 'removed', 'added',\n",
      "       'processed', 'is_breaking', 'origin', 'flipped', 'issue'],\n",
      "      dtype='object')\n"
     ]
    }
   ],
   "source": [
    "edits_df = pd.read_csv(str(UBLOCK.FATURES_DIR / \"edits.csv\"))\n",
    "edit_roots_df = edits_df[edits_df['is_root'] == True]\n",
    "print(edits_df.columns)"
   ]
  },
  {
   "cell_type": "code",
   "execution_count": 11,
   "metadata": {},
   "outputs": [
    {
     "name": "stderr",
     "output_type": "stream",
     "text": [
      "100%|██████████| 3133/3133 [07:43<00:00,  6.76it/s] \n"
     ]
    }
   ],
   "source": [
    "\n",
    "stats = []\n",
    "\n",
    "\n",
    "for _, root in tqdm(edit_roots_df.iterrows(), total=len(edit_roots_df)):\n",
    "    _children = edits_df[\n",
    "        (\n",
    "            (edits_df[\"prev_vid\"] == root.prev_vid)\n",
    "            & (edits_df[\"prev_te\"] > root.prev_te)\n",
    "            & (edits_df[\"prev_tl\"] < root.prev_tl)\n",
    "        )\n",
    "        | (\n",
    "            (edits_df[\"new_vid\"] == root.new_vid)\n",
    "            & (edits_df[\"new_te\"] > root.new_te)\n",
    "            & (edits_df[\"new_tl\"] < root.new_tl)\n",
    "        )\n",
    "    ]\n",
    "    \n",
    "    max_depth = 0\n",
    "    \n",
    "    for _, child in _children.iterrows():\n",
    "        \n",
    "        parent = child.prev_parent if child.prev_parent else child.new_parent\n",
    "        root_id = root.prev_id if root.prev_id else root.new_id\n",
    "        \n",
    "        depth = 0\n",
    "        while parent and parent != root_id:\n",
    "            \n",
    "            pp = _children[_children['prev_id'] == parent]\n",
    "            if len(pp):\n",
    "                parent = pp.iloc[0]\n",
    "                parent = parent.prev_parent if parent.prev_parent else parent.new_parent\n",
    "                depth+= 1\n",
    "                continue\n",
    "            pn = _children[_children['new_id'] == parent]\n",
    "            if len(pn):\n",
    "                parent = pn.iloc[0]\n",
    "                parent = parent.prev_parent if parent.prev_parent else parent.new_parent\n",
    "                depth+= 1\n",
    "                continue\n",
    "            \n",
    "            if not len(pp) and not len(pn):\n",
    "                break\n",
    "            \n",
    "        if depth > max_depth:\n",
    "            max_depth = depth\n",
    "    \n",
    "    stats.append({\n",
    "        'n_nodes': len(_children) +1 ,\n",
    "        'is_breaking': root.is_breaking,\n",
    "        'depth': max_depth\n",
    "    })\n",
    "    \n",
    "    \n",
    "stats = pd.DataFrame(stats)"
   ]
  },
  {
   "cell_type": "code",
   "execution_count": 36,
   "metadata": {},
   "outputs": [
    {
     "name": "stdout",
     "output_type": "stream",
     "text": [
      "Number of subtrees with one node: 209 (49 %)\n",
      "Number of subtrees with 2 nodes: 78 (18 %)\n",
      "Number of subtrees with 3 nodes: 40 (9 %)\n"
     ]
    },
    {
     "data": {
      "text/plain": [
       "Text(0.5, 1.0, 'Distribution of the subtree sizes')"
      ]
     },
     "execution_count": 36,
     "metadata": {},
     "output_type": "execute_result"
    },
    {
     "data": {
      "image/png": "[encoded data removed]",
      "text/plain": [
       "<Figure size 640x480 with 1 Axes>"
      ]
     },
     "metadata": {},
     "output_type": "display_data"
    }
   ],
   "source": [
    "print(f\"Number of subtrees with one node: {len(stats[stats.n_nodes == 1])} ({int(len(stats[stats.n_nodes == 1])/len(stats) * 100)} %)\")\n",
    "print(f\"Number of subtrees with 2 nodes: {len(stats[stats.n_nodes == 2])} ({int(len(stats[stats.n_nodes == 2])/len(stats) * 100)} %)\")\n",
    "print(f\"Number of subtrees with 3 nodes: {len(stats[stats.n_nodes == 3])} ({int(len(stats[stats.n_nodes == 3])/len(stats) * 100)} %)\")\n",
    "\n",
    "\n",
    "stats[stats.n_nodes >3 ].n_nodes.hist()\n",
    "plt.title(\"Distribution of the subtree sizes\")"
   ]
  },
  {
   "cell_type": "code",
   "execution_count": 13,
   "metadata": {},
   "outputs": [
    {
     "name": "stdout",
     "output_type": "stream",
     "text": [
      "Number of subtrees with depth 1: 2554 (81 %)\n",
      "Number of subtrees with depth 2: 155 (4 %)\n",
      "Number of subtrees with depth 3: 118 (3 %)\n"
     ]
    },
    {
     "data": {
      "text/plain": [
       "Text(0.5, 1.0, 'Distribution of the subtree depths')"
      ]
     },
     "execution_count": 13,
     "metadata": {},
     "output_type": "execute_result"
    },
    {
     "data": {
      "image/png": "[encoded data removed]",
      "text/plain": [
       "<Figure size 640x480 with 1 Axes>"
      ]
     },
     "metadata": {},
     "output_type": "display_data"
    }
   ],
   "source": [
    "print(f\"Number of subtrees with depth 1: {len(stats[stats.depth == 0])} ({int(len(stats[stats.depth == 0])/len(stats) * 100)} %)\")\n",
    "print(f\"Number of subtrees with depth 2: {len(stats[stats.depth == 1])} ({int(len(stats[stats.depth == 1])/len(stats) * 100)} %)\")\n",
    "print(f\"Number of subtrees with depth 3: {len(stats[stats.depth == 2])} ({int(len(stats[stats.depth == 2])/len(stats) * 100)} %)\")\n",
    "\n",
    "\n",
    "stats[stats.depth >2 ].depth.hist()\n",
    "plt.title(\"Distribution of the subtree depths\")"
   ]
  },
  {
   "attachments": {},
   "cell_type": "markdown",
   "metadata": {},
   "source": [
    "## Experiment different label strategies"
   ]
  },
  {
   "cell_type": "code",
   "execution_count": 5,
   "metadata": {},
   "outputs": [
    {
     "name": "stderr",
     "output_type": "stream",
     "text": [
      "/home/saiid/miniconda3/envs/openwpm/lib/python3.10/site-packages/pandas/core/reshape/merge.py:916: FutureWarning: In a future version, the Index constructor will not infer numeric dtypes when passed object-dtype sequences (matching Series behavior)\n",
      "  key_col = Index(lvals).where(~mask_left, rvals)\n"
     ]
    },
    {
     "name": "stdout",
     "output_type": "stream",
     "text": [
      "Edit subtrees: \n",
      " 0    320\n",
      "-1    103\n",
      "Name: is_breaking, dtype: int64\n",
      " 0    320\n",
      "-1    103\n",
      "Name: is_breaking, dtype: int64\n",
      "Number of subtrees that are fixing but removed:  103\n"
     ]
    },
    {
     "name": "stderr",
     "output_type": "stream",
     "text": [
      "/home/saiid/miniconda3/envs/openwpm/lib/python3.10/site-packages/pandas/core/reshape/merge.py:916: FutureWarning: In a future version, the Index constructor will not infer numeric dtypes when passed object-dtype sequences (matching Series behavior)\n",
      "  key_col = Index(lvals).where(~mask_left, rvals)\n"
     ]
    }
   ],
   "source": [
    "_edits = features.dl.label_alterations2(\n",
    "            no_to_fixed_common,\n",
    "            no_to_fixed_diff,\n",
    "            fixed_to_broken_diff,\n",
    "            no_to_broken_diff,\n",
    "        )\n",
    "\n",
    "print(\"Edit subtrees: \")\n",
    "print(_edits.is_breaking.value_counts())\n",
    "print(_edits.is_breaking.value_counts())\n",
    "print(\"Number of subtrees that are fixing but removed: \", len(_edits[(_edits.removed == True) & (_edits.is_breaking == -1)]))"
   ]
  },
  {
   "attachments": {},
   "cell_type": "markdown",
   "metadata": {},
   "source": [
    "# Saliency Experiments"
   ]
  },
  {
   "cell_type": "code",
   "execution_count": 9,
   "metadata": {},
   "outputs": [
    {
     "name": "stderr",
     "output_type": "stream",
     "text": [
      "100%|██████████| 62/62 [00:02<00:00, 21.65it/s]\n",
      "100%|██████████| 242/242 [01:03<00:00,  3.83it/s]\n"
     ]
    }
   ],
   "source": [
    "def get_saliencies(db_path, exp_path):\n",
    "    with Database(db_path, exp_path) as database:\n",
    "        issues = database.sites_visits()\n",
    "        \n",
    "        saliency_values = {}\n",
    "        saliencies_ratios = []\n",
    "        saliencies_nums = []\n",
    "        element_nums = []\n",
    "        \n",
    "        for _, issue in tqdm(issues.iterrows(), total = len(issues)):\n",
    "            df_dom = database.get_dom_from_visit_id(issue.visit_id_a)\n",
    "            \n",
    "            sal_vals = df_dom.saliency.value_counts().to_dict()\n",
    "            saliencies_nums.append(sal_vals.get(1.0, 0))\n",
    "            element_nums.append(sum(sal_vals.values()))\n",
    "            \n",
    "            saliencies_ratios.append(saliencies_nums[-1]/ element_nums[-1] if element_nums[-1] else 1)\n",
    "            \n",
    "            for key in sal_vals:\n",
    "                \n",
    "                if key not in saliency_values:\n",
    "                    saliency_values[key] = 0\n",
    "                \n",
    "                saliency_values[key] += sal_vals[key]\n",
    "                \n",
    "    return issues, saliency_values, element_nums, saliencies_nums, saliencies_ratios\n",
    "\n",
    "Saliencies = namedtuple(\"Saliencies\", \"issues saliency_values element_nums saliencies_nums saliencies_ratios\")\n",
    "\n",
    "easylist_saliencies = Saliencies(*get_saliencies(EASYLIST.DB_PATH, EASYLIST.EXP_PATH))\n",
    "ublock_saliencies = Saliencies(*get_saliencies(UBLOCK.DB_PATH, UBLOCK.EXP_PATH))\n"
   ]
  },
  {
   "cell_type": "code",
   "execution_count": 10,
   "metadata": {},
   "outputs": [
    {
     "name": "stdout",
     "output_type": "stream",
     "text": [
      "Easylist\n",
      "{0.0: 1336, 1.0: 461}\n",
      "0 issues have no elements\n",
      "11 issues have no salient elements\n",
      "1 issues where all elements are salient\n",
      "---------------\n",
      "Ublock\n",
      "{0.0: 5662, 1.0: 1845}\n",
      "15 issues have no elements\n",
      "56 issues have no salient elements\n",
      "21 issues where all elements are salient\n",
      "---------------\n"
     ]
    },
    {
     "data": {
      "image/png": "[encoded data removed]",
      "text/plain": [
       "<Figure size 640x480 with 6 Axes>"
      ]
     },
     "metadata": {},
     "output_type": "display_data"
    }
   ],
   "source": [
    "print(\"Easylist\")\n",
    "print(easylist_saliencies.saliency_values)\n",
    "print(f\"{len(list(filter(lambda x: x == 0, easylist_saliencies.element_nums)))} issues have no elements\")\n",
    "print(f\"{len(list(filter(lambda x: x == 0, easylist_saliencies.saliencies_nums)))} issues have no salient elements\")\n",
    "print(f\"{len(list(filter(lambda x: x[0] == x[1], zip(easylist_saliencies.saliencies_nums, easylist_saliencies.element_nums))))} issues where all elements are salient\")\n",
    "print(\"---------------\")\n",
    "\n",
    "print(\"Ublock\")\n",
    "print(ublock_saliencies.saliency_values)\n",
    "print(f\"{len(list(filter(lambda x: x == 0, ublock_saliencies.element_nums)))} issues have no elements\")\n",
    "print(f\"{len(list(filter(lambda x: x == 0, ublock_saliencies.saliencies_nums)))} issues have no salient elements\")\n",
    "print(f\"{len(list(filter(lambda x: x[0] == x[1], zip(ublock_saliencies.saliencies_nums, ublock_saliencies.element_nums))))} issues where all elements are salient\")\n",
    "print(\"---------------\")\n",
    "\n",
    "\n",
    "import matplotlib.pyplot as plt\n",
    "\n",
    "n_bins = 30\n",
    "\n",
    "plt.subplot(3,2,1)\n",
    "plt.hist(easylist_saliencies.element_nums, bins=n_bins)\n",
    "plt.title(\"easylist elements counts\")\n",
    "\n",
    "plt.subplot(3,2,2)\n",
    "plt.hist(ublock_saliencies.element_nums, bins=n_bins)\n",
    "plt.title(\"ublock elements counts\")\n",
    "\n",
    "plt.subplot(3,2,3)\n",
    "plt.hist(easylist_saliencies.saliencies_nums, bins=n_bins)\n",
    "plt.title(\"salient element counts\")\n",
    "\n",
    "plt.subplot(3,2,4)\n",
    "plt.hist(ublock_saliencies.saliencies_nums, bins=n_bins)\n",
    "plt.title(\"salient element counts\")\n",
    "\n",
    "plt.subplot(3,2,5)\n",
    "plt.hist(easylist_saliencies.saliencies_ratios, bins=n_bins)\n",
    "plt.title(\"salient element ratios\")\n",
    "\n",
    "plt.subplot(3,2,6)\n",
    "plt.hist(ublock_saliencies.saliencies_ratios, bins=n_bins)\n",
    "plt.title(\"salient element ratios\")\n",
    "\n",
    "plt.show()"
   ]
  },
  {
   "cell_type": "code",
   "execution_count": 16,
   "metadata": {},
   "outputs": [
    {
     "name": "stdout",
     "output_type": "stream",
     "text": [
      "easylist where all elements salient\n",
      "[[46107 'https://ads-net.org']]\n",
      "ublock where all elements salient\n",
      "[[13390\n",
      "  'http://pages.emails.bbc.com/subscribe/?ocid=ear.bbc.email.we.email-signup']\n",
      " [13355 'http://waaw.to/']\n",
      " [13390 'https://careers.southwestair.com/']\n",
      " [13135 'https://crystalmark.info/en/software/crystaldiskinfo/']\n",
      " [11770\n",
      "  'https://demo2.drivetrain.ai/explore/metrics.Temp_Cohort__Jan__22_?f=&planId=6']\n",
      " [11774\n",
      "  'https://demo2.drivetrain.ai/model/modules/Temp_Cohort__Jan__22_/metrics.Temp_Cohort__Jan__22_']\n",
      " [13349 'https://es.wallapop.com/']\n",
      " [13398\n",
      "  'https://eu.tamrieltradecentre.com/pc/Trade/SearchResult?ItemID=211&SortBy=LastSeen&Order=desc']\n",
      " [13143\n",
      "  'https://filmzie.com/content/behind-the-wall?sourceId=613744175971e8001d714cd5']\n",
      " [13397 'https://www.adidas.fr/']\n",
      " [13135\n",
      "  'https://www.adweek.com/agencies/new-data-shows-what-marketers-are-looking-for-with-media-agency-relationships/']\n",
      " [13341\n",
      "  'https://www.apkmirror.com/?post_type=app_release&searchtype=app&s=tiktok']\n",
      " [13280 'https://www.carhartt-wip.com/fr/homme-featured-9']\n",
      " [11457 'https://www.deezer.com/']\n",
      " [8823\n",
      "  'https://www.discoveryplus.in/videos/cry-wolfe/shopaholic?seasonId=2&type=EPISODE']\n",
      " [10874 'https://www.enchambered.com/puzzles/alone-together/player1/']\n",
      " [13341 'https://www.hs.fi/ulkomaat/art-2000008740885.html']\n",
      " [2248 'https://www.sonycrackle.com/']\n",
      " [13143 'https://www.swisslos.ch/de/landingpages/lose/adventslos.html']\n",
      " [13397\n",
      "  'https://www.trovaprezzi.it/cellulari/prezzi-scheda-prodotto/asus_zenfone_8_8gb_256gb-v']\n",
      " [8889 'https://www.vi.nl']]\n"
     ]
    }
   ],
   "source": [
    "print(\"easylist where all elements salient\")\n",
    "print(easylist_saliencies.issues[[x == y for x,y in zip(easylist_saliencies.saliencies_nums, easylist_saliencies.element_nums)]][[\"issue_id\", \"site_url\"]].values)\n",
    "\n",
    "print(\"ublock where all elements salient\")\n",
    "print(ublock_saliencies.issues[[x == y for x,y in zip(ublock_saliencies.saliencies_nums, ublock_saliencies.element_nums)]][[\"issue_id\", \"site_url\"]].values)"
   ]
  },
  {
   "cell_type": "code",
   "execution_count": 17,
   "metadata": {},
   "outputs": [
    {
     "name": "stdout",
     "output_type": "stream",
     "text": [
      "easylist where no salient elements\n",
      "[[46851\n",
      "  'https://3d-load.net/texture-shaders/exes-and-bows-hugs-and-kisses/']\n",
      " [47024 'https://adsys.in']\n",
      " [47367 'https://advert-ai.com/']\n",
      " [46459 'https://cloud.ad-sys.de']\n",
      " [46495 'https://en.calameo.com/read/005393608892f16d8a672']\n",
      " [47382 'https://paste.crdroid.net/wJnlvc']\n",
      " [46123\n",
      "  'https://recorder.ro/lectie-de-santaj-in-guvernul-romaniei-cum-se-elibereaza-functii-pentru-membrii-de-partid/']\n",
      " [47229 'https://unsplash.com/photos/0KZmRMTbBUc']\n",
      " [47253 'https://www.adrunner.io']\n",
      " [47370 'https://www.adspipe.com/barracuda-3d-design-tool']\n",
      " [47396 'https://www.overclockers.co.uk/']]\n",
      "ublock where no salient elements\n",
      "[[13390\n",
      "  'http://pages.emails.bbc.com/subscribe/?ocid=ear.bbc.email.we.email-signup']\n",
      " [13355 'http://waaw.to/']\n",
      " [7575 'https://canalplus.com']\n",
      " [13390 'https://careers.southwestair.com/']\n",
      " [460 'https://cbsnews.com']\n",
      " [13135 'https://crystalmark.info/en/software/crystaldiskinfo/']\n",
      " [11418\n",
      "  'https://docs.google.com/document/d/id-of-document-you-can-edit/edit']\n",
      " [13349 'https://es.wallapop.com/']\n",
      " [13398\n",
      "  'https://eu.tamrieltradecentre.com/pc/Trade/SearchResult?ItemID=211&SortBy=LastSeen&Order=desc']\n",
      " [10700 'https://explosm.net/']\n",
      " [13143\n",
      "  'https://filmzie.com/content/behind-the-wall?sourceId=613744175971e8001d714cd5']\n",
      " [13280 'https://id.churchofjesuschrist.org/']\n",
      " [484 'https://investopedia.com']\n",
      " [13355\n",
      "  'https://jobs.pnp.de/OfferDetail?cn=dguUZ1533UCHKrkGui8R2DziXNFMGIYFyncbnEXwc1HseZ2zK6DBMyWu5bFpxU491h65sQF5NZwmG80iZI0yPJmEH5Ch8Yq2z0LXtgZ_QYvE-p4dTunQ9tsQFe2bqliOTQORXTJic6OL1wiWhK55zFWqjRbb-XAEiRaciUVRwH_-g5i5hAAXYBuSv1SSWUUtIzvqpsJrKZ7x5hoSAzJui0JUAHqGNU-J1D5VeqTYNscr3DTjiPToZHwkYjxopHjrkjM_r8anxqMHGK1xgTVLDujEjmzdFHJ6CaB4v5Xt6po&interest=true']\n",
      " [2840\n",
      "  'https://kisscartoon.ac/Cartoon/Family-Guy-Season-16.82089/Episode-014-Veteran-Guy?id=78926']\n",
      " [7908\n",
      "  'https://knowyourmeme.com/memes/subcultures/fire-emblem-three-houses/photos']\n",
      " [11262 'https://m.webcam-hd.com/lesarcs/grizzly']\n",
      " [12452\n",
      "  'https://mangahub.io/chapter/the-beginning-after-the-end/chapter-138']\n",
      " [10125 'https://megasubtitles.com']\n",
      " [11793 'https://mixdrop.co/']\n",
      " [11649 'https://my.babbel.com/dashboard']\n",
      " [10847 'https://nha.chotot.com/']\n",
      " [11959\n",
      "  'https://qosa.pearsonclinical.com/qosa-a2/1519a163-dece-4850-8969-60fa4d84a5b2']\n",
      " [12584 'https://soap2day.ac/']\n",
      " [12525\n",
      "  'https://stats.statbroadcast.com/broadcast/?id=405575&vislive=tam']\n",
      " [12278\n",
      "  'https://su.gdatasoftware.com/us/sample-submission?key=Y2Q5YzFjZjdmMDIyYTJkMjNlZDcyZmJlYmVkN2VhNmQ2MjViMTVkMzQ5M2Y5YWJl5mQysEtbU28BgY8Kot8ucxlD_qfhKRcBylyAl-VUI4-oiu-Jf8hsXH-H4x4PU_VkTk6TEwTaD0oS5fLgdnMOEFgZAqm0pJj6rigoANAQjLxLOzz9XH9NsoK6NYgcv-53tEb7scNLsEW2m37ZpgLArCspbFxvY2IqVKdlfeB18FfhXhqmNdckroB7WTBDOGroTwJzYzJ5-KXKxua0cnpaNz07WIWUE-g3OuBr9uujv7a2npUWzY3kF9QlIQ94r58-kN6Hb6hBPOwUzhdkncGR8Sds5OIqATaJzYxdintUvubv0TfiqxG-EC7IRVs_h2c8g4rrKIwmE-HsJ7YmSHoDxtWrjkhT7VEiB6iIhllHaCR2X6ZA6w9shlBqzl0n5NjGQOCrfKfOH7DSwrBe0stGcUsE']\n",
      " [12436 'https://urban.arcgis.com/js/468.bundle.js']\n",
      " [12498\n",
      "  'https://watch.globaltv.com/series/2893de5a-f2cc-11ea-9089-0242ac110003/episode/GLOB0056561600000300/?action=play']\n",
      " [13135 'https://willandable.co.nz/products/ecodish-liquid']\n",
      " [13397 'https://www.adidas.fr/']\n",
      " [13135\n",
      "  'https://www.adweek.com/agencies/new-data-shows-what-marketers-are-looking-for-with-media-agency-relationships/']\n",
      " [13341\n",
      "  'https://www.apkmirror.com/?post_type=app_release&searchtype=app&s=tiktok']\n",
      " [10693 'https://www.blacklibrary.com/']\n",
      " [12318\n",
      "  'https://www.bostonglobe.com/2022/03/17/business/bizarre-harassment-natick-couple-by-ebay-was-clearly-criminal-company-admitted/?et_rid=1843249730&s_campaign=todaysheadlines:newsletter']\n",
      " [13280 'https://www.carhartt-wip.com/fr/homme-featured-9']\n",
      " [13349 'https://www.cbssports.com/golf/pga-championship/live/']\n",
      " [6263\n",
      "  'https://www.cvs.com/shop/listerine-cool-mint-antiseptic-mouthwash-for-bad-breath-prodid-1011676']\n",
      " [10874 'https://www.enchambered.com/puzzles/alone-together/player1/']\n",
      " [7928\n",
      "  'https://www.focus.de/finanzen/banken/konto-angeblich-deaktiviert-verbraucherzentrale-warnt-fiese-betrugsmasche-mit-phishing-mails_id_10083669.html']\n",
      " [11061\n",
      "  'https://www.hotstar.com/in/tv/bigg-boss/14455/day-82-in-the-house/1260076768']\n",
      " [13341 'https://www.hs.fi/ulkomaat/art-2000008740885.html']\n",
      " [4761 'https://www.jiosaavn.com/album/phool-aur-angaar/6etmWPjohJo_']\n",
      " [12179 'https://www.leboncoin.fr/compte/part/mes-annonces']\n",
      " [10790\n",
      "  'https://www.mistore.jp/store/nihombashi/event_calendar/italia/201904.html']\n",
      " [12052 'https://www.repco.com.au/en']\n",
      " [7784\n",
      "  'https://www.rundschau-online.de/ratgeber/reise/nur-60-prozent-auslastung-darf-das-hotel-meinen-urlaub-absagen--wenn-es-zu-voll-ist--36669380']\n",
      " [11557\n",
      "  'https://www.scan-manga.com/lecture-en-ligne/The-Lazy-Prince-Becomes-a-Genius-Chapitre-39-FR_222582.html']\n",
      " [11101 'https://www.svd.se/']\n",
      " [13143 'https://www.swisslos.ch/de/landingpages/lose/adventslos.html']\n",
      " [13398 'https://www.teny.co.jp/nnn/news114usnqskwhvwjnrt33.html']\n",
      " [11835 'https://www.triplem.com.au/adelaide']\n",
      " [13397\n",
      "  'https://www.trovaprezzi.it/cellulari/prezzi-scheda-prodotto/asus_zenfone_8_8gb_256gb-v']\n",
      " [12298 'https://www.trygghansa.se/logga-in']\n",
      " [11435 'https://www.uschovna.cz/vyzvednout-zasilku']\n",
      " [12503\n",
      "  'https://www.welt.de/gesundheit/plus175524905/Wie-Kinder-das-Einschlafen-und-Durchschlafen-lernen.html']\n",
      " [4780 'https://xtube.com']]\n"
     ]
    }
   ],
   "source": [
    "print(\"easylist where no salient elements\")\n",
    "print(easylist_saliencies.issues[[x == 0 for x in easylist_saliencies.saliencies_nums]][[\"issue_id\", \"site_url\"]].values)\n",
    "\n",
    "print(\"ublock where no salient elements\")\n",
    "print(ublock_saliencies.issues[[x == 0 for x in ublock_saliencies.saliencies_nums]][[\"issue_id\", \"site_url\"]].values)"
   ]
  },
  {
   "cell_type": "code",
   "execution_count": null,
   "metadata": {},
   "outputs": [],
   "source": [
    "import WebModelGen.block_classifier.classify as saliency_classifier\n",
    "\n",
    "saliency_classifier.debug_page(\"https://www.hotstar.com/in/tv/bigg-boss/14455/day-82-in-the-house/1260076768\", SALIENCY_MODEL_PATH)"
   ]
  },
  {
   "attachments": {},
   "cell_type": "markdown",
   "metadata": {},
   "source": [
    "## Feature Extraction\n",
    "This section details the commands needed to perform feature extraction"
   ]
  },
  {
   "cell_type": "code",
   "execution_count": null,
   "metadata": {},
   "outputs": [],
   "source": [
    "pipeline(\n",
    "    UBLOCK.DB_PATH,\n",
    "    UBLOCK.EXP_PATH,\n",
    "    UBLOCK.CRAWL_DIR.joinpath('content.ldb'),\n",
    "    UBLOCK.FILTERLISTS_DIR,\n",
    "    UBLOCK.OUTPUT_DIR\n",
    ")"
   ]
  },
  {
   "attachments": {},
   "cell_type": "markdown",
   "metadata": {},
   "source": [
    "## Analysis"
   ]
  },
  {
   "cell_type": "code",
   "execution_count": null,
   "metadata": {},
   "outputs": [],
   "source": [
    "import matplotlib.pyplot as plt\n",
    "\n",
    "df = pd.read_csv(\"features-out/ublock/datadir-30-04-2023/features.csv\")\n",
    "df.head(3)"
   ]
  },
  {
   "cell_type": "code",
   "execution_count": 61,
   "metadata": {},
   "outputs": [
    {
     "data": {
      "image/png": "[encoded data removed]",
      "text/plain": [
       "<Figure size 640x480 with 1 Axes>"
      ]
     },
     "metadata": {},
     "output_type": "display_data"
    },
    {
     "data": {
      "text/html": [
       "<div>\n",
       "<style scoped>\n",
       "    .dataframe tbody tr th:only-of-type {\n",
       "        vertical-align: middle;\n",
       "    }\n",
       "\n",
       "    .dataframe tbody tr th {\n",
       "        vertical-align: top;\n",
       "    }\n",
       "\n",
       "    .dataframe thead th {\n",
       "        text-align: right;\n",
       "    }\n",
       "</style>\n",
       "<table border=\"1\" class=\"dataframe\">\n",
       "  <thead>\n",
       "    <tr style=\"text-align: right;\">\n",
       "      <th></th>\n",
       "      <th>count</th>\n",
       "    </tr>\n",
       "  </thead>\n",
       "  <tbody>\n",
       "    <tr>\n",
       "      <th>count</th>\n",
       "      <td>625.000000</td>\n",
       "    </tr>\n",
       "    <tr>\n",
       "      <th>mean</th>\n",
       "      <td>10.211200</td>\n",
       "    </tr>\n",
       "    <tr>\n",
       "      <th>std</th>\n",
       "      <td>14.613181</td>\n",
       "    </tr>\n",
       "    <tr>\n",
       "      <th>min</th>\n",
       "      <td>1.000000</td>\n",
       "    </tr>\n",
       "    <tr>\n",
       "      <th>25%</th>\n",
       "      <td>2.000000</td>\n",
       "    </tr>\n",
       "    <tr>\n",
       "      <th>50%</th>\n",
       "      <td>5.000000</td>\n",
       "    </tr>\n",
       "    <tr>\n",
       "      <th>75%</th>\n",
       "      <td>12.000000</td>\n",
       "    </tr>\n",
       "    <tr>\n",
       "      <th>max</th>\n",
       "      <td>120.000000</td>\n",
       "    </tr>\n",
       "  </tbody>\n",
       "</table>\n",
       "</div>"
      ],
      "text/plain": [
       "            count\n",
       "count  625.000000\n",
       "mean    10.211200\n",
       "std     14.613181\n",
       "min      1.000000\n",
       "25%      2.000000\n",
       "50%      5.000000\n",
       "75%     12.000000\n",
       "max    120.000000"
      ]
     },
     "execution_count": 61,
     "metadata": {},
     "output_type": "execute_result"
    }
   ],
   "source": [
    "# distribution of subtrees per site\n",
    "\n",
    "counts = pd.concat([\n",
    "    df.groupby('prev_vid').size().reset_index().rename(columns={0:'count', 'prev_vid': 'vid'}),\n",
    "    df.groupby('new_vid').size().reset_index().rename(columns={0:'count', 'new_vid': 'vid'})\n",
    "    ], axis=0)\n",
    "\n",
    "_counts = counts['count'].values\n",
    "\n",
    "plt.hist(_counts, bins=30)\n",
    "plt.title(\"Distribution of subtrees per site\")\n",
    "plt.xlabel(\"Number of subtrees\")\n",
    "plt.ylabel(\"Count\")\n",
    "plt.show()\n",
    "\n",
    "counts[['count']].describe()"
   ]
  },
  {
   "cell_type": "code",
   "execution_count": 65,
   "metadata": {},
   "outputs": [
    {
     "data": {
      "text/html": [
       "<div>\n",
       "<style scoped>\n",
       "    .dataframe tbody tr th:only-of-type {\n",
       "        vertical-align: middle;\n",
       "    }\n",
       "\n",
       "    .dataframe tbody tr th {\n",
       "        vertical-align: top;\n",
       "    }\n",
       "\n",
       "    .dataframe thead th {\n",
       "        text-align: right;\n",
       "    }\n",
       "</style>\n",
       "<table border=\"1\" class=\"dataframe\">\n",
       "  <thead>\n",
       "    <tr style=\"text-align: right;\">\n",
       "      <th></th>\n",
       "      <th>n_nodes</th>\n",
       "    </tr>\n",
       "  </thead>\n",
       "  <tbody>\n",
       "    <tr>\n",
       "      <th>count</th>\n",
       "      <td>6382.000000</td>\n",
       "    </tr>\n",
       "    <tr>\n",
       "      <th>mean</th>\n",
       "      <td>17.604826</td>\n",
       "    </tr>\n",
       "    <tr>\n",
       "      <th>std</th>\n",
       "      <td>588.248454</td>\n",
       "    </tr>\n",
       "    <tr>\n",
       "      <th>min</th>\n",
       "      <td>1.000000</td>\n",
       "    </tr>\n",
       "    <tr>\n",
       "      <th>25%</th>\n",
       "      <td>1.000000</td>\n",
       "    </tr>\n",
       "    <tr>\n",
       "      <th>50%</th>\n",
       "      <td>1.000000</td>\n",
       "    </tr>\n",
       "    <tr>\n",
       "      <th>75%</th>\n",
       "      <td>1.000000</td>\n",
       "    </tr>\n",
       "    <tr>\n",
       "      <th>max</th>\n",
       "      <td>46650.000000</td>\n",
       "    </tr>\n",
       "  </tbody>\n",
       "</table>\n",
       "</div>"
      ],
      "text/plain": [
       "            n_nodes\n",
       "count   6382.000000\n",
       "mean      17.604826\n",
       "std      588.248454\n",
       "min        1.000000\n",
       "25%        1.000000\n",
       "50%        1.000000\n",
       "75%        1.000000\n",
       "max    46650.000000"
      ]
     },
     "execution_count": 65,
     "metadata": {},
     "output_type": "execute_result"
    }
   ],
   "source": [
    "# distribution of nodes per subtree\n",
    "\n",
    "n_nodes = df[['n_nodes']]\n",
    "n_nodes.describe()"
   ]
  },
  {
   "attachments": {},
   "cell_type": "markdown",
   "metadata": {},
   "source": [
    "We have one outlier where we have the whole tree as one subtree (46650 nodes)"
   ]
  },
  {
   "cell_type": "code",
   "execution_count": 70,
   "metadata": {},
   "outputs": [
    {
     "data": {
      "text/html": [
       "<div>\n",
       "<style scoped>\n",
       "    .dataframe tbody tr th:only-of-type {\n",
       "        vertical-align: middle;\n",
       "    }\n",
       "\n",
       "    .dataframe tbody tr th {\n",
       "        vertical-align: top;\n",
       "    }\n",
       "\n",
       "    .dataframe thead th {\n",
       "        text-align: right;\n",
       "    }\n",
       "</style>\n",
       "<table border=\"1\" class=\"dataframe\">\n",
       "  <thead>\n",
       "    <tr style=\"text-align: right;\">\n",
       "      <th></th>\n",
       "      <th>n_nodes</th>\n",
       "    </tr>\n",
       "  </thead>\n",
       "  <tbody>\n",
       "    <tr>\n",
       "      <th>count</th>\n",
       "      <td>6381.000000</td>\n",
       "    </tr>\n",
       "    <tr>\n",
       "      <th>mean</th>\n",
       "      <td>10.296819</td>\n",
       "    </tr>\n",
       "    <tr>\n",
       "      <th>std</th>\n",
       "      <td>72.067756</td>\n",
       "    </tr>\n",
       "    <tr>\n",
       "      <th>min</th>\n",
       "      <td>1.000000</td>\n",
       "    </tr>\n",
       "    <tr>\n",
       "      <th>25%</th>\n",
       "      <td>1.000000</td>\n",
       "    </tr>\n",
       "    <tr>\n",
       "      <th>50%</th>\n",
       "      <td>1.000000</td>\n",
       "    </tr>\n",
       "    <tr>\n",
       "      <th>75%</th>\n",
       "      <td>1.000000</td>\n",
       "    </tr>\n",
       "    <tr>\n",
       "      <th>max</th>\n",
       "      <td>2179.000000</td>\n",
       "    </tr>\n",
       "  </tbody>\n",
       "</table>\n",
       "</div>"
      ],
      "text/plain": [
       "           n_nodes\n",
       "count  6381.000000\n",
       "mean     10.296819\n",
       "std      72.067756\n",
       "min       1.000000\n",
       "25%       1.000000\n",
       "50%       1.000000\n",
       "75%       1.000000\n",
       "max    2179.000000"
      ]
     },
     "execution_count": 70,
     "metadata": {},
     "output_type": "execute_result"
    }
   ],
   "source": [
    "# removing the outlier\n",
    "\n",
    "n_nodes = n_nodes[n_nodes['n_nodes'] != 46650.000000]\n",
    "\n",
    "n_nodes.describe()"
   ]
  },
  {
   "cell_type": "code",
   "execution_count": 100,
   "metadata": {},
   "outputs": [
    {
     "name": "stdout",
     "output_type": "stream",
     "text": [
      "Number of subtrees with only one node:  4937 77 %\n",
      "Number of subtrees with 1 < nodes < 50:  1264 19 %\n",
      "Number of subtrees with 50 <= nodes:  180 2 %\n"
     ]
    },
    {
     "data": {
      "image/png": "[encoded data removed]",
      "text/plain": [
       "<Figure size 640x480 with 1 Axes>"
      ]
     },
     "metadata": {},
     "output_type": "display_data"
    },
    {
     "name": "stdout",
     "output_type": "stream",
     "text": [
      "Statistics for subtree for the subtrees having 1 < nodes < 50\n",
      "           n_nodes\n",
      "count  1264.000000\n",
      "mean     10.258703\n",
      "std      11.176990\n",
      "min       2.000000\n",
      "25%       3.000000\n",
      "50%       5.000000\n",
      "75%      13.000000\n",
      "max      49.000000\n"
     ]
    },
    {
     "data": {
      "image/png": "[encoded data removed]",
      "text/plain": [
       "<Figure size 640x480 with 1 Axes>"
      ]
     },
     "metadata": {},
     "output_type": "display_data"
    },
    {
     "name": "stdout",
     "output_type": "stream",
     "text": [
      "Statistics for subtree for the subtrees having nodes >= 50\n",
      "           n_nodes\n",
      "count   180.000000\n",
      "mean    265.555556\n",
      "std     341.074890\n",
      "min      51.000000\n",
      "25%      71.000000\n",
      "50%     126.500000\n",
      "75%     303.000000\n",
      "max    2179.000000\n"
     ]
    },
    {
     "data": {
      "text/html": [
       "<div>\n",
       "<style scoped>\n",
       "    .dataframe tbody tr th:only-of-type {\n",
       "        vertical-align: middle;\n",
       "    }\n",
       "\n",
       "    .dataframe tbody tr th {\n",
       "        vertical-align: top;\n",
       "    }\n",
       "\n",
       "    .dataframe thead th {\n",
       "        text-align: right;\n",
       "    }\n",
       "</style>\n",
       "<table border=\"1\" class=\"dataframe\">\n",
       "  <thead>\n",
       "    <tr style=\"text-align: right;\">\n",
       "      <th></th>\n",
       "      <th>n_nodes</th>\n",
       "    </tr>\n",
       "  </thead>\n",
       "  <tbody>\n",
       "    <tr>\n",
       "      <th>count</th>\n",
       "      <td>1264.000000</td>\n",
       "    </tr>\n",
       "    <tr>\n",
       "      <th>mean</th>\n",
       "      <td>10.258703</td>\n",
       "    </tr>\n",
       "    <tr>\n",
       "      <th>std</th>\n",
       "      <td>11.176990</td>\n",
       "    </tr>\n",
       "    <tr>\n",
       "      <th>min</th>\n",
       "      <td>2.000000</td>\n",
       "    </tr>\n",
       "    <tr>\n",
       "      <th>25%</th>\n",
       "      <td>3.000000</td>\n",
       "    </tr>\n",
       "    <tr>\n",
       "      <th>50%</th>\n",
       "      <td>5.000000</td>\n",
       "    </tr>\n",
       "    <tr>\n",
       "      <th>75%</th>\n",
       "      <td>13.000000</td>\n",
       "    </tr>\n",
       "    <tr>\n",
       "      <th>max</th>\n",
       "      <td>49.000000</td>\n",
       "    </tr>\n",
       "  </tbody>\n",
       "</table>\n",
       "</div>"
      ],
      "text/plain": [
       "           n_nodes\n",
       "count  1264.000000\n",
       "mean     10.258703\n",
       "std      11.176990\n",
       "min       2.000000\n",
       "25%       3.000000\n",
       "50%       5.000000\n",
       "75%      13.000000\n",
       "max      49.000000"
      ]
     },
     "execution_count": 100,
     "metadata": {},
     "output_type": "execute_result"
    }
   ],
   "source": [
    "# divide between those that are 1 and others\n",
    "\n",
    "print(\"Number of subtrees with only one node: \", len(n_nodes[n_nodes['n_nodes'] == 1]), f\"{int(len(n_nodes[n_nodes['n_nodes'] == 1])/ len(n_nodes)*100)} %\")\n",
    "\n",
    "n_nodes_gt_1 = n_nodes[n_nodes['n_nodes'] !=1]\n",
    "\n",
    "# divide between those under 50 and those above\n",
    "\n",
    "n_nodes_gt_1_lt_50 = n_nodes_gt_1[n_nodes_gt_1['n_nodes'] < 50]\n",
    "n_nodes_gt_50 = n_nodes_gt_1[n_nodes_gt_1['n_nodes'] >= 50]\n",
    "\n",
    "\n",
    "print(\"Number of subtrees with 1 < nodes < 50: \", len(n_nodes_gt_1_lt_50),  f\"{int(len(n_nodes_gt_1_lt_50)/ len(n_nodes)*100)} %\")\n",
    "print(\"Number of subtrees with 50 <= nodes: \", len(n_nodes_gt_50), f\"{int(len(n_nodes_gt_50)/ len(n_nodes)*100)} %\")\n",
    "\n",
    "\n",
    "n_nodes_gt_1_lt_50.plot.hist()\n",
    "plt.title(\"Distribution of nodes per subtree for the subtrees having 1 < nodes < 50\")\n",
    "plt.xlabel(\"nodes\")\n",
    "plt.ylabel(\"count\")\n",
    "plt.show()\n",
    "\n",
    "print(\"Statistics for subtree for the subtrees having 1 < nodes < 50\")\n",
    "print(n_nodes_gt_1_lt_50.describe())\n",
    "\n",
    "\n",
    "n_nodes_gt_50.plot.hist()\n",
    "plt.title(\"Distribution of nodes per subtree for the subtrees having nodes >= 50\")\n",
    "plt.xlabel(\"nodes\")\n",
    "plt.ylabel(\"count\")\n",
    "plt.show()\n",
    "\n",
    "print(\"Statistics for subtree for the subtrees having nodes >= 50\")\n",
    "print(n_nodes_gt_50.describe())\n",
    "\n"
   ]
  },
  {
   "attachments": {},
   "cell_type": "markdown",
   "metadata": {},
   "source": [
    "### Label distribution"
   ]
  },
  {
   "cell_type": "code",
   "execution_count": 117,
   "metadata": {},
   "outputs": [
    {
     "data": {
      "text/plain": [
       "<Axes: >"
      ]
     },
     "execution_count": 117,
     "metadata": {},
     "output_type": "execute_result"
    },
    {
     "data": {
      "image/png": "[encoded data removed]",
      "text/plain": [
       "<Figure size 640x480 with 1 Axes>"
      ]
     },
     "metadata": {},
     "output_type": "display_data"
    }
   ],
   "source": [
    "labels = df.is_breaking.values.tolist()\n",
    "\n",
    "for i, label in enumerate(labels):\n",
    "    if label == -1:\n",
    "        labels[i] = 'fixing'\n",
    "    elif label == 0:\n",
    "        labels[i] = 'neutral'\n",
    "    else:\n",
    "        labels[i] = 'broken'\n",
    "\n",
    "labels_counts = df.is_breaking.value_counts()\n",
    "labels_counts.index = ['fixing', 'neutral', 'broken']\n",
    "\n",
    "labels_counts.plot.bar()"
   ]
  },
  {
   "cell_type": "code",
   "execution_count": null,
   "metadata": {},
   "outputs": [],
   "source": [
    "\n",
    "df_neutral = df[df.is_breaking == 0]\n",
    "df_broken = df[df.is_breaking == 1] \n",
    "df_fixed = df[df.is_breaking == -1]  \n",
    "\n",
    "df_neutral_counts = pd.concat([\n",
    "    df_neutral.groupby(['prev_vid']).size().reset_index().rename(columns={0:'count', 'prev_vid': 'vid'}),\n",
    "    df_neutral.groupby(['new_vid']).size().reset_index().rename(columns={0:'count', 'new_vid': 'vid'})\n",
    "    ], axis=0)\n",
    "\n",
    "df_fixed_counts = pd.concat([\n",
    "    df_fixed.groupby(['prev_vid']).size().reset_index().rename(columns={0:'count', 'prev_vid': 'vid'}),\n",
    "    df_fixed.groupby(['new_vid']).size().reset_index().rename(columns={0:'count', 'new_vid': 'vid'})\n",
    "    ], axis=0)\n",
    "\n",
    "df_broken_counts = pd.concat([\n",
    "    df_broken.groupby(['prev_vid']).size().reset_index().rename(columns={0:'count', 'prev_vid': 'vid'}),\n",
    "    df_broken.groupby(['new_vid']).size().reset_index().rename(columns={0:'count', 'new_vid': 'vid'})\n",
    "    ], axis=0)\n",
    "\n",
    "\n",
    "df_breaking_counts = pd.merge(df_neutral_counts.rename(columns={'count':'n_neutral'}), df_fixed_counts.rename(columns={\"count\": 'n_fixed'}), how='outer', on='vid')\n",
    "df_breaking_counts = pd.merge(df_breaking_counts, df_broken_counts.rename(columns={\"count\": 'n_broken'}), how='outer', on='vid')\n",
    "\n",
    "df_breaking_counts[~df_breaking_counts.notnull()] = 0\n",
    "\n",
    "df_breaking_counts = df_breaking_counts[(df_breaking_counts['n_fixed'] != 0) | (df_breaking_counts['n_broken'] != 0)]\n",
    "\n",
    "x = df_breaking_counts.n_broken.values.tolist()\n",
    "y = df_breaking_counts.n_fixed.values.tolist()\n",
    "\n",
    "print(\"Number of visits having 0 fixing subtrees: \", len(df_breaking_counts[df_breaking_counts.n_fixed == 0]))\n",
    "print(\"Number of visits having 0 broken subtrees: \", len(df_breaking_counts[df_breaking_counts.n_fixed == 0]))\n",
    "\n",
    "\n",
    "plt.hist2d(x,y ,bins=[30,30])"
   ]
  },
  {
   "attachments": {},
   "cell_type": "markdown",
   "metadata": {},
   "source": [
    "# Interactions Experiments"
   ]
  },
  {
   "cell_type": "code",
   "execution_count": null,
   "metadata": {},
   "outputs": [],
   "source": [
    "def get_interactions(db_path, exp_path):\n",
    "    with Database(db_path, exp_path) as database:\n",
    "        issues = database.sites_visits()\n",
    "        \n",
    "        # vals\n",
    "        interaction_counts = []\n",
    "        js_counts = []\n",
    "        http_counts = []\n",
    "        all_same_logs = []\n",
    "        \n",
    "        for _, issue in tqdm(issues.iterrows(), total = len(issues)):\n",
    "            df_responses = database.get_http_responses(issue.visit_id_a)\n",
    "            df_javascript = database.get_javascript_events(issue.visit_id_a)\n",
    "            \n",
    "            interactions, df_javascript, df_responses = database.get_interaction_logs_all(\n",
    "                issue.visit_id_a, df_javascript, df_responses\n",
    "            )\n",
    "            interaction_counts.append(len(interactions))\n",
    "            \n",
    "            _js_counts = df_javascript.groupby(\"interaction\", dropna=True).time_stamp.aggregate(\"count\")\n",
    "            js_counts.append(_js_counts.values.sum())\n",
    "            \n",
    "            _http_counts = df_responses.groupby(\"interaction\", dropna=True).time_stamp.aggregate(\"count\")\n",
    "            http_counts.append(_http_counts.values.sum())\n",
    "            \n",
    "            df_responsesu = database.get_http_responses(issue.visit_id_u)\n",
    "            df_javascriptu = database.get_javascript_events(issue.visit_id_u)\n",
    "            _, df_javascriptu, df_responsesu = database.get_interaction_logs_all(\n",
    "                issue.visit_id_u, df_javascriptu, df_responsesu\n",
    "            )\n",
    "            \n",
    "            df_responsesb = database.get_http_responses(issue.visit_id_b)\n",
    "            df_javascriptb = database.get_javascript_events(issue.visit_id_b)\n",
    "            _, df_javascriptb, df_responsesb = database.get_interaction_logs_all(\n",
    "                issue.visit_id_b, df_javascriptb, df_responsesb\n",
    "            )\n",
    "            \n",
    "            if len(df_javascriptb) == len(df_javascript):\n",
    "                all_same_logs.append(1)\n",
    "            else:\n",
    "                all_same_logs.append(0)\n",
    "            \n",
    "            \n",
    "            \n",
    "    return pd.DataFrame({\n",
    "        'issue': issues.issue_id.values,\n",
    "        'interaction_counts':interaction_counts, \n",
    "        'js_counts': js_counts, \n",
    "        'http_counts': http_counts, \n",
    "        'all_same': all_same_logs })\n",
    "\n",
    "easylist_interactions = get_interactions(EASYLIST.DB_PATH, EASYLIST.EXP_PATH)\n",
    "easylist_interactions.to_csv(EASYLIST.FEATURES_DIR / \"interactions-stats.csv\", index=False)\n",
    "ublock_interactions = get_interactions(UBLOCK.DB_PATH, UBLOCK.EXP_PATH)\n",
    "ublock_interactions.to_csv(UBLOCK.FEATURES_DIR / \"interactions-stats.csv\", index=False)"
   ]
  },
  {
   "cell_type": "code",
   "execution_count": 4,
   "metadata": {},
   "outputs": [],
   "source": [
    "# loading pre-computed stats\n",
    "easylist_interactions = pd.read_csv(EASYLIST.FEATURES_DIR / \"interactions-stats.csv\")\n",
    "ublock_interactions = pd.read_csv(UBLOCK.FEATURES_DIR / \"interactions-stats.csv\")"
   ]
  },
  {
   "cell_type": "code",
   "execution_count": 18,
   "metadata": {},
   "outputs": [
    {
     "data": {
      "text/plain": [
       "Text(0.5, 1.0, 'Easylist interactions distribution')"
      ]
     },
     "execution_count": 18,
     "metadata": {},
     "output_type": "execute_result"
    },
    {
     "data": {
      "image/png": "[encoded data removed]",
      "text/plain": [
       "<Figure size 640x480 with 2 Axes>"
      ]
     },
     "metadata": {},
     "output_type": "display_data"
    }
   ],
   "source": [
    "plt.subplot(1,2,1)\n",
    "ublock_interactions.interaction_counts.value_counts().plot.bar()\n",
    "plt.title(\"Ublock interactions distribution\")\n",
    "\n",
    "plt.subplot(1,2,2)\n",
    "easylist_interactions.interaction_counts.value_counts().plot.bar()\n",
    "plt.title(\"Easylist interactions distribution\")"
   ]
  },
  {
   "cell_type": "code",
   "execution_count": 29,
   "metadata": {},
   "outputs": [
    {
     "name": "stdout",
     "output_type": "stream",
     "text": [
      "Ublock Events \n",
      "count    133.000000\n",
      "mean      61.233083\n",
      "std      128.126351\n",
      "min        1.000000\n",
      "25%        3.000000\n",
      "50%        9.000000\n",
      "75%       54.000000\n",
      "max      917.000000\n",
      "dtype: float64\n",
      "count     79.000000\n",
      "mean      38.493671\n",
      "std       56.454627\n",
      "min        1.000000\n",
      "25%        2.000000\n",
      "50%        9.000000\n",
      "75%       53.000000\n",
      "max      318.000000\n",
      "dtype: float64\n",
      "------------\n",
      "Easylist\n",
      "count     30.000000\n",
      "mean      57.666667\n",
      "std      100.512251\n",
      "min        1.000000\n",
      "25%        2.250000\n",
      "50%       13.500000\n",
      "75%       80.250000\n",
      "max      471.000000\n",
      "dtype: float64\n",
      "count    12.00000\n",
      "mean     14.75000\n",
      "std      22.07477\n",
      "min       2.00000\n",
      "25%       3.50000\n",
      "50%       5.00000\n",
      "75%      13.50000\n",
      "max      77.00000\n",
      "dtype: float64\n"
     ]
    },
    {
     "data": {
      "text/plain": [
       "Text(0.5, 1.0, 'Easylist interactions distribution')"
      ]
     },
     "execution_count": 29,
     "metadata": {},
     "output_type": "execute_result"
    },
    {
     "data": {
      "image/png": "[encoded data removed]",
      "text/plain": [
       "<Figure size 640x480 with 2 Axes>"
      ]
     },
     "metadata": {},
     "output_type": "display_data"
    }
   ],
   "source": [
    "print(\"Ublock Events \")\n",
    "print(ublock_interactions.js_counts.describe())\n",
    "print(ublock_interactions.http_counts.describe())\n",
    "\n",
    "print('------------')\n",
    "print(\"Easylist\")\n",
    "print(easylist_interactions.js_counts.describe())\n",
    "print(easylist_interactions.http_counts.describe())\n",
    "\n",
    "plt.subplot(1,2,1)\n",
    "ublock_interactions.js_counts.plot.hist(label=\"JS\")\n",
    "ublock_interactions.http_counts.plot.hist(label=\"HTTP\")\n",
    "plt.legend()\n",
    "plt.title(\"Ublock interactions distribution\")\n",
    "\n",
    "plt.subplot(1,2,2)\n",
    "easylist_interactions.js_counts.plot.hist(label=\"JS\")\n",
    "easylist_interactions.http_counts.plot.hist(label=\"HTTP\")\n",
    "plt.legend()\n",
    "plt.title(\"Easylist interactions distribution\")"
   ]
  },
  {
   "attachments": {},
   "cell_type": "markdown",
   "metadata": {},
   "source": [
    "## Graph extraction"
   ]
  },
  {
   "cell_type": "code",
   "execution_count": 2,
   "metadata": {},
   "outputs": [
    {
     "name": "stdout",
     "output_type": "stream",
     "text": [
      "interactions= 3\n",
      "df_javascript= 5\n",
      "df_responses= 9\n",
      "                                                 src     value  \\\n",
      "0                                2023-05-28 18:24:15  [\"root\"]   \n",
      "1  https://api-spec.shlink.io/assets/index-72cff7...  [\"root\"]   \n",
      "\n",
      "                            dst  type  count  \n",
      "0  424898209=1637344654002427=3    15      1  \n",
      "1  424898209=1637344654002427=3    14      1  \n",
      "interactions= 3\n",
      "df_javascript= 5\n",
      "df_responses= 9\n",
      "                                                 src     value  \\\n",
      "0                                2023-05-28 18:24:44  [\"root\"]   \n",
      "1  https://api-spec.shlink.io/assets/index-72cff7...  [\"root\"]   \n",
      "\n",
      "                            dst  type  count  \n",
      "0  424898209=8766188377747054=3    15      1  \n",
      "1  424898209=8766188377747054=3    14      1  \n",
      "len(fixed_to_broken_edges)=0\n",
      "len(fixed_to_broken_edges)=0\n"
     ]
    }
   ],
   "source": [
    "def extract_interaction_features(db_path, exp_path, i):\n",
    "    with Database(db_path, exp_path) as database:\n",
    "        issues = database.sites_visits()\n",
    "        issue = issues.iloc[i]\n",
    "        \n",
    "        (\n",
    "            *_,\n",
    "            fixed_to_broken_diff,\n",
    "            fixed_to_broken_nodes,\n",
    "            fixed_to_broken_edges,\n",
    "        ) = features.process_differential_experiment(\n",
    "            issue.browser_id_u,\n",
    "            (issue.visit_id_a, issue.visit_id_b),\n",
    "            database,\n",
    "            issue.site_url,\n",
    "            None,\n",
    "        )\n",
    "        \n",
    "        print(f\"len(fixed_to_broken_edges)={len(fixed_to_broken_edges)}\")\n",
    "        print(f\"len(fixed_to_broken_edges)={len(fixed_to_broken_edges)}\")\n",
    "        \n",
    "extract_interaction_features(EASYLIST.DB_PATH, EASYLIST.EXP_PATH, 10)"
   ]
  },
  {
   "cell_type": "markdown",
   "metadata": {},
   "source": [
    "# Running Time"
   ]
  },
  {
   "cell_type": "code",
   "execution_count": 3,
   "metadata": {},
   "outputs": [],
   "source": [
    "import pandas as pd\n",
    "extract_stats1 = pd.read_csv(\"features-out/adguard/adguard-21/stats-extract.csv\")\n",
    "extract_stats2 = pd.read_csv(\"features-out/adguard/adguard-22/stats-extract.csv\")\n",
    "extract_stats3 = pd.read_csv(\"features-out/adguard/adguard-23/stats-extract.csv\")\n",
    "\n",
    "extract_stats = pd.concat([extract_stats1, extract_stats2, extract_stats3], axis=0, ignore_index=True)\n",
    "extract_stats.to_csv(\"features-out/adguard/adguard-21-23/stats-extract.csv\", index=False)\n",
    "\n",
    "features_stats1 = pd.read_csv(\"features-out/adguard/adguard-21/stats-features.csv\")\n",
    "features_stats2 = pd.read_csv(\"features-out/adguard/adguard-22/stats-features.csv\")\n",
    "features_stats3 = pd.read_csv(\"features-out/adguard/adguard-23/stats-features.csv\")\n",
    "\n",
    "features_stats = pd.concat([features_stats1, features_stats2, features_stats3], axis=0, ignore_index=True)\n",
    "features_stats.to_csv(\"features-out/adguard/adguard-21-23/stats-features.csv\", index=False)\n"
   ]
  },
  {
   "cell_type": "code",
   "execution_count": 17,
   "metadata": {},
   "outputs": [],
   "source": [
    "extract_stats = pd.read_csv(\"features-out/adguard/adguard-21-23/stats-extract.csv\")\n",
    "features_stats = pd.read_csv(\"features-out/adguard/adguard-21-23/stats-features.csv\")"
   ]
  },
  {
   "cell_type": "code",
   "execution_count": 11,
   "metadata": {},
   "outputs": [
    {
     "name": "stdout",
     "output_type": "stream",
     "text": [
      "Mean build graph duration:  0.06726831759145119\n",
      "std build graph duration:  0.07757420790429718\n"
     ]
    }
   ],
   "source": [
    "build_graph_durations = extract_stats[extract_stats['function'].apply(lambda x: 'label_alterations' in x)]\n",
    "\n",
    "print(\"Mean build graph duration: \", build_graph_durations['time'].mean())\n",
    "print(\"std build graph duration: \", build_graph_durations['time'].std())"
   ]
  },
  {
   "cell_type": "code",
   "execution_count": 19,
   "metadata": {},
   "outputs": [
    {
     "name": "stdout",
     "output_type": "stream",
     "text": [
      "Mean features duration:  1.2905608347712507\n",
      "Mean features duration:  3.10814852416814\n"
     ]
    }
   ],
   "source": [
    "print(\"Mean features duration: \", (features_stats['time'] / features_stats['n_issues']).mean())\n",
    "print(\"Mean features duration: \", (features_stats['time'] / features_stats['n_issues']).std())"
   ]
  },
  {
   "cell_type": "code",
   "execution_count": null,
   "metadata": {},
   "outputs": [],
   "source": []
  }
 ],
 "metadata": {
  "kernelspec": {
   "display_name": "openwpm",
   "language": "python",
   "name": "python3"
  },
  "language_info": {
   "codemirror_mode": {
    "name": "ipython",
    "version": 3
   },
   "file_extension": ".py",
   "mimetype": "text/x-python",
   "name": "python",
   "nbconvert_exporter": "python",
   "pygments_lexer": "ipython3",
   "version": "3.10.4"
  },
  "orig_nbformat": 4
 },
 "nbformat": 4,
 "nbformat_minor": 2
}
