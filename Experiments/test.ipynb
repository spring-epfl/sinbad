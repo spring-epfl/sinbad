{
 "cells": [
  {
   "cell_type": "code",
   "execution_count": 1,
   "metadata": {},
   "outputs": [],
   "source": [
    "import pandas as pd"
   ]
  },
  {
   "cell_type": "code",
   "execution_count": 2,
   "metadata": {},
   "outputs": [],
   "source": [
    "features = pd.read_csv(\"./features-out/adguard/adguard-21-23/features.csv\")"
   ]
  },
  {
   "cell_type": "code",
   "execution_count": 3,
   "metadata": {},
   "outputs": [],
   "source": [
    "issues = features.issue.unique()"
   ]
  },
  {
   "cell_type": "code",
   "execution_count": 9,
   "metadata": {},
   "outputs": [
    {
     "data": {
      "text/plain": [
       "['new_attr_class',\n",
       " 'new_attr_id',\n",
       " 'new_attr_src',\n",
       " 'new_attr',\n",
       " 'new_bid',\n",
       " 'new_id',\n",
       " 'new_parent',\n",
       " 'new_te',\n",
       " 'new_tl',\n",
       " 'new_vid',\n",
       " 'new_vc',\n",
       " 'saliency',\n",
       " 'party',\n",
       " 'processed',\n",
       " 'is_root',\n",
       " 'prev_bid',\n",
       " 'prev_vid',\n",
       " 'prev_id',\n",
       " 'tag',\n",
       " 'type',\n",
       " 'prev_attr',\n",
       " 'prev_vc',\n",
       " 'prev_parent',\n",
       " 'prev_te',\n",
       " 'prev_tl',\n",
       " 'block',\n",
       " 'domain',\n",
       " 'top_level_domain',\n",
       " 'prev_attr_id',\n",
       " 'prev_attr_class',\n",
       " 'prev_attr_src',\n",
       " 'edited',\n",
       " 'removed',\n",
       " 'added',\n",
       " 'is_breaking',\n",
       " 'origin',\n",
       " 'flipped',\n",
       " 'issue',\n",
       " 'subtree_index',\n",
       " 'lt_add',\n",
       " 'lt_rem',\n",
       " 'lt_ed',\n",
       " 'lt_no',\n",
       " 'txt_add',\n",
       " 'txt_rem',\n",
       " 'txt_ed',\n",
       " 'txt_no',\n",
       " 'io_add',\n",
       " 'io_rem',\n",
       " 'io_ed',\n",
       " 'io_no',\n",
       " 'oth_add',\n",
       " 'oth_rem',\n",
       " 'oth_ed',\n",
       " 'oth_no',\n",
       " 'scr_no',\n",
       " 'scr_add',\n",
       " 'scr_rem',\n",
       " 'iframe_no',\n",
       " 'iframe_add',\n",
       " 'iframe_rem',\n",
       " 'n_visible',\n",
       " 'n_visible_add',\n",
       " 'n_visible_rem',\n",
       " 'n_salient',\n",
       " 'n_nodes',\n",
       " 'is_valid_qs',\n",
       " 'num_url_queries',\n",
       " 'num_url_params',\n",
       " 'num_id_in_query_field',\n",
       " 'num_id_in_param_field',\n",
       " 'is_third_party',\n",
       " 'base_domain_in_query',\n",
       " 'semicolon_in_query',\n",
       " 'semicolon_in_params',\n",
       " 'screen_size_present',\n",
       " 'ad_size_present',\n",
       " 'ad_size_in_qs_present',\n",
       " 'keyword_raw_present',\n",
       " 'keyword_char_present',\n",
       " 'num_requests',\n",
       " 'max_size',\n",
       " 'min_size',\n",
       " 'size',\n",
       " 'd_size',\n",
       " 'pos_x',\n",
       " 'pos_y',\n",
       " 'd_pos_x',\n",
       " 'd_pos_y',\n",
       " 'd_pos',\n",
       " 'n_salient_covered',\n",
       " 'n_salient_covered_add',\n",
       " 'n_salient_covered_rem',\n",
       " 'tree_height',\n",
       " 'mean_degree',\n",
       " 'std_degree',\n",
       " 'dn_el_in_scr_tree',\n",
       " 'dn_req_in_scr_tree',\n",
       " 'n_scr_in_el_tree',\n",
       " 'dn_err_in_scr_tree',\n",
       " 'dn_el_in_int_tree',\n",
       " 'n_el_in_scr_tree',\n",
       " 'dn_scr_in_el_tree',\n",
       " 'n_req_in_scr_tree',\n",
       " 'dn_err_in_int_tree',\n",
       " 'n_int_in_tree',\n",
       " 'n_tree_rem',\n",
       " 'n_tree_add',\n",
       " 'n_tree_edit',\n",
       " 'n_sal_tree_add',\n",
       " 'n_sal _tree_add',\n",
       " 'n_sal_tree_rem',\n",
       " 'n_sal_tree_edit',\n",
       " 'n_scr',\n",
       " 'n_scr_add',\n",
       " 'n_scr_rem',\n",
       " 'n_scr_err',\n",
       " 'n_scr_err_add',\n",
       " 'n_scr_err_rem',\n",
       " 'n_req',\n",
       " 'n_req_add',\n",
       " 'n_req_rem',\n",
       " 'n_salient_add',\n",
       " 'n_salient_rem',\n",
       " 'n_salient_ed',\n",
       " 'dn_salient_covered']"
      ]
     },
     "execution_count": 9,
     "metadata": {},
     "output_type": "execute_result"
    }
   ],
   "source": [
    "features.columns.tolist()"
   ]
  },
  {
   "cell_type": "code",
   "execution_count": 46,
   "metadata": {},
   "outputs": [],
   "source": [
    "f = features[features.issue == issues[0]].copy()"
   ]
  },
  {
   "cell_type": "code",
   "execution_count": 47,
   "metadata": {},
   "outputs": [],
   "source": [
    "import json\n",
    "\n",
    "\n",
    "f['text'] = f.prev_vc.apply(lambda x: json.loads(x)['text'])"
   ]
  }
 ],
 "metadata": {
  "kernelspec": {
   "display_name": "openwpm",
   "language": "python",
   "name": "python3"
  },
  "language_info": {
   "codemirror_mode": {
    "name": "ipython",
    "version": 3
   },
   "file_extension": ".py",
   "mimetype": "text/x-python",
   "name": "python",
   "nbconvert_exporter": "python",
   "pygments_lexer": "ipython3",
   "version": "3.10.4"
  }
 },
 "nbformat": 4,
 "nbformat_minor": 2
}
