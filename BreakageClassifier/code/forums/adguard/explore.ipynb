{
 "cells": [
  {
   "cell_type": "code",
   "execution_count": 1,
   "metadata": {},
   "outputs": [],
   "source": [
    "import json\n",
    "import os, sys\n",
    "import pandas as pd\n",
    "from datetime import datetime\n",
    "from matplotlib import pyplot as plt"
   ]
  },
  {
   "cell_type": "code",
   "execution_count": 4,
   "metadata": {},
   "outputs": [],
   "source": [
    "with open('adguard-neg/issues.json') as f:\n",
    "    issues = json.load(f)"
   ]
  },
  {
   "cell_type": "code",
   "execution_count": 5,
   "metadata": {},
   "outputs": [
    {
     "name": "stdout",
     "output_type": "stream",
     "text": [
      "1539\n",
      "1\n",
      "2023-09-03 22:50:03\n",
      "2023-09-03 22:50:03\n"
     ]
    },
    {
     "data": {
      "text/plain": [
       "(array([0., 0., 0., 0., 0., 0., 0., 0., 0., 0., 0., 0., 0., 0., 0., 0., 0.,\n",
       "        0., 0., 0., 0., 0., 0., 0., 0., 0., 0., 0., 0., 0., 0., 0., 0., 0.,\n",
       "        0., 0., 0., 0., 0., 0., 0., 0., 0., 0., 0., 0., 0., 0., 0., 0., 1.,\n",
       "        0., 0., 0., 0., 0., 0., 0., 0., 0., 0., 0., 0., 0., 0., 0., 0., 0.,\n",
       "        0., 0., 0., 0., 0., 0., 0., 0., 0., 0., 0., 0., 0., 0., 0., 0., 0.,\n",
       "        0., 0., 0., 0., 0., 0., 0., 0., 0., 0., 0., 0., 0., 0., 0.]),\n",
       " array([19603.45142361, 19603.46142361, 19603.47142361, 19603.48142361,\n",
       "        19603.49142361, 19603.50142361, 19603.51142361, 19603.52142361,\n",
       "        19603.53142361, 19603.54142361, 19603.55142361, 19603.56142361,\n",
       "        19603.57142361, 19603.58142361, 19603.59142361, 19603.60142361,\n",
       "        19603.61142361, 19603.62142361, 19603.63142361, 19603.64142361,\n",
       "        19603.65142361, 19603.66142361, 19603.67142361, 19603.68142361,\n",
       "        19603.69142361, 19603.70142361, 19603.71142361, 19603.72142361,\n",
       "        19603.73142361, 19603.74142361, 19603.75142361, 19603.76142361,\n",
       "        19603.77142361, 19603.78142361, 19603.79142361, 19603.80142361,\n",
       "        19603.81142361, 19603.82142361, 19603.83142361, 19603.84142361,\n",
       "        19603.85142361, 19603.86142361, 19603.87142361, 19603.88142361,\n",
       "        19603.89142361, 19603.90142361, 19603.91142361, 19603.92142361,\n",
       "        19603.93142361, 19603.94142361, 19603.95142361, 19603.96142361,\n",
       "        19603.97142361, 19603.98142361, 19603.99142361, 19604.00142361,\n",
       "        19604.01142361, 19604.02142361, 19604.03142361, 19604.04142361,\n",
       "        19604.05142361, 19604.06142361, 19604.07142361, 19604.08142361,\n",
       "        19604.09142361, 19604.10142361, 19604.11142361, 19604.12142361,\n",
       "        19604.13142361, 19604.14142361, 19604.15142361, 19604.16142361,\n",
       "        19604.17142361, 19604.18142361, 19604.19142361, 19604.20142361,\n",
       "        19604.21142361, 19604.22142361, 19604.23142361, 19604.24142361,\n",
       "        19604.25142361, 19604.26142361, 19604.27142361, 19604.28142361,\n",
       "        19604.29142361, 19604.30142361, 19604.31142361, 19604.32142361,\n",
       "        19604.33142361, 19604.34142361, 19604.35142361, 19604.36142361,\n",
       "        19604.37142361, 19604.38142361, 19604.39142361, 19604.40142361,\n",
       "        19604.41142361, 19604.42142361, 19604.43142361, 19604.44142361,\n",
       "        19604.45142361]),\n",
       " <BarContainer object of 100 artists>)"
      ]
     },
     "execution_count": 5,
     "metadata": {},
     "output_type": "execute_result"
    },
    {
     "data": {
      "image/png": "[encoded data removed]",
      "text/plain": [
       "<Figure size 640x480 with 1 Axes>"
      ]
     },
     "metadata": {},
     "output_type": "display_data"
    }
   ],
   "source": [
    "bad_issues = []\n",
    "good_issues = []\n",
    "timestamps = []\n",
    "\n",
    "test_issue_title = [\n",
    "    \"### Issue URL\",\n",
    "    \"**Issue URL\",\n",
    "    \"Where is the problem encountered?\"\n",
    "]\n",
    "\n",
    "oldest_data = datetime.strptime('2050-01-01T00:00:00Z', '%Y-%m-%dT%H:%M:%SZ')\n",
    "start_after = datetime.strptime('2021-01-01T00:00:00Z', '%Y-%m-%dT%H:%M:%SZ')\n",
    "end_before = datetime.strptime('2024-01-01T00:00:00Z', '%Y-%m-%dT%H:%M:%SZ')\n",
    "newest_data = datetime.strptime('1900-01-01T00:00:00Z', '%Y-%m-%dT%H:%M:%SZ')\n",
    "for issue in issues:\n",
    "    \n",
    "    if datetime.strptime(issue['created_at'], '%Y-%m-%dT%H:%M:%SZ') < start_after or datetime.strptime(issue['created_at'], '%Y-%m-%dT%H:%M:%SZ') > end_before:\n",
    "        continue\n",
    "    \n",
    "    if all(x not in issue['body'] for x in test_issue_title):\n",
    "        bad_issues.append(issue['number'])\n",
    "        \n",
    "        if datetime.strptime(issue['created_at'], '%Y-%m-%dT%H:%M:%SZ') < oldest_data:\n",
    "            oldest_data = datetime.strptime(issue['created_at'], '%Y-%m-%dT%H:%M:%SZ')\n",
    "        \n",
    "        if datetime.strptime(issue['created_at'], '%Y-%m-%dT%H:%M:%SZ') > newest_data:\n",
    "            newest_data = datetime.strptime(issue['created_at'], '%Y-%m-%dT%H:%M:%SZ')\n",
    "            \n",
    "        timestamps.append(datetime.strptime(issue['created_at'], '%Y-%m-%dT%H:%M:%SZ'))\n",
    "        \n",
    "    else:\n",
    "        good_issues.append(issue['number'])\n",
    "        \n",
    "\n",
    "print(len(good_issues))\n",
    "print(len(bad_issues))\n",
    "print(oldest_data)\n",
    "print(newest_data)\n",
    "\n",
    "plt.hist(timestamps, bins=100)"
   ]
  },
  {
   "cell_type": "code",
   "execution_count": 8,
   "metadata": {},
   "outputs": [
    {
     "data": {
      "text/plain": [
       "True    1221\n",
       "Name: created_at, dtype: int64"
      ]
     },
     "execution_count": 8,
     "metadata": {},
     "output_type": "execute_result"
    }
   ],
   "source": [
    "out_df = pd.read_csv(\"adguard-neg/details.csv\")\n",
    "\n",
    "(out_df[out_df['should_include'] == True].created_at.apply(lambda x: datetime.strptime(x, '%Y-%m-%d %H:%M:%S')) > datetime(year=2023, month=1, day=1)).value_counts()"
   ]
  },
  {
   "cell_type": "code",
   "execution_count": 7,
   "metadata": {},
   "outputs": [
    {
     "data": {
      "text/plain": [
       "<Axes: >"
      ]
     },
     "execution_count": 7,
     "metadata": {},
     "output_type": "execute_result"
    },
    {
     "data": {
      "image/png": "[encoded data removed]",
      "text/plain": [
       "<Figure size 640x480 with 1 Axes>"
      ]
     },
     "metadata": {},
     "output_type": "display_data"
    }
   ],
   "source": [
    "out_df[out_df['should_include'] == True].created_at.apply(lambda x: datetime.strptime(x, '%Y-%m-%d %H:%M:%S')).hist(bins=100)"
   ]
  },
  {
   "cell_type": "code",
   "execution_count": null,
   "metadata": {},
   "outputs": [],
   "source": []
  },
  {
   "cell_type": "code",
   "execution_count": 110,
   "metadata": {},
   "outputs": [
    {
     "name": "stdout",
     "output_type": "stream",
     "text": [
      "{'ROList', 'AdGuard Experimental filter', 'AdGuard URL Tracking filter', \"CJX's Annoyances List\", 'EasyList Spanish', 'Polski Antyirytujący Dodatek Specjalny', 'EasyList Thailand', 'Polish Anti Adblock Filters', \"CJX's Annoyance List\", 'road-block', 'Vietnamese adblock filter list', 'Polskie Filtry Społecznościowe', 'EasyPrivacy', '(Obsolete) Anti-Adblock Killer \\\\| Reek', 'AdGuard Dutch filter', 'Latvian List', 'EasyList Dutch', 'AdGuard Japanese filter', 'hufilter', 'Web Annoyances Ultralist', \"Fanboy's Social Blocking List\", 'Polish Social Filters', 'EasyList Cookie List', 'AdGuard French filter', 'AdGuard Ukrainian filter', '(Obsolete) Korean Adblock List', 'EasyList Germany', 'AdGuard Chinese filter', 'AdGuard Popups filter', 'EasyList Portuguese', 'Polskie Filtry Elementów Irytujących', '(Obsolete) Norsk adblockliste', 'RU AdList: Counters', 'Polish Annoyances Filters', '(Obsolete) Schacks Adblock Plus liste', \"Dandelion Sprout's Annoyances List\", 'Liste FR', 'Adguard DNS filter', 'Bulgarian list', 'AdBlockID', 'Official Polish filters for AdBlock', 'EasyList Lithuania', 'Polish Anti-Annoying Special Supplement', 'Iranian', 'AdGuard Mobile App Banners filter', 'EasyList Hebrew', 'AdGuard Base filter', \"Frellwit's Swedish Filter\", 'BarbBlock', 'Filtros Nauscopicos', 'IndianList', 'EasyList China', 'EasyList Polish', 'Hungarian', 'AdGuard Russian filter', \"Fanboy's Swedish\", \"Fanboy's Annoyances\", \"Dandelion Sprout's Nordic Filters\", 'AdGuard Tracking Protection filter', 'AdGuard Other Annoyances filter', 'Polskie Filtry Ciasteczkowe', 'AdGuard Widgets filter', \"Peter Lowe's Blocklist\", 'EasyList', 'uBlock Origin & AdGuard', 'Malware Domains', 'RU AdList', 'Xfiles', \"Fanboy's Anti-Facebook List\", 'ADgk Mobile China list', 'Liste AR', \"I don't care about cookies\", 'KAD - Anti-Scam', 'Adblock List for Finland', 'YanFung mobile ads', 'YousList', 'ABPVN List', 'Persian Blocker', 'Polskie Filtry Wewnętrzne', 'EasyList Czech and Slovak', 'Online Malicious URL Blocklist', 'road-block light', 'Thai Ads Filters', 'ChinaList+EasyList', '(Obsolete) Anti-Adblock Killer', 'AdGuard Safari', 'Adblock-Persian list', 'Spam', 'Legitimate URL Shortener', 'Polish GDPR-Cookies Filters', 'Adblock Warning Removal List', 'List-KR', \"Fanboy's Spanish/Portuguese\", 'ABPindo', 'AlleBlock', 'Icelandic ABP List', 'RU AdList: BitBlock', 'AdGuard Spanish/Portuguese filter', 'AdGuard German filter', \"Dandelion Sprout's Serbo-Croatian List\", 'Macedonian adBlock Filters', '(Obsolete) Prebake', 'Filter unblocking search ads and self-promotion', 'AdGuard Annoyances filter', \"Fanboy's Enhanced Tracking List\", 'Estonian List', 'xinggsf', 'AdGuard Social Media filter', 'NoCoin Filter List', 'AdGuard Cookie Notices filter', \"Fanboy's Anti-thirdparty Fonts\", 'KAD - Przekręty', 'Greek AdBlock Filter', 'AdGuard Turkish filter', 'EasyList Italy'}\n",
      "0\n"
     ]
    }
   ],
   "source": [
    "import re\n",
    "\n",
    "old_names = {\n",
    "        \"Peter Lowe's list\": \"Peter Lowe's Blocklist\",\n",
    "        \"Fanboy's Cookiemonster List\": \"EasyList Cookie List\",\n",
    "        \"Korean Adblock List\": \"List-KR\",\n",
    "        \"AdGuard Annoyances\": \"AdGuard Annoyances filter\",\n",
    "        \"AdGuard Popups\": \"AdGuard Popups filter\",\n",
    "        \"Malware Domains Blocklist\": \"Online Malicious URL Blocklist\",\n",
    "        \"Fanboy's Vietnamese\": \"Vietnamese adblock filter list\",\n",
    "        \"AdGuard URL Tracking\": \"AdGuard URL Tracking filter\", \n",
    "        \"AdGuard Mobile Ads\": \"AdGuard Mobile App Banners filter\",\n",
    "        \"AdGuard Mobile App Banners\": \"AdGuard Mobile App Banners filter\",\n",
    "        \"Fanboy Anti-Facebook List\": \"Fanboy's Anti-Facebook List\",\n",
    "        \"AdGuard Base\": \"AdGuard Base filter\",\n",
    "        \"FanboyEspanol\": \"EasyList Spanish\",\n",
    "        \"AdGuard Turkish\": \"AdGuard Turkish filter\",\n",
    "        \"AdGuard Ukrainian\": \"AdGuard Ukrainian filter\",\n",
    "        \"AdGuard Simplified domain names\": \"Adguard DNS filter\",\n",
    "        \"AdGuard Cookie Notices\": \"AdGuard Cookie Notices filter\",\n",
    "        \"ROLIST\": \"ROList\",\n",
    "        \"AdGuard Other Annoyances\": \"AdGuard Other Annoyances filter\",\n",
    "        \"AdGuard French\": \"AdGuard French filter\",\n",
    "        \"AdGuard Widgets\": \"AdGuard Widgets filter\",\n",
    "        \"AdGuard Tracking Protection\": \"AdGuard Tracking Protection filter\",\n",
    "        \"AdGuard Dutch\": \"AdGuard Dutch filter\",\n",
    "        \"AdGuard Experimental\": \"AdGuard Experimental filter\",\n",
    "        \"Easylist Spanish\": \"EasyList Spanish\",\n",
    "        \"AdGuard Japanese\": \"AdGuard Japanese filter\",\n",
    "        \"AdGuard Spanish/Portuguese\": \"AdGuard Spanish/Portuguese filter\",\n",
    "        \"AdGuard DNS\": \"Adguard DNS filter\",\n",
    "        \"AdGuard Russian\": \"AdGuard Russian filter\",\n",
    "        \"AdGuard German\": \"AdGuard German filter\",\n",
    "        \"AdGuard Chinese\": \"AdGuard Chinese filter\",\n",
    "        \"AdGuard Social Media\": \"AdGuard Social Media filter\",\n",
    "    }\n",
    "\n",
    "def extract_filters_from_system_config(post: str):\n",
    "    \n",
    "    filters = []\n",
    "    sys_conf_i = post.find(\"System configuration\")\n",
    "    filters_i = post.find(\"Filters:\", sys_conf_i)\n",
    "    \n",
    "    if filters_i == -1:\n",
    "        raise KeyError(\"No filters found\")\n",
    "    \n",
    "    lines = post[filters_i:].split(\"\\n\")\n",
    "    \n",
    "    if len(lines) > 1 and \":\" not in lines[1]:\n",
    "        raise KeyError(\"Filter Not As Expected\")\n",
    "        \n",
    "    filters_text = lines[0].split(\" | \")[1]\n",
    "    \n",
    "    # remove everything between <b> ... </b> and what is in them\n",
    "    \n",
    "    b_ptrn = r'<b>(.*?)</b>'\n",
    "    \n",
    "    filters_text = re.sub(b_ptrn, \"\", filters_text)\n",
    "    \n",
    "    # split by <br/> and remove empty strings\n",
    "    \n",
    "    filters = list(filter(lambda x: len(x), filters_text.split(\"<br/>\")))\n",
    "    \n",
    "    # remove remaining tags and \\r\n",
    "    rem_ptrn = r'<(.*)>|<(.*)/>|\\r'\n",
    "    \n",
    "    filters_out = []\n",
    "    \n",
    "    for _filter in filters:\n",
    "        \n",
    "        _filter = re.sub(rem_ptrn, \"\", _filter)\n",
    "        \n",
    "        # split by comma and remove empty strings\n",
    "        filters_in_line = _filter.strip().split(\",\")\n",
    "        \n",
    "        filters_in_line = list(map(lambda x: x.strip(), filters_in_line))\n",
    "        \n",
    "        filters_in_line = list(filter(lambda x: len(x), filters_in_line))\n",
    "        \n",
    "        filters_out.extend(filters_in_line)\n",
    "    \n",
    "    \n",
    "    # substitute old names\n",
    "    filters_out = list(map(lambda x: old_names[x] if x in old_names else x, filters_out))\n",
    "    \n",
    "    return filters_out\n",
    "    \n",
    "        \n",
    "    \n",
    "def extract_filters_from_filters_enabled(post: str):\n",
    "    \n",
    "    question_i = post.find(\"What filters do you have enabled?\")\n",
    "    \n",
    "    lines = post[question_i:].split(\"\\n\")\n",
    "    \n",
    "    names = list(filter(lambda x: len(x) , map(lambda x: x.strip(), lines[1].split(\",\"))))\n",
    "    \n",
    "    # substitute old names\n",
    "    names = list(map(lambda x: old_names[x] if x in old_names else x, names))\n",
    "    \n",
    "    return names\n",
    "    \n",
    "\n",
    "issues_bad = []\n",
    "\n",
    "headers = {\n",
    "    \"System configuration\": extract_filters_from_system_config,\n",
    "    \"What filters do you have enabled?\": extract_filters_from_filters_enabled,\n",
    "}\n",
    "\n",
    "possible_filter_names = set()\n",
    "\n",
    "for _, issue in out_df[out_df['should_include']].iterrows():\n",
    "    \n",
    "    if all(x not in issue.raw_post for x in headers):\n",
    "        print(issue.id, issue.issue_url)\n",
    "        \n",
    "        issues_bad.append(issue.id)\n",
    "        \n",
    "    if \"System configuration\" in issue.raw_post:\n",
    "        \n",
    "        possible_filter_names.update(extract_filters_from_system_config(issue.raw_post))\n",
    "       \n",
    "    else:\n",
    "        possible_filter_names.update(extract_filters_from_filters_enabled(issue.raw_post))\n",
    "\n",
    "\n",
    "print(possible_filter_names)\n",
    "        \n",
    "print(len(issues_bad))\n",
    "        "
   ]
  },
  {
   "cell_type": "code",
   "execution_count": 111,
   "metadata": {},
   "outputs": [
    {
     "name": "stdout",
     "output_type": "stream",
     "text": [
      "{'Spam', 'Polskie Filtry Ciasteczkowe', 'Polskie Filtry Elementów Irytujących', '(Obsolete) Norsk adblockliste', 'Polski Antyirytujący Dodatek Specjalny', \"Fanboy's Spanish/Portuguese\", 'AlleBlock', '(Obsolete) Schacks Adblock Plus liste', 'RU AdList: BitBlock', 'uBlock Origin & AdGuard', 'Malware Domains', '(Obsolete) Prebake', 'RU AdList', \"CJX's Annoyance List\", 'road-block', 'Adguard DNS filter', 'Official Polish filters for AdBlock', 'ADgk Mobile China list', 'Polskie Filtry Społecznościowe', 'Iranian', '(Obsolete) Anti-Adblock Killer \\\\| Reek', 'YanFung mobile ads', 'BarbBlock', 'Polskie Filtry Wewnętrzne', 'Filtros Nauscopicos', 'hufilter', 'Thai Ads Filters', 'KAD - Przekręty', 'ChinaList+EasyList', '(Obsolete) Anti-Adblock Killer', 'Hungarian', '(Obsolete) Korean Adblock List', \"Fanboy's Swedish\", 'AdGuard Safari', 'Adblock-Persian list'}\n",
      "35\n"
     ]
    }
   ],
   "source": [
    "with open(\"lists.json\") as f:\n",
    "    lists_dict = json.load(f)\n",
    "lists_keys_set = set(lists_dict.keys())\n",
    "\n",
    "#make them lowercase\n",
    "# lists_keys_set = set(map(lambda x: x.lower(), lists_keys_set))\n",
    "# possible_filter_names = set(map(lambda x: x.lower(), possible_filter_names))\n",
    "\n",
    "print(possible_filter_names - lists_keys_set)\n",
    "print(len(possible_filter_names - lists_keys_set))\n"
   ]
  },
  {
   "cell_type": "code",
   "execution_count": 50,
   "metadata": {},
   "outputs": [
    {
     "name": "stdout",
     "output_type": "stream",
     "text": [
      "EasyList\n",
      "Bulgarian list\n",
      "EasyList Dutch\n",
      "EasyList Germany\n",
      "EasyList Italy\n",
      "Liste AR\n",
      "Liste FR\n",
      "ROList\n",
      "EasyPrivacy\n",
      "Icelandic ABP List\n",
      "Greek AdBlock Filter\n",
      "Fanboy's Annoyances\n",
      "Fanboy's Social Blocking List\n",
      "EasyList Portuguese\n",
      "Peter Lowe's Blocklist\n",
      "Adblock Warning Removal List\n",
      "Online Malicious URL Blocklist\n",
      "RU AdList: Counters\n",
      "Fanboy's Enhanced Tracking List\n",
      "Estonian List\n",
      "Fanboy's Anti-Facebook List\n",
      "I don't care about cookies\n",
      "EasyList Spanish\n",
      "ROLIST2\n",
      "Fanboy's Anti-thirdparty Fonts\n",
      "EasyList Cookie List\n",
      "EasyList Polish\n",
      "IndianList\n",
      "Filter unblocking search ads and self-promotion\n",
      "AdGuard Mobile Ads filter\n",
      "AdGuard Turkish filter\n",
      "AdGuard Annoyances filter\n",
      "AdGuard DNS filter\n",
      "AdGuard French filter\n",
      "AdGuard URL Tracking filter\n",
      "AdGuard Cookie Notices filter\n",
      "AdGuard Popups filter\n",
      "AdGuard Russian filter\n",
      "AdGuard Mobile App Banners filter\n",
      "AdGuard Other Annoyances filter\n",
      "AdGuard Chinese filter\n",
      "AdGuard Widgets filter\n",
      "AdGuard Ukrainian filter\n",
      "AdGuard Base filter\n",
      "AdGuard Tracking Protection filter\n",
      "AdGuard Social Media filter\n",
      "AdGuard Experimental filter\n",
      "AdGuard German filter\n",
      "AdGuard Japanese filter\n",
      "AdGuard Dutch filter\n",
      "AdGuard Spanish/Portuguese filter\n",
      "{'ABPindo': {'repo': 'ABPindo/indonesianadblockrules', 'files': ['/subscriptions/abpindo.txt']}, 'EasyList China': {'repo': 'easylist/easylistchina', 'files': ['/easylistchina.txt']}, 'EasyList Czech and Slovak': {'repo': 'tomasko126/easylistczechandslovak', 'files': ['/filters.txt']}, 'EasyList Hebrew': {'repo': 'easylist/EasyListHebrew', 'files': ['/EasyListHebrew.txt']}, 'EasyList Lithuania': {'repo': 'EasyList-Lithuania/easylist_lithuania', 'files': ['/easylistlithuania.txt']}, 'Latvian List': {'repo': 'Latvian-List/adblock-latvian', 'files': ['/lists/latvian-list.txt']}, 'AdBlockID': {'repo': 'realodix/AdBlockID', 'files': ['/dist/adblockid.adfl.txt']}, 'Web Annoyances Ultralist': {'repo': 'yourduskquibbles/webannoyances', 'files': ['/ultralist.txt']}, 'EasyList Thailand': {'repo': 'easylist-thailand/easylist-thailand', 'files': ['/subscription/easylist-thailand.txt']}, 'Hungarian filter': {'repo': 'hufilter/hufilter', 'files': ['/hufilter-adguard.txt']}, 'Xfiles': {'repo': 'gioxx/xfiles', 'files': ['/filtri.txt']}, 'ABPVN List': {'repo': 'abpvn/abpvn', 'files': ['/filter/abpvn_adguard.txt']}, 'Official Polish filters for AdBlock, uBlock Origin & AdGuard': {'repo': 'MajkiIT/polish-ads-filter', 'files': ['/polish-adblock-filters/adblock.txt']}, 'Polish GDPR-Cookies Filters': {'repo': 'MajkiIT/polish-ads-filter', 'files': ['/cookies_filters/adblock_cookies.txt']}, \"CJX's Annoyances List\": {'repo': 'cjx82630/cjxlist', 'files': ['/cjx-annoyance.txt']}, 'Polish Social Filters': {'repo': 'MajkiIT/polish-ads-filter', 'files': ['/adblock_social_filters/adblock_social_list.txt']}, 'List-KR': {'repo': 'List-KR/List-KR', 'files': ['/filter-AdGuard.txt']}, 'xinggsf': {'repo': 'xinggsf/Adblock-Plus-Rule', 'files': ['/rule.txt']}, 'KAD - Anti-Scam': {'repo': 'FiltersHeroes/KAD', 'files': ['/KAD.txt']}, 'Adblock List for Finland': {'repo': 'finnish-easylist-addition/finnish-easylist-addition', 'files': ['/Finland_adb.txt']}, 'Persian Blocker': {'repo': 'MasterKia/PersianBlocker', 'files': ['/PersianBlocker.txt']}, 'road-block light': {'repo': 'tcptomato/ROad-Block', 'files': ['/road-block-filters-light.txt']}, 'Polish Annoyances Filters': {'repo': 'PolishFiltersTeam/PolishAnnoyanceFilters', 'files': ['/PPB.txt']}, 'Polish Anti Adblock Filters': {'repo': 'olegwukr/polish-privacy-filters', 'files': ['/anti-adblock.txt']}, 'NoCoin Filter List': {'repo': 'hoshsadiq/adblock-nocoin-list', 'files': ['/nocoin.txt']}, \"Frellwit's Swedish Filter\": {'repo': 'lassekongo83/Frellwits-filter-lists', 'files': ['/Frellwits-Swedish-Filter.txt']}, 'YousList': {'repo': 'yous/YousList', 'files': ['/youslist.txt']}, 'Polish Anti-Annoying Special Supplement': {'repo': 'PolishFiltersTeam/PolishAntiAnnoyingSpecialSupplement', 'files': ['/polish_rss_filters.txt']}, \"Dandelion Sprout's Nordic Filters\": {'repo': 'DandelionSprout/adfilt', 'files': ['/NorwegianExperimentalList%20alternate%20versions/NordicFiltersAdGuard.txt']}, \"Dandelion Sprout's Annoyances List\": {'repo': 'DandelionSprout/adfilt', 'files': ['/AnnoyancesList']}, 'Legitimate URL Shortener': {'repo': 'DandelionSprout/adfilt', 'files': ['/LegitimateURLShortener.txt']}, \"Dandelion Sprout's Serbo-Croatian List\": {'repo': 'DandelionSprout/adfilt', 'files': ['/SerboCroatianList.txt']}, 'Macedonian adBlock Filters': {'repo': 'RandomAdversary/Macedonian-adBlock-Filters', 'files': ['/Filters']}}\n",
      "0\n"
     ]
    }
   ],
   "source": [
    "# filters json file from Adguard\n",
    "# https://github.com/AdguardTeam/AdguardBrowserExtension/blob/9d6cb002e71774d7bfde999cd662043347958211/Extension/filters/edge/filters.json#L1125\n",
    "\n",
    "with open(\"adguard-filter-def.json\") as f:\n",
    "    filters_adguard = json.load(f)\n",
    "    \n",
    "lists_dict = {}\n",
    "\n",
    "i = 0\n",
    "\n",
    "for _filter in filters_adguard['filters']:\n",
    "    if \"githubusercontent.com\" in _filter['subscriptionUrl']:\n",
    "        \n",
    "        # split the url into owner_repo, branch and file\n",
    "        _, _, _, owner, repo, branch, *file = _filter['subscriptionUrl'].split(\"/\")\n",
    "        \n",
    "        file = \"/\"+\"/\".join(file)\n",
    "        \n",
    "        lists_dict[_filter['name']] = {\n",
    "            \"repo\": owner+\"/\"+repo,\n",
    "            \"files\": [file]\n",
    "        }\n",
    "        \n",
    "    else:\n",
    "        print(_filter['name'])\n",
    "        \n",
    "print(lists_dict)\n",
    "print(i)\n",
    "\n",
    "# json.dump(lists_dict, open(\"lists.json\", \"w\"), indent=4)\n"
   ]
  },
  {
   "cell_type": "markdown",
   "metadata": {},
   "source": [
    " issues to drop\n",
    " 1. those with bad structures\n",
    " 2. those with commits from different repos\n",
    " 3. those with bad filter rule extractions\n",
    " 4. those with deprectated or unfound filter names from the Adguard filter registry"
   ]
  },
  {
   "cell_type": "code",
   "execution_count": 9,
   "metadata": {},
   "outputs": [],
   "source": [
    "filter_names_df = pd.read_csv(\"adguard-neg/filter-names.csv\")\n",
    "filter_names_df = filter_names_df[filter_names_df['success'] == True]\n",
    "filter_names_df.drop(columns=[\"error\"], inplace=True)\n",
    "filter_names_df.rename(columns={\"success\": \"filter_success\"}, inplace=True)"
   ]
  },
  {
   "cell_type": "code",
   "execution_count": 10,
   "metadata": {},
   "outputs": [],
   "source": [
    "data_df = out_df.merge(filter_names_df, on=\"id\", how=\"left\")\n",
    "data_df['should_include'] = data_df[\"should_include\"] & data_df[\"filter_success\"]\n",
    "data_df.drop(columns=[\"filter_success\"], inplace=True)\n",
    "data_df.drop_duplicates(subset=[\"id\"], inplace=True)"
   ]
  },
  {
   "cell_type": "code",
   "execution_count": 11,
   "metadata": {},
   "outputs": [],
   "source": [
    "data_df['should_include'].value_counts()\n",
    "data_df.to_csv(\"adguard-neg/adguard-data.csv\", index=False)"
   ]
  },
  {
   "cell_type": "code",
   "execution_count": 15,
   "metadata": {},
   "outputs": [],
   "source": [
    "folder_names_neg = set(os.listdir(\"adguard-neg/filterlists\"))\n",
    "folder_names = set(os.listdir(\"data/filterlists\"))"
   ]
  },
  {
   "cell_type": "code",
   "execution_count": null,
   "metadata": {},
   "outputs": [],
   "source": []
  }
 ],
 "metadata": {
  "kernelspec": {
   "display_name": "openwpm",
   "language": "python",
   "name": "python3"
  },
  "language_info": {
   "codemirror_mode": {
    "name": "ipython",
    "version": 3
   },
   "file_extension": ".py",
   "mimetype": "text/x-python",
   "name": "python",
   "nbconvert_exporter": "python",
   "pygments_lexer": "ipython3",
   "version": "3.10.4"
  }
 },
 "nbformat": 4,
 "nbformat_minor": 2
}
